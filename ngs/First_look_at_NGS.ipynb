{
 "cells": [
  {
   "cell_type": "markdown",
   "metadata": {},
   "source": [
    "# First look at data\n",
    "\n",
    "**Prepare the data**<br>\n",
    "\n",
    "Files we work with : Ecoli_1.fastq and Ecoli_2.fastq.\n",
    "The files are on the directory : /exercises/alignment/first_look/\n",
    "\n",
    "1. You will see a couple of reads in here. We will try to count the number of reads that there are. A read is always four lines, it may look like there are more lines but it is because the lines are wrapped. Try opening the file with \"less -S file\" and you should see it:<br>\n",
    "\n",
    "- Header line starts with \"@\"\n",
    "- Sequence line with the DNA sequence\n",
    "- Middle header line with a \"+\" and sometimes also the header\n",
    "- Base-quality line phred scaled probability that the base is wrong\n",
    "\n",
    "_First step is to prepare the files and the folder:_"
   ]
  },
  {
   "cell_type": "code",
   "execution_count": 1,
   "metadata": {},
   "outputs": [
    {
     "name": "stdout",
     "output_type": "stream",
     "text": [
      "/home/jupyter-admin/ngs/exercises/alignment/first_look\n",
      "/home/jupyter-admin/ngs/exercises/alignment/first_look\n"
     ]
    }
   ],
   "source": [
    "! mkdir -p exercises/alignment/first_look/\n",
    "%cd exercises/alignment/first_look/\n",
    "! pwd"
   ]
  },
  {
   "cell_type": "markdown",
   "metadata": {},
   "source": [
    "2. Try to count the number of reads in the file. You can of course do this by looking into the file, but this gets hard when there are millions of reads in a file. Remember that the header always starts with \"@\". Try to do this using grep and wc. How many reads do you get using both approaches?\n",
    "Do you get the same count using both approaches?  If not why?"
   ]
  },
  {
   "cell_type": "code",
   "execution_count": 2,
   "metadata": {},
   "outputs": [
    {
     "name": "stdout",
     "output_type": "stream",
     "text": [
      "25\n",
      "25\n"
     ]
    }
   ],
   "source": [
    "! grep @ILLUMINA /exercises/alignment/first_look/Ecoli_1.fastq | wc -l \n",
    "! grep @ILLUMINA /exercises/alignment/first_look/Ecoli_2.fastq | wc -l "
   ]
  },
  {
   "cell_type": "markdown",
   "metadata": {},
   "source": [
    "3. Compare the headers of the first reads. They should be identical except for the last character - this means that these two reads are paired together, ie. they are the DNA sequences from the two ends of the DNA fragment. It is important that they are in sync, ie. that read 5 in file 1 is paired together with read 5 in file 2"
   ]
  },
  {
   "cell_type": "code",
   "execution_count": 3,
   "metadata": {},
   "outputs": [
    {
     "name": "stdout",
     "output_type": "stream",
     "text": [
      "@ILLUMINA-3BDE4F_0027:1:1:5721:1035#ACTTGA/1\n",
      "@ILLUMINA-3BDE4F_0027:1:1:10125:1027#ACTTGA/1\n",
      "@ILLUMINA-3BDE4F_0027:1:1:17603:1047#ACTTGA/1\n",
      "@ILLUMINA-3BDE4F_0027:1:1:5355:1050#ACTTGA/1\n",
      "@ILLUMINA-3BDE4F_0027:1:1:10405:1058#ACTTGA/1\n",
      "@ILLUMINA-3BDE4F_0027:1:1:6213:1064#ACTTGA/1\n",
      "@ILLUMINA-3BDE4F_0027:1:1:6884:1061#ACTTGA/1\n",
      "@ILLUMINA-3BDE4F_0027:1:1:11388:1067#ACTTGA/1\n",
      "@ILLUMINA-3BDE4F_0027:1:1:14766:1059#ACTTGA/1\n",
      "@ILLUMINA-3BDE4F_0027:1:1:1389:1079#ACTTGA/1\n",
      "@ILLUMINA-3BDE4F_0027:1:1:5721:1035#ACTTGA/2\n",
      "@ILLUMINA-3BDE4F_0027:1:1:10125:1027#ACTTGA/2\n",
      "@ILLUMINA-3BDE4F_0027:1:1:17603:1047#ACTTGA/2\n",
      "@ILLUMINA-3BDE4F_0027:1:1:5355:1050#ACTTGA/2\n",
      "@ILLUMINA-3BDE4F_0027:1:1:10405:1058#ACTTGA/2\n",
      "@ILLUMINA-3BDE4F_0027:1:1:2958:1128#ACTTGA/2\n",
      "@ILLUMINA-3BDE4F_0027:1:1:6213:1064#ACTTGA/2\n",
      "@ILLUMINA-3BDE4F_0027:1:1:6884:1061#ACTTGA/2\n",
      "@ILLUMINA-3BDE4F_0027:1:1:11388:1067#ACTTGA/2\n",
      "@ILLUMINA-3BDE4F_0027:1:1:14766:1059#ACTTGA/2\n"
     ]
    }
   ],
   "source": [
    "! grep \"@ILLUMINA\" /exercises/alignment/first_look/Ecoli_1.fastq | head \n",
    "! grep \"@ILLUMINA\" /exercises/alignment/first_look/Ecoli_2.fastq | head \n"
   ]
  },
  {
   "cell_type": "markdown",
   "metadata": {},
   "source": [
    "4. Lets try to see if they in sync. We will grep the header lines from each file and remove the last character (this is 1 or 2 dependent on the pair) using sed (sed 's/what_to_remove/replace_with/'), the '$' means only at the end of the line."
   ]
  },
  {
   "cell_type": "code",
   "execution_count": 4,
   "metadata": {},
   "outputs": [],
   "source": [
    "! grep \"^@ILLUMINA\" /exercises/alignment/first_look/Ecoli_1.fastq | sed 's/1$//' > Ecoli_1.headers\n",
    "! grep \"^@ILLUMINA\" /exercises/alignment/first_look/Ecoli_2.fastq | sed 's/2$//' > Ecoli_2.headers"
   ]
  },
  {
   "cell_type": "markdown",
   "metadata": {},
   "source": [
    "5. Look at the two files, now they should contain headers from each pair. Try to paste them together and see the output. Are they in sync?"
   ]
  },
  {
   "cell_type": "code",
   "execution_count": 5,
   "metadata": {},
   "outputs": [
    {
     "name": "stdout",
     "output_type": "stream",
     "text": [
      "@ILLUMINA-3BDE4F_0027:1:1:5721:1035#ACTTGA/\t@ILLUMINA-3BDE4F_0027:1:1:5721:1035#ACTTGA/\n",
      "@ILLUMINA-3BDE4F_0027:1:1:10125:1027#ACTTGA/\t@ILLUMINA-3BDE4F_0027:1:1:10125:1027#ACTTGA/\n",
      "@ILLUMINA-3BDE4F_0027:1:1:17603:1047#ACTTGA/\t@ILLUMINA-3BDE4F_0027:1:1:17603:1047#ACTTGA/\n",
      "@ILLUMINA-3BDE4F_0027:1:1:5355:1050#ACTTGA/\t@ILLUMINA-3BDE4F_0027:1:1:5355:1050#ACTTGA/\n",
      "@ILLUMINA-3BDE4F_0027:1:1:10405:1058#ACTTGA/\t@ILLUMINA-3BDE4F_0027:1:1:10405:1058#ACTTGA/\n",
      "@ILLUMINA-3BDE4F_0027:1:1:6213:1064#ACTTGA/\t@ILLUMINA-3BDE4F_0027:1:1:2958:1128#ACTTGA/\n",
      "@ILLUMINA-3BDE4F_0027:1:1:6884:1061#ACTTGA/\t@ILLUMINA-3BDE4F_0027:1:1:6213:1064#ACTTGA/\n",
      "@ILLUMINA-3BDE4F_0027:1:1:11388:1067#ACTTGA/\t@ILLUMINA-3BDE4F_0027:1:1:6884:1061#ACTTGA/\n",
      "@ILLUMINA-3BDE4F_0027:1:1:14766:1059#ACTTGA/\t@ILLUMINA-3BDE4F_0027:1:1:11388:1067#ACTTGA/\n",
      "@ILLUMINA-3BDE4F_0027:1:1:1389:1079#ACTTGA/\t@ILLUMINA-3BDE4F_0027:1:1:14766:1059#ACTTGA/\n",
      "@ILLUMINA-3BDE4F_0027:1:1:4040:1079#ACTTGA/\t@ILLUMINA-3BDE4F_0027:1:1:1389:1079#ACTTGA/\n",
      "@ILLUMINA-3BDE4F_0027:1:1:6452:1078#ACTTGA/\t@ILLUMINA-3BDE4F_0027:1:1:4040:1079#ACTTGA/\n",
      "@ILLUMINA-3BDE4F_0027:1:1:7924:1077#ACTTGA/\t@ILLUMINA-3BDE4F_0027:1:1:6452:1078#ACTTGA/\n",
      "@ILLUMINA-3BDE4F_0027:1:1:15491:1074#ACTTGA/\t@ILLUMINA-3BDE4F_0027:1:1:7924:1077#ACTTGA/\n",
      "@ILLUMINA-3BDE4F_0027:1:1:1754:1088#ACTTGA/\t@ILLUMINA-3BDE4F_0027:1:1:15491:1074#ACTTGA/\n",
      "@ILLUMINA-3BDE4F_0027:1:1:6044:1101#ACTTGA/\t@ILLUMINA-3BDE4F_0027:1:1:1754:1088#ACTTGA/\n",
      "@ILLUMINA-3BDE4F_0027:1:1:3149:1109#ACTTGA/\t@ILLUMINA-3BDE4F_0027:1:1:6044:1101#ACTTGA/\n",
      "@ILLUMINA-3BDE4F_0027:1:1:9044:1108#ACTTGA/\t@ILLUMINA-3BDE4F_0027:1:1:3149:1109#ACTTGA/\n",
      "@ILLUMINA-3BDE4F_0027:1:1:2958:1128#ACTTGA/\t@ILLUMINA-3BDE4F_0027:1:1:9044:1108#ACTTGA/\n",
      "@ILLUMINA-3BDE4F_0027:1:1:4523:1130#ACTTGA/\t@ILLUMINA-3BDE4F_0027:1:1:4523:1130#ACTTGA/\n",
      "@ILLUMINA-3BDE4F_0027:1:1:11483:1138#ACTTGA/\t@ILLUMINA-3BDE4F_0027:1:1:11483:1138#ACTTGA/\n",
      "@ILLUMINA-3BDE4F_0027:1:1:12618:1139#ACTTGA/\t@ILLUMINA-3BDE4F_0027:1:1:12618:1139#ACTTGA/\n",
      "@ILLUMINA-3BDE4F_0027:1:1:10214:1152#ACTTGA/\t@ILLUMINA-3BDE4F_0027:1:1:10214:1152#ACTTGA/\n",
      "@ILLUMINA-3BDE4F_0027:1:1:11705:1152#ACTTGA/\t@ILLUMINA-3BDE4F_0027:1:1:11705:1152#ACTTGA/\n",
      "@ILLUMINA-3BDE4F_0027:1:1:4541:1155#ACTTGA/\t@ILLUMINA-3BDE4F_0027:1:1:4541:1155#ACTTGA/\n"
     ]
    }
   ],
   "source": [
    "! paste Ecoli_1.headers Ecoli_2.headers"
   ]
  },
  {
   "cell_type": "markdown",
   "metadata": {},
   "source": [
    "6. Again, this only works for a few lines, try to use the program diff - it will print out lines that are not exactly the same in the two files. The command is called like: \"diff file1 file2\""
   ]
  },
  {
   "cell_type": "code",
   "execution_count": 6,
   "metadata": {},
   "outputs": [
    {
     "name": "stdout",
     "output_type": "stream",
     "text": [
      "5a6\n",
      "> @ILLUMINA-3BDE4F_0027:1:1:2958:1128#ACTTGA/\n",
      "19d19\n",
      "< @ILLUMINA-3BDE4F_0027:1:1:2958:1128#ACTTGA/\n"
     ]
    }
   ],
   "source": [
    "! diff Ecoli_1.headers Ecoli_2.headers"
   ]
  },
  {
   "cell_type": "markdown",
   "metadata": {},
   "source": [
    "7. What I did was to take one read in file 2 and switched it around, can you figure out which read number it was and where it should be to fix the files?"
   ]
  },
  {
   "cell_type": "code",
   "execution_count": 7,
   "metadata": {},
   "outputs": [
    {
     "name": "stdout",
     "output_type": "stream",
     "text": [
      "19:@ILLUMINA-3BDE4F_0027:1:1:2958:1128#ACTTGA/\n"
     ]
    }
   ],
   "source": [
    "! grep -n \"@ILLUMINA-3BDE4F_0027:1:1:2958:1128#ACTTGA/\" Ecoli_1.headers\n"
   ]
  },
  {
   "cell_type": "code",
   "execution_count": 8,
   "metadata": {},
   "outputs": [
    {
     "name": "stdout",
     "output_type": "stream",
     "text": [
      "6:@ILLUMINA-3BDE4F_0027:1:1:2958:1128#ACTTGA/\n"
     ]
    }
   ],
   "source": [
    "! grep -n \"@ILLUMINA-3BDE4F_0027:1:1:2958:1128#ACTTGA/\" Ecoli_2.headers"
   ]
  },
  {
   "cell_type": "code",
   "execution_count": null,
   "metadata": {},
   "outputs": [],
   "source": []
  }
 ],
 "metadata": {
  "kernelspec": {
   "display_name": "Python 3",
   "language": "python",
   "name": "python3"
  },
  "language_info": {
   "codemirror_mode": {
    "name": "ipython",
    "version": 3
   },
   "file_extension": ".py",
   "mimetype": "text/x-python",
   "name": "python",
   "nbconvert_exporter": "python",
   "pygments_lexer": "ipython3",
   "version": "3.6.7"
  }
 },
 "nbformat": 4,
 "nbformat_minor": 4
}
