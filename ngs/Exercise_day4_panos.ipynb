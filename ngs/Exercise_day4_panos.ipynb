{
 "cells": [
  {
   "cell_type": "markdown",
   "metadata": {},
   "source": [
    "# RNA-seq exercises\n",
    "For this exercise, we will go through the main steps of differential expression analysis, including:<br>\n",
    "a) Retrieving Samples information<br>\n",
    "b) Alignment to a reference genome<br>\n",
    "c) Read count<br>\n",
    "c) Statistical analyses<br>\n",
    "\n",
    "### General samples information\n",
    "Use SRA (Sequence Read Archive; https://www.ncbi.nlm.nih.gov/sra) to retrieve information about\n",
    "these two samples with the following accession numbers: SRR057656 and SRR057642. For each\n",
    "accession number you will have a specific page with several information and useful links (e.g. GEO\n",
    "Web Link)\n",
    "Using the information you will find, try to answer to the following questions:\n",
    "\n",
    "**Q1: For which study were they generated?** <br>\n",
    "\n"
   ]
  },
  {
   "cell_type": "raw",
   "metadata": {},
   "source": []
  },
  {
   "cell_type": "markdown",
   "metadata": {},
   "source": [
    "**Q2: How many bases were generated for each run?** <br>\n"
   ]
  },
  {
   "cell_type": "code",
   "execution_count": null,
   "metadata": {},
   "outputs": [],
   "source": []
  },
  {
   "cell_type": "markdown",
   "metadata": {},
   "source": [
    "**Q3: Which sample is the case and which sample is the control?**<br>\n"
   ]
  },
  {
   "cell_type": "code",
   "execution_count": null,
   "metadata": {},
   "outputs": [],
   "source": []
  },
  {
   "cell_type": "markdown",
   "metadata": {},
   "source": [
    "**Q4: Is it single-end or paired end sequencing?**<br>\n"
   ]
  },
  {
   "cell_type": "code",
   "execution_count": null,
   "metadata": {},
   "outputs": [],
   "source": []
  },
  {
   "cell_type": "markdown",
   "metadata": {},
   "source": [
    "**Q5: What can you tell about the extraction method and the data generation of both samples?**<br>\n"
   ]
  },
  {
   "cell_type": "code",
   "execution_count": null,
   "metadata": {},
   "outputs": [],
   "source": []
  },
  {
   "cell_type": "markdown",
   "metadata": {},
   "source": [
    "\n",
    "**Reads alignment**\n",
    "\n",
    "Now we know what kind of samples we are analyzing. Because of limited power/students and time,\n",
    "we will work assuming these files have been already filtered and trimmed according with what you\n",
    "have already learnt in the previous lectures. Moreover, we will consider only the chr9 that contains the\n",
    "PCA3 gene. This gene produces a spliced, long non-coding RNA that is highly overexpressed in most\n",
    "types of prostate cancer cells and is used as a specific biomarker for this type of cancer through the\n",
    "analysis of peripheral blood and urine.\n",
    "All the files you will need can be also found on the following directory:\n",
    "/exercises/rnaseq2\n",
    "Because they are derived by paired-end sequencing, you will see two fastq files for each sample.\n",
    "\n",
    "HiSat2 is the next development of TopHat2. To use it we need to index our reference (chr9).\n",
    "\n",
    "1) Let us create a symbolink link the reference sequence for chromosome 9:\n"
   ]
  },
  {
   "cell_type": "code",
   "execution_count": 3,
   "metadata": {},
   "outputs": [
    {
     "name": "stdout",
     "output_type": "stream",
     "text": [
      "/home/jupyter-ngs_user_23/ex_rnaseq/ex_rnaseq/ex_rnaseq\n",
      "/home/jupyter-ngs_user_23/ex_rnaseq/ex_rnaseq/ex_rnaseq\n",
      "GRCh38_Chr9.fasta\n"
     ]
    }
   ],
   "source": [
    "!cd\n",
    "!rm -Rf ex_rnaseq\n",
    "!mkdir ex_rnaseq\n",
    "%cd ex_rnaseq\n",
    "!ln -s /exercises/rnaseq2/GRCh38_Chr9.fasta ./GRCh38_Chr9.fasta\n",
    "!pwd\n",
    "!ls"
   ]
  },
  {
   "cell_type": "markdown",
   "metadata": {},
   "source": [
    "2) Let's build the indexed reference, \n"
   ]
  },
  {
   "cell_type": "code",
   "execution_count": null,
   "metadata": {},
   "outputs": [],
   "source": [
    "!hisat2-build GRCh38_Chr9.fasta GRCh38_Chr9\n"
   ]
  },
  {
   "cell_type": "markdown",
   "metadata": {},
   "source": [
    "Now we are ready to do the alignment. Choose one sample eg. here he chose the affected samples. You do not need to copy your fastq files in your directory, simply recall them from the directory in which they are stored"
   ]
  },
  {
   "cell_type": "code",
   "execution_count": 8,
   "metadata": {},
   "outputs": [
    {
     "name": "stderr",
     "output_type": "stream",
     "text": [
      "1562296 reads; of these:\n",
      "  1562296 (100.00%) were paired; of these:\n",
      "    799488 (51.17%) aligned concordantly 0 times\n",
      "    717734 (45.94%) aligned concordantly exactly 1 time\n",
      "    45074 (2.89%) aligned concordantly >1 times\n",
      "    ----\n",
      "    799488 pairs aligned concordantly 0 times; of these:\n",
      "      25180 (3.15%) aligned discordantly 1 time\n",
      "    ----\n",
      "    774308 pairs aligned 0 times concordantly or discordantly; of these:\n",
      "      1548616 mates make up the pairs; of these:\n",
      "        579457 (37.42%) aligned 0 times\n",
      "        533726 (34.46%) aligned exactly 1 time\n",
      "        435433 (28.12%) aligned >1 times\n",
      "81.45% overall alignment rate\n"
     ]
    }
   ],
   "source": [
    "%%bash\n",
    "hisat2 -x GRCh38_Chr9 -1 /exercises/rnaseq2/SRR057642_chr9-1.fastq \\\n",
    "    -2 /exercises/rnaseq2/SRR057642_chr9-2.fastq> affected.sam"
   ]
  },
  {
   "cell_type": "markdown",
   "metadata": {},
   "source": [
    "Look at the output you have in the screen after the alignment. It provides some statistics about the alignment. Reply to Q6-Q9 based on this output.\n"
   ]
  },
  {
   "cell_type": "markdown",
   "metadata": {},
   "source": [
    "<b>Q6. how many reads were paired?</b>"
   ]
  },
  {
   "cell_type": "markdown",
   "metadata": {},
   "source": []
  },
  {
   "cell_type": "markdown",
   "metadata": {},
   "source": [
    "<b>Q7: how many read pairs have multi mapping sites?</b>\n"
   ]
  },
  {
   "cell_type": "markdown",
   "metadata": {},
   "source": []
  },
  {
   "cell_type": "markdown",
   "metadata": {},
   "source": [
    "<b>Q8: how many read pairs have been mapped exactly one time?</b>\n"
   ]
  },
  {
   "cell_type": "markdown",
   "metadata": {},
   "source": []
  },
  {
   "cell_type": "markdown",
   "metadata": {},
   "source": [
    "<b>Q9: what is the overall alignment rate?</b>\n"
   ]
  },
  {
   "cell_type": "markdown",
   "metadata": {},
   "source": []
  },
  {
   "cell_type": "markdown",
   "metadata": {},
   "source": [
    "We then convert the sam files in bam files that will be used for the next analyses. This file should be sorted not by position, but by read name, to that each pair is consecutive.\n"
   ]
  },
  {
   "cell_type": "code",
   "execution_count": 10,
   "metadata": {},
   "outputs": [
    {
     "name": "stdout",
     "output_type": "stream",
     "text": [
      "[bam_sort_core] merging from 1 files and 1 in-memory blocks...\n"
     ]
    }
   ],
   "source": [
    "!samtools view  affected.sam -Sb | samtools sort -n  > affected.bam"
   ]
  },
  {
   "cell_type": "markdown",
   "metadata": {},
   "source": [
    "Now we are ready to do the counting of how many reads map to each gene/transcript. For this, we use HTSeq. \n",
    "\n",
    "Type htseq-count --help to see what options you can use. \n",
    "HTseq needs a bam-file with the RNA alignments as input (which we just made) and a gtf or gff file that contains \n",
    "information on where the different exons and transcripts are on chr9. Copy the gff file (chr9.gff) in your working directory, try to look at it (using the command “head”). \n",
    "\n",
    "You will see that it contains information on the transcripts and the different exons.\n"
   ]
  },
  {
   "cell_type": "code",
   "execution_count": 12,
   "metadata": {},
   "outputs": [
    {
     "name": "stdout",
     "output_type": "stream",
     "text": [
      "rm: cannot remove 'chr9.gff': No such file or directory\n",
      "##sequence-region NC_000009.12 1 138394717\n",
      "##species https://www.ncbi.nlm.nih.gov/Taxonomy/Browser/wwwtax.cgi?id=9606\n",
      "NC_000009.12\tRefSeq\tregion\t1\t138394717\t.\t+\t.\tID=id891813;Dbxref=taxon:9606;Name=9;chromosome=9;gbkey=Src;genome=chromosome;mol_type=genomic DNA\n",
      "NC_000009.12\tBestRefSeq\tpseudogene\t11987\t14525\t.\t+\t.\tID=gene24997;Dbxref=GeneID:100287596,HGNC:HGNC:37106;Name=DDX11L5;description=DEAD/H-box helicase 11 like 5;gbkey=Gene;gene=DDX11L5;gene_biotype=transcribed_pseudogene;pseudo=true\n",
      "NC_000009.12\tBestRefSeq\ttranscript\t11987\t14525\t.\t+\t.\tID=rna73405;Parent=gene24997;Dbxref=GeneID:100287596,Genbank:NR_051986.1,HGNC:HGNC:37106;Name=NR_051986.1;gbkey=misc_RNA;gene=DDX11L5;product=DEAD/H-box helicase 11 like 5;transcript_id=NR_051986.1\n",
      "NC_000009.12\tBestRefSeq\texon\t11987\t12340\t.\t+\t.\tID=id891814;Parent=rna73405;Dbxref=GeneID:100287596,Genbank:NR_051986.1,HGNC:HGNC:37106;gbkey=misc_RNA;gene=DDX11L5;product=DEAD/H-box helicase 11 like 5;transcript_id=NR_051986.1\n",
      "NC_000009.12\tBestRefSeq\texon\t12726\t12834\t.\t+\t.\tID=id891815;Parent=rna73405;Dbxref=GeneID:100287596,Genbank:NR_051986.1,HGNC:HGNC:37106;gbkey=misc_RNA;gene=DDX11L5;product=DEAD/H-box helicase 11 like 5;transcript_id=NR_051986.1\n",
      "NC_000009.12\tBestRefSeq\texon\t13334\t14525\t.\t+\t.\tID=id891816;Parent=rna73405;Dbxref=GeneID:100287596,Genbank:NR_051986.1,HGNC:HGNC:37106;gbkey=misc_RNA;gene=DDX11L5;product=DEAD/H-box helicase 11 like 5;transcript_id=NR_051986.1\n",
      "NC_000009.12\tBestRefSeq%2CGnomon\tgene\t14475\t30487\t.\t-\t.\tID=gene24998;Dbxref=GeneID:100287171,HGNC:HGNC:24361,MIM:613632;Name=WASHC1;description=WASH complex subunit 1;gbkey=Gene;gene=WASHC1;gene_biotype=protein_coding;gene_synonym=FAM39E,WASH,WASH1\n",
      "NC_000009.12\tGnomon\tmRNA\t14475\t30487\t.\t-\t.\tID=rna73406;Parent=gene24998;Dbxref=GeneID:100287171,Genbank:XM_011517666.2,HGNC:HGNC:24361,MIM:613632;Name=XM_011517666.2;gbkey=mRNA;gene=WASHC1;model_evidence=Supporting evidence includes similarity to: 46 ESTs%2C 6 Proteins%2C 2 long SRA reads%2C and 100%25 coverage of the annotated genomic feature by RNAseq alignments%2C including 7 samples with support for all annotated introns;product=WASH complex subunit 1%2C transcript variant X11;transcript_id=XM_011517666.2\n"
     ]
    }
   ],
   "source": [
    "!rm chr9.gff\n",
    "!ln -s /exercises/rnaseq2/chr9.gff .\n",
    "!head chr9.gff"
   ]
  },
  {
   "cell_type": "markdown",
   "metadata": {},
   "source": [
    "HTseq will output the counts in two columns with <i>column1=gene</i> and <i>column2=#reads</i>, we will put that in two files called affetcted.counts.txt or control.counts.txt. "
   ]
  },
  {
   "cell_type": "code",
   "execution_count": 20,
   "metadata": {},
   "outputs": [
    {
     "name": "stdout",
     "output_type": "stream",
     "text": [
      "100000 GFF lines processed.\n",
      "152461 GFF lines processed.\n",
      "100000 BAM alignment record pairs processed.\n",
      "200000 BAM alignment record pairs processed.\n",
      "300000 BAM alignment record pairs processed.\n",
      "400000 BAM alignment record pairs processed.\n",
      "500000 BAM alignment record pairs processed.\n",
      "600000 BAM alignment record pairs processed.\n",
      "700000 BAM alignment record pairs processed.\n",
      "800000 BAM alignment record pairs processed.\n",
      "900000 BAM alignment record pairs processed.\n",
      "1000000 BAM alignment record pairs processed.\n",
      "1100000 BAM alignment record pairs processed.\n",
      "1200000 BAM alignment record pairs processed.\n",
      "1300000 BAM alignment record pairs processed.\n",
      "1400000 BAM alignment record pairs processed.\n",
      "1500000 BAM alignment record pairs processed.\n",
      "1562296 BAM alignment pairs processed.\n"
     ]
    }
   ],
   "source": [
    "! htseq-count -f bam -s yes -m intersection-strict --idattr=gene affected.bam chr9.gff > affected.counts.txt"
   ]
  },
  {
   "cell_type": "markdown",
   "metadata": {},
   "source": [
    "The 2-column file output contains the number of reads aligned to each genomic features on chromosome 9. Using standard UNIX tools, it is possible to look at this output."
   ]
  },
  {
   "cell_type": "code",
   "execution_count": 17,
   "metadata": {},
   "outputs": [
    {
     "name": "stdout",
     "output_type": "stream",
     "text": [
      "AAED1\t31\n",
      "ABCA1\t148\n",
      "ABCA2\t1211\n",
      "ABHD17B\t95\n",
      "ABL1\t778\n",
      "ABO\t3\n",
      "ACER2\t154\n",
      "ACO1\t285\n",
      "ACTG1P14\t259\n",
      "ACTG1P19\t101\n",
      "ZNF658\t15\n",
      "ZNF658B\t2\n",
      "ZNF782\t46\n",
      "ZNF79\t43\n",
      "ZNF883\t3\n",
      "__no_feature\t477314\n",
      "__ambiguous\t2353\n",
      "__too_low_aQual\t524107\n",
      "__not_aligned\t8159\n",
      "__alignment_not_unique\t262911\n"
     ]
    }
   ],
   "source": [
    "!head affected.counts.txt\n",
    "\n",
    "!tail affected.counts.txt"
   ]
  },
  {
   "cell_type": "markdown",
   "metadata": {},
   "source": [
    "<b>Q10: How many total reads are counted in the genomic features? </b>\n"
   ]
  },
  {
   "cell_type": "code",
   "execution_count": null,
   "metadata": {},
   "outputs": [],
   "source": []
  },
  {
   "cell_type": "markdown",
   "metadata": {},
   "source": [
    "<b>Q11. What is the raw read count for PCA3 gene in your sample?</b>\n"
   ]
  },
  {
   "cell_type": "code",
   "execution_count": null,
   "metadata": {},
   "outputs": [],
   "source": []
  },
  {
   "cell_type": "markdown",
   "metadata": {},
   "source": [
    "***STATISTICAL ANALYSES***\n",
    "\n",
    "We will now perform differential expression among all the affected and control samples of the project. In this case, read count was performed using transcript accession numbers from Ensembl.\n",
    "\n",
    "Copy the directory \"counts\" in your working directory, then enter in the directory\n",
    "\n"
   ]
  },
  {
   "cell_type": "code",
   "execution_count": 21,
   "metadata": {},
   "outputs": [
    {
     "name": "stdout",
     "output_type": "stream",
     "text": [
      "/home/jupyter-ngs_user_23/ex_rnaseq\n",
      "/home/jupyter-ngs_user_23/ex_rnaseq/counts\n"
     ]
    }
   ],
   "source": [
    "%cd ~/ex_rnaseq/\n",
    "! cp -r /exercises/rnaseq2/counts .\n",
    "%cd ~/ex_rnaseq/counts\n"
   ]
  },
  {
   "cell_type": "markdown",
   "metadata": {},
   "source": [
    "<b> The following analyses will be run using R. The commented code is reported here, but we will run this R script using the bash command line "
   ]
  },
  {
   "cell_type": "raw",
   "metadata": {},
   "source": [
    "#if you need to install DESeq2:\n",
    "\n",
    "source(\"https://bioconductor.org/biocLite.R\")\n",
    "biocLite(\"DESeq2\")\n",
    "\n",
    "library(DESeq2)\n",
    "library(RColorBrewer)\n",
    "library(gplots)\n",
    "library(ggplot2)\n",
    "\n",
    "\n",
    "##Then, you can start to import the table and perform the differential expression analysis\n",
    "\n",
    "description = read.table (\"convertion_table.tab\",  quote =\"\\\"\", sep=\"\\t\", header = T)\n",
    "\n",
    "sample_table = data.frame(sampleName = description$description, filename= paste(description$files,\".counts.txt\", sep=\"\"), condition = description$group)\n",
    "\n",
    "dds = DESeqDataSetFromHTSeqCount(sample_table, design = ~condition)\n",
    "dds$condition <- relevel(dds$condition, ref=\"normal\")\n",
    "\n",
    "\n",
    "description = read.table (\"convertion_table.tab\",  quote =\"\\\"\", sep=\"\\t\", header = T)\n",
    "\n",
    "sample_table = data.frame(sampleName = description$description, filename= paste(description$files,\".counts.txt\", sep=\"\"), condition = description$group)\n",
    "\n",
    "dds = DESeqDataSetFromHTSeqCount(sample_table, design = ~condition)\n",
    "dds$condition <- relevel(dds$condition, ref=\"normal\")\n",
    "\n",
    "### Now we have loaded the count data into the \"dds\" object, you should see a small description of the dds object. Let us \n",
    "### try to use the plotCounts function (try ?plotCounts to see what it can do). Because the genes are annotated using \n",
    "### Ensembl-id we need to find the ID for PCA3 antisense transcript. Let’s try to see the first 10 genes that we have \n",
    "### information on:\n",
    "\n",
    "head(rownames(dds))\n",
    "\n",
    "### This kind of id are gene ids from Ensembl. To figure out which what the id is for PCA3 you need to go to the \n",
    "### Ensembl-website and search for PCA3. Get the ENSG identifier and let’s save this (replace the id below with the id you ### find at Ensembl):\n",
    "\n",
    "ensg = \"ENSGxxxxxxxxx\" # could you find the id?\n",
    "\n",
    "#Then we can try to plot the gene\n",
    "\n",
    "jpeg(\"PCA3.jpeg\")\n",
    "plotCounts(dds, gene=ensg, main=\"PCA3\")\n",
    "dev.off()\n"
   ]
  },
  {
   "cell_type": "markdown",
   "metadata": {},
   "source": [
    "In the code, we have omitted the ENSG id for the gene PCA3. This kind of id are gene ids from Ensembl. \n",
    "To figure out which what the id is for PCA3 you need to go to the Ensembl-website and search for PCA3. \n",
    "\n",
    "<b> Q12 What is the ENSG identifier for PCA3?</b>"
   ]
  },
  {
   "cell_type": "code",
   "execution_count": null,
   "metadata": {},
   "outputs": [],
   "source": []
  },
  {
   "cell_type": "markdown",
   "metadata": {},
   "source": [
    "Now, let's run the R code and display the PCA3.jpg graph"
   ]
  },
  {
   "cell_type": "code",
   "execution_count": 22,
   "metadata": {},
   "outputs": [
    {
     "name": "stdout",
     "output_type": "stream",
     "text": [
      "cp: missing destination file operand after '/home'\n",
      "Try 'cp --help' for more information.\n",
      "Loading required package: S4Vectors\n",
      "Loading required package: stats4\n",
      "Loading required package: BiocGenerics\n",
      "Loading required package: parallel\n",
      "\n",
      "Attaching package: ‘BiocGenerics’\n",
      "\n",
      "The following objects are masked from ‘package:parallel’:\n",
      "\n",
      "    clusterApply, clusterApplyLB, clusterCall, clusterEvalQ,\n",
      "    clusterExport, clusterMap, parApply, parCapply, parLapply,\n",
      "    parLapplyLB, parRapply, parSapply, parSapplyLB\n",
      "\n",
      "The following objects are masked from ‘package:stats’:\n",
      "\n",
      "    IQR, mad, sd, var, xtabs\n",
      "\n",
      "The following objects are masked from ‘package:base’:\n",
      "\n",
      "    anyDuplicated, append, as.data.frame, basename, cbind, colnames,\n",
      "    dirname, do.call, duplicated, eval, evalq, Filter, Find, get, grep,\n",
      "    grepl, intersect, is.unsorted, lapply, Map, mapply, match, mget,\n",
      "    order, paste, pmax, pmax.int, pmin, pmin.int, Position, rank,\n",
      "    rbind, Reduce, rownames, sapply, setdiff, sort, table, tapply,\n",
      "    union, unique, unsplit, which, which.max, which.min\n",
      "\n",
      "\n",
      "Attaching package: ‘S4Vectors’\n",
      "\n",
      "The following object is masked from ‘package:base’:\n",
      "\n",
      "    expand.grid\n",
      "\n",
      "Loading required package: IRanges\n",
      "Loading required package: GenomicRanges\n",
      "Loading required package: GenomeInfoDb\n",
      "Loading required package: SummarizedExperiment\n",
      "Loading required package: Biobase\n",
      "Welcome to Bioconductor\n",
      "\n",
      "    Vignettes contain introductory material; view with\n",
      "    'browseVignettes()'. To cite Bioconductor, see\n",
      "    'citation(\"Biobase\")', and for packages 'citation(\"pkgname\")'.\n",
      "\n",
      "Loading required package: DelayedArray\n",
      "Loading required package: matrixStats\n",
      "\n",
      "Attaching package: ‘matrixStats’\n",
      "\n",
      "The following objects are masked from ‘package:Biobase’:\n",
      "\n",
      "    anyMissing, rowMedians\n",
      "\n",
      "Loading required package: BiocParallel\n",
      "\n",
      "Attaching package: ‘DelayedArray’\n",
      "\n",
      "The following objects are masked from ‘package:matrixStats’:\n",
      "\n",
      "    colMaxs, colMins, colRanges, rowMaxs, rowMins, rowRanges\n",
      "\n",
      "The following objects are masked from ‘package:base’:\n",
      "\n",
      "    aperm, apply, rowsum\n",
      "\n",
      "\n",
      "Attaching package: ‘gplots’\n",
      "\n",
      "The following object is masked from ‘package:IRanges’:\n",
      "\n",
      "    space\n",
      "\n",
      "The following object is masked from ‘package:S4Vectors’:\n",
      "\n",
      "    space\n",
      "\n",
      "The following object is masked from ‘package:stats’:\n",
      "\n",
      "    lowess\n",
      "\n",
      "                carcinoma_C02 carcinoma_C03 carcinoma_C05 carcinoma_C06\n",
      "ENSG00000005238            52            50           129            71\n",
      "ENSG00000010438             0             0             1             0\n",
      "ENSG00000011454           203           122           431           238\n",
      "ENSG00000023318           127           111           381           295\n",
      "ENSG00000030304             0             0             0             0\n",
      "ENSG00000041982           457           202           502           201\n",
      "                carcinoma_C07 carcinoma_C08 carcinoma_C09 carcinoma_C11\n",
      "ENSG00000005238           118            22            26            54\n",
      "ENSG00000010438             0             0             0             0\n",
      "ENSG00000011454           454           126            92           300\n",
      "ENSG00000023318           388           105            82           202\n",
      "ENSG00000030304             0             0             0             2\n",
      "ENSG00000041982           456           257            92           302\n",
      "                carcinoma_C13 carcinoma_C15 carcinoma_C16 carcinoma_C18\n",
      "ENSG00000005238           110           148           153           158\n",
      "ENSG00000010438             0             3             1             0\n",
      "ENSG00000011454           649           548           427           621\n",
      "ENSG00000023318           312           337           210           277\n",
      "ENSG00000030304             0             0             1             0\n",
      "ENSG00000041982           434          1770           776          1479\n",
      "                carcinoma_C19 carcinoma_C23 carcinoma_C27 carcinoma_C29\n",
      "ENSG00000005238           170           234           106           162\n",
      "ENSG00000010438             3             4             0             0\n",
      "ENSG00000011454           576           601           449           769\n",
      "ENSG00000023318           349           260           263           264\n",
      "ENSG00000030304             0             0             0             0\n",
      "ENSG00000041982          1400           840           881          2880\n",
      "                carcinoma_C33 carcinoma_C37 carcinoma_C39 carcinoma_C40\n",
      "ENSG00000005238           147            45             0           171\n",
      "ENSG00000010438             1             0             0             6\n",
      "ENSG00000011454           554           206             0           510\n",
      "ENSG00000023318           305           205             0           342\n",
      "ENSG00000030304             0             1             0             0\n",
      "ENSG00000041982          1069           213             0           285\n",
      "                normal_N02 normal_N03 normal_N06 normal_N08 normal_N09\n",
      "ENSG00000005238         29         34         34         15         17\n",
      "ENSG00000010438          0          0          0          0          0\n",
      "ENSG00000011454        165        126        132         83        112\n",
      "ENSG00000023318        112        102        140         37         62\n",
      "ENSG00000030304          0          0          0          0          0\n",
      "ENSG00000041982        440        331        174        241        157\n",
      "                normal_N11 normal_N13 normal_N15 normal_N19 normal_N23\n",
      "ENSG00000005238        128        145        205        115        172\n",
      "ENSG00000010438          2          7          0          0          0\n",
      "ENSG00000011454        410        331        373        346        454\n",
      "ENSG00000023318        132        234        190        143        147\n",
      "ENSG00000030304          0          0          1          1          1\n",
      "ENSG00000041982        714       3843       1440       2004        957\n",
      "[1] \"ENSG00000005238\" \"ENSG00000010438\" \"ENSG00000011454\" \"ENSG00000023318\"\n",
      "[5] \"ENSG00000030304\" \"ENSG00000041982\"\n",
      "null device \n",
      "          1 \n",
      "rlog() may take a few minutes with 30 or more samples,\n",
      "vst() is a much faster transformation\n",
      "null device \n",
      "          1 \n",
      "null device \n",
      "          1 \n",
      "estimating size factors\n",
      "estimating dispersions\n",
      "gene-wise dispersion estimates\n",
      "mean-dispersion relationship\n",
      "final dispersion estimates\n",
      "fitting model and testing\n",
      "-- replacing outliers and refitting for 17 genes\n",
      "-- DESeq argument 'minReplicatesForReplace' = 7 \n",
      "-- original counts are preserved in counts(dds)\n",
      "estimating dispersions\n",
      "fitting model and testing\n",
      "log2 fold change (MLE): condition carcinoma vs normal \n",
      "Wald test p-value: condition carcinoma vs normal \n",
      "DataFrame with 2337 rows and 6 columns\n",
      "                          baseMean       log2FoldChange             lfcSE\n",
      "                         <numeric>            <numeric>         <numeric>\n",
      "ENSG00000188801   19.2573415196912     1.18939406003767  0.29777493426838\n",
      "ENSG00000225937   480.778510375897      3.0680563251613 0.775504184373086\n",
      "ENSG00000095303    58.538641581268    -1.42967523427511 0.392299385473741\n",
      "ENSG00000041982   543.759023658429   -0.923905164116327 0.285486839896729\n",
      "ENSG00000135040   65.8982826875397    0.779298558123439 0.237720799414376\n",
      "...                            ...                  ...               ...\n",
      "ENSG00000261402 0.0266056386496069 -0.00438210021283435   3.1604392783609\n",
      "ENSG00000261432 0.0782416432893725    0.207205776490958  3.15914914399822\n",
      "ENSG00000261447  0.184549071506328  -0.0876607765703658  2.76044930234849\n",
      "ENSG00000261696                  0                   NA                NA\n",
      "ENSG00000261793                  0                   NA                NA\n",
      "                                stat               pvalue               padj\n",
      "                           <numeric>            <numeric>          <numeric>\n",
      "ENSG00000188801     3.99427192540553 6.48933534151187e-05 0.0290507188349807\n",
      "ENSG00000225937     3.95620860207415 7.61486732240647e-05 0.0290507188349807\n",
      "ENSG00000095303     -3.6443473714562 0.000268071160216802 0.0681794317484733\n",
      "ENSG00000041982    -3.23624432023045  0.00121113672424819 0.0840088473273974\n",
      "ENSG00000135040     3.27820939540519  0.00104467869268558 0.0840088473273974\n",
      "...                              ...                  ...                ...\n",
      "ENSG00000261402 -0.00138654782670181    0.998893695250741                 NA\n",
      "ENSG00000261432   0.0655891086638342      0.9477049604691                 NA\n",
      "ENSG00000261447  -0.0317559813526686    0.974666650707496                 NA\n",
      "ENSG00000261696                   NA                   NA                 NA\n",
      "ENSG00000261793                   NA                   NA                 NA\n",
      "log2 fold change (MLE): condition carcinoma vs normal \n",
      "Wald test p-value: condition carcinoma vs normal \n",
      "DataFrame with 2 rows and 6 columns\n",
      "                        baseMean   log2FoldChange             lfcSE\n",
      "                       <numeric>        <numeric>         <numeric>\n",
      "ENSG00000188801 19.2573415196912 1.18939406003767  0.29777493426838\n",
      "ENSG00000225937 480.778510375897  3.0680563251613 0.775504184373086\n",
      "                            stat               pvalue               padj\n",
      "                       <numeric>            <numeric>          <numeric>\n",
      "ENSG00000188801 3.99427192540553 6.48933534151187e-05 0.0290507188349807\n",
      "ENSG00000225937 3.95620860207415 7.61486732240647e-05 0.0290507188349807\n",
      "log2 fold change (MLE): condition carcinoma vs normal \n",
      "Wald test p-value: condition carcinoma vs normal \n",
      "DataFrame with 1 row and 6 columns\n",
      "                        baseMean  log2FoldChange             lfcSE\n",
      "                       <numeric>       <numeric>         <numeric>\n",
      "ENSG00000225937 480.778510375897 3.0680563251613 0.775504184373086\n",
      "                            stat               pvalue               padj\n",
      "                       <numeric>            <numeric>          <numeric>\n",
      "ENSG00000225937 3.95620860207415 7.61486732240647e-05 0.0290507188349807\n"
     ]
    }
   ],
   "source": [
    "!cp /home/jupyter-sdc_admin/exercise_day4.R .\n",
    "\n",
    "! /usr/bin/Rscript exercise_day4.R\n"
   ]
  },
  {
   "cell_type": "code",
   "execution_count": 23,
   "metadata": {},
   "outputs": [
    {
     "data": {
      "image/jpeg": "[encoded data removed]",
      "text/plain": [
       "<IPython.core.display.Image object>"
      ]
     },
     "execution_count": 23,
     "metadata": {},
     "output_type": "execute_result"
    }
   ],
   "source": [
    "from IPython.display import Image\n",
    "\n",
    "Image(filename='PCA3.jpeg') "
   ]
  },
  {
   "cell_type": "markdown",
   "metadata": {},
   "source": [
    "<b>Q13: Are the counts as expected from your knowledge about PCA3? Why?</b>\n",
    "\n"
   ]
  },
  {
   "cell_type": "raw",
   "metadata": {},
   "source": []
  },
  {
   "cell_type": "markdown",
   "metadata": {},
   "source": [
    "***Outlier detection:***\n",
    "    \n",
    "To check the distribution of the dataset and investigate possible outliers, we have included in the R code the commands below to do principal component analysis and hierarchical clustering and on the data. We are using the function \"rlog\" to convert the data in to log2 as well as stabilizing the variance. Try to get the help rlog by writing \"?rlog\" in R - read the description of the function.\n",
    "<i>\n",
    "dds_rlog = rlog(dds)\t\n",
    "dists = as.matrix(dist(t(assay(dds_rlog))))\n",
    "rownames(dists) = colnames(dists) = colData(dds)$condition\n",
    "hmcol = colorRampPalette(brewer.pal(9, \"GnBu\"))(100)\n",
    "\n",
    "\n",
    "z <- plotPCA(dds_rlog, intgroup=c(\"condition\"))\n",
    "nudge <- position_nudge(y=2)\n",
    "z + geom_label(aes(label = sample_table$sampleName), position = nudge)\n",
    "\n",
    "\n",
    "heatmap.2(dists, trace='none', col=rev(hmcol))\n",
    "</i>\n",
    "\n",
    "Run the following cell to see the heatmap generated by the R script\n",
    "\n",
    "\n"
   ]
  },
  {
   "cell_type": "code",
   "execution_count": 24,
   "metadata": {},
   "outputs": [
    {
     "data": {
      "image/jpeg": "[encoded data removed]",
      "text/plain": [
       "<IPython.core.display.Image object>"
      ]
     },
     "execution_count": 24,
     "metadata": {},
     "output_type": "execute_result"
    }
   ],
   "source": [
    "from IPython.display import Image\n",
    "\n",
    "Image(filename='PCAplot.jpeg') "
   ]
  },
  {
   "cell_type": "markdown",
   "metadata": {},
   "source": [
    "<b>Q14: Do you see any obvious trends in the PCA plot?</b>\n"
   ]
  },
  {
   "cell_type": "markdown",
   "metadata": {},
   "source": []
  },
  {
   "cell_type": "markdown",
   "metadata": {},
   "source": [
    " "
   ]
  },
  {
   "cell_type": "code",
   "execution_count": 25,
   "metadata": {},
   "outputs": [
    {
     "data": {
      "image/jpeg": "[encoded data removed]",
      "text/plain": [
       "<IPython.core.display.Image object>"
      ]
     },
     "execution_count": 25,
     "metadata": {},
     "output_type": "execute_result"
    }
   ],
   "source": [
    "from IPython.display import Image\n",
    "\n",
    "Image(filename='HM.jpeg') "
   ]
  },
  {
   "cell_type": "markdown",
   "metadata": {},
   "source": [
    "<b> Q15: When looking at the hierarchical clustering do you see any clusters? Do you see any possible outliers that would need to be excluded? </b>\n"
   ]
  },
  {
   "cell_type": "markdown",
   "metadata": {},
   "source": [
    "***Differential expression***\n",
    "\n",
    "Let us try to identify differentially expressed genes in the data. To do this, in the R script, we have fit a negative binomial GLM where we compare the groups specified by the condition factor (carcinoma vs. normal) (see object \"sample_table\" if in doubt).\n",
    "The command returns a fitted model object. To get hold of the differential expression test results from this object, you can see below  a brief view of what is inside of the results.\n",
    "\n",
    "\n",
    "\n"
   ]
  },
  {
   "cell_type": "code",
   "execution_count": 26,
   "metadata": {},
   "outputs": [
    {
     "data": {
      "text/html": [
       "<div>\n",
       "<style scoped>\n",
       "    .dataframe tbody tr th:only-of-type {\n",
       "        vertical-align: middle;\n",
       "    }\n",
       "\n",
       "    .dataframe tbody tr th {\n",
       "        vertical-align: top;\n",
       "    }\n",
       "\n",
       "    .dataframe thead th {\n",
       "        text-align: right;\n",
       "    }\n",
       "</style>\n",
       "<table border=\"1\" class=\"dataframe\">\n",
       "  <thead>\n",
       "    <tr style=\"text-align: right;\">\n",
       "      <th></th>\n",
       "      <th>baseMean</th>\n",
       "      <th>log2FoldChange</th>\n",
       "      <th>lfcSE</th>\n",
       "      <th>stat</th>\n",
       "      <th>pvalue</th>\n",
       "      <th>padj</th>\n",
       "    </tr>\n",
       "  </thead>\n",
       "  <tbody>\n",
       "    <tr>\n",
       "      <td>ENSG00000005238</td>\n",
       "      <td>67.836848</td>\n",
       "      <td>-0.110802</td>\n",
       "      <td>0.160569</td>\n",
       "      <td>-0.690061</td>\n",
       "      <td>0.490156</td>\n",
       "      <td>0.758206</td>\n",
       "    </tr>\n",
       "    <tr>\n",
       "      <td>ENSG00000010438</td>\n",
       "      <td>0.437109</td>\n",
       "      <td>-0.112180</td>\n",
       "      <td>1.562657</td>\n",
       "      <td>-0.071788</td>\n",
       "      <td>0.942770</td>\n",
       "      <td>NaN</td>\n",
       "    </tr>\n",
       "    <tr>\n",
       "      <td>ENSG00000011454</td>\n",
       "      <td>246.299620</td>\n",
       "      <td>0.058742</td>\n",
       "      <td>0.104600</td>\n",
       "      <td>0.561582</td>\n",
       "      <td>0.574401</td>\n",
       "      <td>0.806395</td>\n",
       "    </tr>\n",
       "    <tr>\n",
       "      <td>ENSG00000023318</td>\n",
       "      <td>162.252414</td>\n",
       "      <td>0.256984</td>\n",
       "      <td>0.226781</td>\n",
       "      <td>1.133179</td>\n",
       "      <td>0.257139</td>\n",
       "      <td>0.564184</td>\n",
       "    </tr>\n",
       "    <tr>\n",
       "      <td>ENSG00000030304</td>\n",
       "      <td>0.188529</td>\n",
       "      <td>-0.421022</td>\n",
       "      <td>2.210724</td>\n",
       "      <td>-0.190445</td>\n",
       "      <td>0.848960</td>\n",
       "      <td>NaN</td>\n",
       "    </tr>\n",
       "    <tr>\n",
       "      <td>...</td>\n",
       "      <td>...</td>\n",
       "      <td>...</td>\n",
       "      <td>...</td>\n",
       "      <td>...</td>\n",
       "      <td>...</td>\n",
       "      <td>...</td>\n",
       "    </tr>\n",
       "    <tr>\n",
       "      <td>ENSG00000261432</td>\n",
       "      <td>0.078242</td>\n",
       "      <td>0.207206</td>\n",
       "      <td>3.159149</td>\n",
       "      <td>0.065589</td>\n",
       "      <td>0.947705</td>\n",
       "      <td>NaN</td>\n",
       "    </tr>\n",
       "    <tr>\n",
       "      <td>ENSG00000261447</td>\n",
       "      <td>0.184549</td>\n",
       "      <td>-0.087661</td>\n",
       "      <td>2.760449</td>\n",
       "      <td>-0.031756</td>\n",
       "      <td>0.974667</td>\n",
       "      <td>NaN</td>\n",
       "    </tr>\n",
       "    <tr>\n",
       "      <td>ENSG00000261534</td>\n",
       "      <td>19.552481</td>\n",
       "      <td>-0.336353</td>\n",
       "      <td>0.276722</td>\n",
       "      <td>-1.215494</td>\n",
       "      <td>0.224178</td>\n",
       "      <td>0.547948</td>\n",
       "    </tr>\n",
       "    <tr>\n",
       "      <td>ENSG00000261696</td>\n",
       "      <td>0.000000</td>\n",
       "      <td>NaN</td>\n",
       "      <td>NaN</td>\n",
       "      <td>NaN</td>\n",
       "      <td>NaN</td>\n",
       "      <td>NaN</td>\n",
       "    </tr>\n",
       "    <tr>\n",
       "      <td>ENSG00000261793</td>\n",
       "      <td>0.000000</td>\n",
       "      <td>NaN</td>\n",
       "      <td>NaN</td>\n",
       "      <td>NaN</td>\n",
       "      <td>NaN</td>\n",
       "      <td>NaN</td>\n",
       "    </tr>\n",
       "  </tbody>\n",
       "</table>\n",
       "<p>2337 rows × 6 columns</p>\n",
       "</div>"
      ],
      "text/plain": [
       "                   baseMean  log2FoldChange     lfcSE      stat    pvalue  \\\n",
       "ENSG00000005238   67.836848       -0.110802  0.160569 -0.690061  0.490156   \n",
       "ENSG00000010438    0.437109       -0.112180  1.562657 -0.071788  0.942770   \n",
       "ENSG00000011454  246.299620        0.058742  0.104600  0.561582  0.574401   \n",
       "ENSG00000023318  162.252414        0.256984  0.226781  1.133179  0.257139   \n",
       "ENSG00000030304    0.188529       -0.421022  2.210724 -0.190445  0.848960   \n",
       "...                     ...             ...       ...       ...       ...   \n",
       "ENSG00000261432    0.078242        0.207206  3.159149  0.065589  0.947705   \n",
       "ENSG00000261447    0.184549       -0.087661  2.760449 -0.031756  0.974667   \n",
       "ENSG00000261534   19.552481       -0.336353  0.276722 -1.215494  0.224178   \n",
       "ENSG00000261696    0.000000             NaN       NaN       NaN       NaN   \n",
       "ENSG00000261793    0.000000             NaN       NaN       NaN       NaN   \n",
       "\n",
       "                     padj  \n",
       "ENSG00000005238  0.758206  \n",
       "ENSG00000010438       NaN  \n",
       "ENSG00000011454  0.806395  \n",
       "ENSG00000023318  0.564184  \n",
       "ENSG00000030304       NaN  \n",
       "...                   ...  \n",
       "ENSG00000261432       NaN  \n",
       "ENSG00000261447       NaN  \n",
       "ENSG00000261534  0.547948  \n",
       "ENSG00000261696       NaN  \n",
       "ENSG00000261793       NaN  \n",
       "\n",
       "[2337 rows x 6 columns]"
      ]
     },
     "execution_count": 26,
     "metadata": {},
     "output_type": "execute_result"
    }
   ],
   "source": [
    "import pandas as pd\n",
    "df1 = pd.read_csv(\"res.csv\")\n",
    "df1"
   ]
  },
  {
   "cell_type": "markdown",
   "metadata": {},
   "source": [
    "<b>Q16: Try to understand what is the content of the different columns of the results dataframe. What is a p-value and what is an adjusted p-value?</b>\n"
   ]
  },
  {
   "cell_type": "code",
   "execution_count": null,
   "metadata": {},
   "outputs": [],
   "source": []
  },
  {
   "cell_type": "markdown",
   "metadata": {},
   "source": [
    "<b>Q17: What is the log2FoldChange column?</b>\n",
    "\n"
   ]
  },
  {
   "cell_type": "code",
   "execution_count": null,
   "metadata": {},
   "outputs": [],
   "source": []
  },
  {
   "cell_type": "markdown",
   "metadata": {},
   "source": [
    "Let us order the results after the smallest adjusted p-value.\n",
    "\n",
    "\n"
   ]
  },
  {
   "cell_type": "code",
   "execution_count": 27,
   "metadata": {},
   "outputs": [
    {
     "data": {
      "text/html": [
       "<div>\n",
       "<style scoped>\n",
       "    .dataframe tbody tr th:only-of-type {\n",
       "        vertical-align: middle;\n",
       "    }\n",
       "\n",
       "    .dataframe tbody tr th {\n",
       "        vertical-align: top;\n",
       "    }\n",
       "\n",
       "    .dataframe thead th {\n",
       "        text-align: right;\n",
       "    }\n",
       "</style>\n",
       "<table border=\"1\" class=\"dataframe\">\n",
       "  <thead>\n",
       "    <tr style=\"text-align: right;\">\n",
       "      <th></th>\n",
       "      <th>baseMean</th>\n",
       "      <th>log2FoldChange</th>\n",
       "      <th>lfcSE</th>\n",
       "      <th>stat</th>\n",
       "      <th>pvalue</th>\n",
       "      <th>padj</th>\n",
       "    </tr>\n",
       "  </thead>\n",
       "  <tbody>\n",
       "    <tr>\n",
       "      <td>ENSG00000188801</td>\n",
       "      <td>19.257342</td>\n",
       "      <td>1.189394</td>\n",
       "      <td>0.297775</td>\n",
       "      <td>3.994272</td>\n",
       "      <td>0.000065</td>\n",
       "      <td>0.029051</td>\n",
       "    </tr>\n",
       "    <tr>\n",
       "      <td>ENSG00000225937</td>\n",
       "      <td>480.778510</td>\n",
       "      <td>3.068056</td>\n",
       "      <td>0.775504</td>\n",
       "      <td>3.956209</td>\n",
       "      <td>0.000076</td>\n",
       "      <td>0.029051</td>\n",
       "    </tr>\n",
       "    <tr>\n",
       "      <td>ENSG00000095303</td>\n",
       "      <td>58.538642</td>\n",
       "      <td>-1.429675</td>\n",
       "      <td>0.392299</td>\n",
       "      <td>-3.644347</td>\n",
       "      <td>0.000268</td>\n",
       "      <td>0.068179</td>\n",
       "    </tr>\n",
       "    <tr>\n",
       "      <td>ENSG00000041982</td>\n",
       "      <td>543.759024</td>\n",
       "      <td>-0.923905</td>\n",
       "      <td>0.285487</td>\n",
       "      <td>-3.236244</td>\n",
       "      <td>0.001211</td>\n",
       "      <td>0.084009</td>\n",
       "    </tr>\n",
       "    <tr>\n",
       "      <td>ENSG00000233901</td>\n",
       "      <td>10.392997</td>\n",
       "      <td>-1.226536</td>\n",
       "      <td>0.376465</td>\n",
       "      <td>-3.258035</td>\n",
       "      <td>0.001122</td>\n",
       "      <td>0.084009</td>\n",
       "    </tr>\n",
       "    <tr>\n",
       "      <td>...</td>\n",
       "      <td>...</td>\n",
       "      <td>...</td>\n",
       "      <td>...</td>\n",
       "      <td>...</td>\n",
       "      <td>...</td>\n",
       "      <td>...</td>\n",
       "    </tr>\n",
       "    <tr>\n",
       "      <td>ENSG00000261402</td>\n",
       "      <td>0.026606</td>\n",
       "      <td>-0.004382</td>\n",
       "      <td>3.160439</td>\n",
       "      <td>-0.001387</td>\n",
       "      <td>0.998894</td>\n",
       "      <td>NaN</td>\n",
       "    </tr>\n",
       "    <tr>\n",
       "      <td>ENSG00000261432</td>\n",
       "      <td>0.078242</td>\n",
       "      <td>0.207206</td>\n",
       "      <td>3.159149</td>\n",
       "      <td>0.065589</td>\n",
       "      <td>0.947705</td>\n",
       "      <td>NaN</td>\n",
       "    </tr>\n",
       "    <tr>\n",
       "      <td>ENSG00000261447</td>\n",
       "      <td>0.184549</td>\n",
       "      <td>-0.087661</td>\n",
       "      <td>2.760449</td>\n",
       "      <td>-0.031756</td>\n",
       "      <td>0.974667</td>\n",
       "      <td>NaN</td>\n",
       "    </tr>\n",
       "    <tr>\n",
       "      <td>ENSG00000261696</td>\n",
       "      <td>0.000000</td>\n",
       "      <td>NaN</td>\n",
       "      <td>NaN</td>\n",
       "      <td>NaN</td>\n",
       "      <td>NaN</td>\n",
       "      <td>NaN</td>\n",
       "    </tr>\n",
       "    <tr>\n",
       "      <td>ENSG00000261793</td>\n",
       "      <td>0.000000</td>\n",
       "      <td>NaN</td>\n",
       "      <td>NaN</td>\n",
       "      <td>NaN</td>\n",
       "      <td>NaN</td>\n",
       "      <td>NaN</td>\n",
       "    </tr>\n",
       "  </tbody>\n",
       "</table>\n",
       "<p>2337 rows × 6 columns</p>\n",
       "</div>"
      ],
      "text/plain": [
       "                   baseMean  log2FoldChange     lfcSE      stat    pvalue  \\\n",
       "ENSG00000188801   19.257342        1.189394  0.297775  3.994272  0.000065   \n",
       "ENSG00000225937  480.778510        3.068056  0.775504  3.956209  0.000076   \n",
       "ENSG00000095303   58.538642       -1.429675  0.392299 -3.644347  0.000268   \n",
       "ENSG00000041982  543.759024       -0.923905  0.285487 -3.236244  0.001211   \n",
       "ENSG00000233901   10.392997       -1.226536  0.376465 -3.258035  0.001122   \n",
       "...                     ...             ...       ...       ...       ...   \n",
       "ENSG00000261402    0.026606       -0.004382  3.160439 -0.001387  0.998894   \n",
       "ENSG00000261432    0.078242        0.207206  3.159149  0.065589  0.947705   \n",
       "ENSG00000261447    0.184549       -0.087661  2.760449 -0.031756  0.974667   \n",
       "ENSG00000261696    0.000000             NaN       NaN       NaN       NaN   \n",
       "ENSG00000261793    0.000000             NaN       NaN       NaN       NaN   \n",
       "\n",
       "                     padj  \n",
       "ENSG00000188801  0.029051  \n",
       "ENSG00000225937  0.029051  \n",
       "ENSG00000095303  0.068179  \n",
       "ENSG00000041982  0.084009  \n",
       "ENSG00000233901  0.084009  \n",
       "...                   ...  \n",
       "ENSG00000261402       NaN  \n",
       "ENSG00000261432       NaN  \n",
       "ENSG00000261447       NaN  \n",
       "ENSG00000261696       NaN  \n",
       "ENSG00000261793       NaN  \n",
       "\n",
       "[2337 rows x 6 columns]"
      ]
     },
     "execution_count": 27,
     "metadata": {},
     "output_type": "execute_result"
    }
   ],
   "source": [
    "df1.sort_values(\"padj\")"
   ]
  },
  {
   "cell_type": "markdown",
   "metadata": {},
   "source": [
    "Let us see how many genes are differentially expressed at a false discovery rate of 5%\n"
   ]
  },
  {
   "cell_type": "code",
   "execution_count": 28,
   "metadata": {},
   "outputs": [
    {
     "data": {
      "text/html": [
       "<div>\n",
       "<style scoped>\n",
       "    .dataframe tbody tr th:only-of-type {\n",
       "        vertical-align: middle;\n",
       "    }\n",
       "\n",
       "    .dataframe tbody tr th {\n",
       "        vertical-align: top;\n",
       "    }\n",
       "\n",
       "    .dataframe thead th {\n",
       "        text-align: right;\n",
       "    }\n",
       "</style>\n",
       "<table border=\"1\" class=\"dataframe\">\n",
       "  <thead>\n",
       "    <tr style=\"text-align: right;\">\n",
       "      <th></th>\n",
       "      <th>baseMean</th>\n",
       "      <th>log2FoldChange</th>\n",
       "      <th>lfcSE</th>\n",
       "      <th>stat</th>\n",
       "      <th>pvalue</th>\n",
       "      <th>padj</th>\n",
       "    </tr>\n",
       "  </thead>\n",
       "  <tbody>\n",
       "    <tr>\n",
       "      <td>ENSG00000188801</td>\n",
       "      <td>19.257342</td>\n",
       "      <td>1.189394</td>\n",
       "      <td>0.297775</td>\n",
       "      <td>3.994272</td>\n",
       "      <td>0.000065</td>\n",
       "      <td>0.029051</td>\n",
       "    </tr>\n",
       "    <tr>\n",
       "      <td>ENSG00000225937</td>\n",
       "      <td>480.778510</td>\n",
       "      <td>3.068056</td>\n",
       "      <td>0.775504</td>\n",
       "      <td>3.956209</td>\n",
       "      <td>0.000076</td>\n",
       "      <td>0.029051</td>\n",
       "    </tr>\n",
       "  </tbody>\n",
       "</table>\n",
       "</div>"
      ],
      "text/plain": [
       "                   baseMean  log2FoldChange     lfcSE      stat    pvalue  \\\n",
       "ENSG00000188801   19.257342        1.189394  0.297775  3.994272  0.000065   \n",
       "ENSG00000225937  480.778510        3.068056  0.775504  3.956209  0.000076   \n",
       "\n",
       "                     padj  \n",
       "ENSG00000188801  0.029051  \n",
       "ENSG00000225937  0.029051  "
      ]
     },
     "execution_count": 28,
     "metadata": {},
     "output_type": "execute_result"
    }
   ],
   "source": [
    "## using pandas - we will see more next \n",
    "\n",
    "df1[df1['padj']<.05]\n"
   ]
  },
  {
   "cell_type": "markdown",
   "metadata": {},
   "source": [
    "\n",
    "<b>Q18. How many genes are differentially expressed at a False Discovery Rate (FDR) of 5%?</b>\n"
   ]
  },
  {
   "cell_type": "code",
   "execution_count": null,
   "metadata": {},
   "outputs": [],
   "source": []
  },
  {
   "cell_type": "markdown",
   "metadata": {},
   "source": [
    "<b>Q19. Try to search for those genes in the Ensembl web-site. Which genes are they?</b>\n"
   ]
  },
  {
   "cell_type": "code",
   "execution_count": null,
   "metadata": {},
   "outputs": [],
   "source": []
  },
  {
   "cell_type": "markdown",
   "metadata": {},
   "source": [
    "\n",
    "<b>Q20. What is the direction and the dimension of the foldchange and what is the adjusted pvalue for PCA3?</b>"
   ]
  },
  {
   "cell_type": "code",
   "execution_count": null,
   "metadata": {},
   "outputs": [],
   "source": []
  },
  {
   "cell_type": "markdown",
   "metadata": {},
   "source": [
    " \n",
    "<b>Q21. When looking at the plot we made earlier of PCA3 (the plotCounts command) does it then make sense?</b>\n"
   ]
  },
  {
   "cell_type": "code",
   "execution_count": null,
   "metadata": {},
   "outputs": [],
   "source": []
  }
 ],
 "metadata": {
  "kernelspec": {
   "display_name": "Python 3",
   "language": "python",
   "name": "python3"
  },
  "language_info": {
   "codemirror_mode": {
    "name": "ipython",
    "version": 3
   },
   "file_extension": ".py",
   "mimetype": "text/x-python",
   "name": "python",
   "nbconvert_exporter": "python",
   "pygments_lexer": "ipython3",
   "version": "3.6.7"
  }
 },
 "nbformat": 4,
 "nbformat_minor": 4
}
