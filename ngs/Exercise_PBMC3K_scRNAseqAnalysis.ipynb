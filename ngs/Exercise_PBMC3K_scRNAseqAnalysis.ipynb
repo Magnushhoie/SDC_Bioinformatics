{
 "cells": [
  {
   "cell_type": "markdown",
   "metadata": {},
   "source": [
    "# Practical workshop on scRNA-seq analysis\n",
    "This workshop is conducted by ***Andreas Møller*** and ***Kedar Natarajan***. \n",
    "<br>You can contact us at<br>\n",
    "Andreas Møller: andreasfm@bmb.sdu.dk<br>\n",
    "Kedar Natarajan: knn@bmb.sdu.dk<br> \n",
    "***"
   ]
  },
  {
   "cell_type": "markdown",
   "metadata": {},
   "source": [
    "## scRNA-seq exercises\n",
    "This notebook contains the exercises which are required for the single cell genomics teaching module. \n",
    "The submission deadline is **May 18, 2020** <br>"
   ]
  },
  {
   "cell_type": "markdown",
   "metadata": {},
   "source": [
    "Towards the exercise, we have selected a smaller 10X Genomics dataset containing scRNA-seq of ~3k Peripheral blood mononuclear cells (PBMCs).\n",
    "You'll be required to \n",
    "\n",
    "- Write syntax to execute analysis questions\n",
    "- Produce visualisation, clustering and optionally mark cell types\n",
    "- Comment on analysis/motivation (selected cells)\n",
    "- Submit the complete notebook as Markdown for evaluation \n",
    "<br>\n",
    "\n",
    "_Note: You can use the PBMC10K jupyter notebook as a reference for the exercises_"
   ]
  },
  {
   "cell_type": "markdown",
   "metadata": {},
   "source": [
    "#### Please state your full name below"
   ]
  },
  {
   "cell_type": "markdown",
   "metadata": {},
   "source": [
    "#### *** Assignment submitted by: \" \" ***"
   ]
  },
  {
   "cell_type": "markdown",
   "metadata": {},
   "source": [
    "## Import packages"
   ]
  },
  {
   "cell_type": "code",
   "execution_count": 2,
   "metadata": {},
   "outputs": [],
   "source": [
    "import numpy as np\n",
    "import numpy as np\n",
    "import pandas as pd\n",
    "import scanpy as sc\n",
    "\n",
    "import matplotlib.pyplot as plt\n",
    "import matplotlib.colors as mplcol\n",
    "import matplotlib.font_manager\n",
    "import matplotlib as mpl\n",
    "\n",
    "import io\n",
    "import anndata\n",
    "from matplotlib import rcParams"
   ]
  },
  {
   "cell_type": "markdown",
   "metadata": {},
   "source": [
    "Please find scanpy documentation <a href='https://scanpy.readthedocs.io/en/latest/api/index.html'>here<a/>"
   ]
  },
  {
   "cell_type": "markdown",
   "metadata": {},
   "source": [
    "## Downloading the raw data"
   ]
  },
  {
   "cell_type": "code",
   "execution_count": 7,
   "metadata": {},
   "outputs": [
    {
     "name": "stdout",
     "output_type": "stream",
     "text": [
      "mkdir: cannot create directory ‘data’: File exists\n",
      "--2020-05-14 09:02:11--  http://cf.10xgenomics.com/samples/cell-exp/1.1.0/pbmc3k/pbmc3k_filtered_gene_bc_matrices.tar.gz\n",
      "Resolving cf.10xgenomics.com (cf.10xgenomics.com)... 13.225.103.117, 13.225.103.118, 13.225.103.8, ...\n",
      "Connecting to cf.10xgenomics.com (cf.10xgenomics.com)|13.225.103.117|:80... connected.\n",
      "HTTP request sent, awaiting response... 200 OK\n",
      "Length: 7621991 (7.3M) [application/x-tar]\n",
      "Saving to: ‘data/pbmc3k_filtered_gene_bc_matrices.tar.gz’\n",
      "\n",
      "data/pbmc3k_filtere 100%[===================>]   7.27M  --.-KB/s    in 0.07s   \n",
      "\n",
      "2020-05-14 09:02:11 (109 MB/s) - ‘data/pbmc3k_filtered_gene_bc_matrices.tar.gz’ saved [7621991/7621991]\n",
      "\n"
     ]
    }
   ],
   "source": [
    "# !mkdir data\n",
    "# !wget http://cf.10xgenomics.com/samples/cell-exp/1.1.0/pbmc3k/pbmc3k_filtered_gene_bc_matrices.tar.gz -O data/pbmc3k_filtered_gene_bc_matrices.tar.gz\n",
    "# !cd data; tar -xzf pbmc3k_filtered_gene_bc_matrices.tar.gz"
   ]
  },
  {
   "cell_type": "markdown",
   "metadata": {},
   "source": [
    "#### ***Note: The dataset are already downloaded and availible at \"/KNN_data/Data_3k/filtered_gene_bc_matrices/hg19/\" ***"
   ]
  },
  {
   "cell_type": "markdown",
   "metadata": {},
   "source": [
    "## Setup"
   ]
  },
  {
   "cell_type": "code",
   "execution_count": 8,
   "metadata": {},
   "outputs": [
    {
     "name": "stdout",
     "output_type": "stream",
     "text": [
      "scanpy==1.4.6 anndata==0.7.1 umap==0.4.2 numpy==1.17.0 scipy==1.4.1 pandas==0.25.1 scikit-learn==0.22.1 statsmodels==0.10.1 python-igraph==0.8.2 louvain==0.6.0\n"
     ]
    }
   ],
   "source": [
    "sc.settings.verbosity = 3           \n",
    "sc.logging.print_versions()\n",
    "sc.settings.set_figure_params(dpi=80)\n",
    "results_file = 'pbmc3k.h5ad'"
   ]
  },
  {
   "cell_type": "markdown",
   "metadata": {},
   "source": [
    "## Loading the data"
   ]
  },
  {
   "cell_type": "code",
   "execution_count": 20,
   "metadata": {},
   "outputs": [
    {
     "name": "stdout",
     "output_type": "stream",
     "text": [
      "--> This might be very slow. Consider passing `cache=True`, which enables much faster reading from a cache file.\n"
     ]
    }
   ],
   "source": [
    "#Load the pre-downloaded data by:\n",
    "adata = sc.read_10x_mtx(\n",
    "    '/KNN_data/Data_3k/filtered_gene_bc_matrices/hg19/', \n",
    "    var_names='gene_symbols')"
   ]
  },
  {
   "cell_type": "markdown",
   "metadata": {},
   "source": [
    "## Filtering"
   ]
  },
  {
   "cell_type": "markdown",
   "metadata": {},
   "source": [
    "### Exercise 1\n",
    "\n",
    "Filter the dataset using the following chriteria: \n",
    "\n",
    "- Remove cells with less than 200 genes detected\n",
    "- Remove genes that are expressed in less than 3 cells\n",
    "- Remove cells with more than 2500 genes detected\n",
    "- Remove cells with more than 5% mitochondrial reads\n",
    "\n",
    "Likewise, describe the motivation for setting such thresholds on min/max number of genes, and the mitochondrial percentage. "
   ]
  },
  {
   "cell_type": "code",
   "execution_count": null,
   "metadata": {},
   "outputs": [],
   "source": []
  },
  {
   "cell_type": "code",
   "execution_count": null,
   "metadata": {},
   "outputs": [],
   "source": []
  },
  {
   "cell_type": "code",
   "execution_count": null,
   "metadata": {},
   "outputs": [],
   "source": []
  },
  {
   "cell_type": "code",
   "execution_count": null,
   "metadata": {},
   "outputs": [],
   "source": []
  },
  {
   "cell_type": "markdown",
   "metadata": {},
   "source": [
    "The motivation behind filtering the data is....."
   ]
  },
  {
   "cell_type": "code",
   "execution_count": null,
   "metadata": {},
   "outputs": [],
   "source": [
    "sc.pl.highest_expr_genes(adata, n_top=20)"
   ]
  },
  {
   "cell_type": "markdown",
   "metadata": {},
   "source": [
    "## Preprocessing steps"
   ]
  },
  {
   "cell_type": "markdown",
   "metadata": {},
   "source": [
    "### Exercise 2\n",
    "\n",
    "- Normalize the counts to 10k / cell\n",
    "- Transform the data to log(x+1) scale\n",
    "\n",
    "Also, describe the rationale of normalization and this log transformation."
   ]
  },
  {
   "cell_type": "code",
   "execution_count": null,
   "metadata": {},
   "outputs": [],
   "source": []
  },
  {
   "cell_type": "code",
   "execution_count": null,
   "metadata": {},
   "outputs": [],
   "source": []
  },
  {
   "cell_type": "code",
   "execution_count": null,
   "metadata": {},
   "outputs": [],
   "source": []
  },
  {
   "cell_type": "code",
   "execution_count": null,
   "metadata": {},
   "outputs": [],
   "source": []
  },
  {
   "cell_type": "code",
   "execution_count": null,
   "metadata": {},
   "outputs": [],
   "source": [
    "adata.raw = adata"
   ]
  },
  {
   "cell_type": "markdown",
   "metadata": {},
   "source": [
    "## Highly variable genes"
   ]
  },
  {
   "cell_type": "code",
   "execution_count": null,
   "metadata": {},
   "outputs": [],
   "source": [
    "sc.pp.highly_variable_genes(adata, min_mean=0.0125, max_mean=3, min_disp=0.5)\n",
    "sc.pl.highly_variable_genes(adata)"
   ]
  },
  {
   "cell_type": "code",
   "execution_count": null,
   "metadata": {},
   "outputs": [],
   "source": [
    "adata = adata[:, adata.var['highly_variable']]"
   ]
  },
  {
   "cell_type": "markdown",
   "metadata": {},
   "source": [
    "## Further processing"
   ]
  },
  {
   "cell_type": "markdown",
   "metadata": {},
   "source": [
    "### Exercise  3\n",
    "\n",
    "- Regress out variation caused by the library size (n_couts) and mitochondrial percentage (percent_mito)\n",
    "- Scale all genes to mean 0 and unit variance\n",
    "\n",
    "Also describe the reationale of variate regression and feature scaling."
   ]
  },
  {
   "cell_type": "code",
   "execution_count": null,
   "metadata": {},
   "outputs": [],
   "source": []
  },
  {
   "cell_type": "code",
   "execution_count": null,
   "metadata": {},
   "outputs": [],
   "source": []
  },
  {
   "cell_type": "code",
   "execution_count": null,
   "metadata": {},
   "outputs": [],
   "source": []
  },
  {
   "cell_type": "code",
   "execution_count": null,
   "metadata": {},
   "outputs": [],
   "source": []
  },
  {
   "cell_type": "markdown",
   "metadata": {},
   "source": [
    "## Linear dimensionality reduction"
   ]
  },
  {
   "cell_type": "markdown",
   "metadata": {},
   "source": [
    "### Exercise 4\n",
    "- Perform PCA and visualize a few immune marker genes (e.g. 'CST3', 'NKG7' and 'PPBP')\n",
    "\n",
    "Describe the concept of PCA and how it is used in single cell analysis\n",
    "\n",
    "Discuss pros and cons of using PCA"
   ]
  },
  {
   "cell_type": "code",
   "execution_count": null,
   "metadata": {},
   "outputs": [],
   "source": []
  },
  {
   "cell_type": "code",
   "execution_count": null,
   "metadata": {},
   "outputs": [],
   "source": []
  },
  {
   "cell_type": "code",
   "execution_count": null,
   "metadata": {},
   "outputs": [],
   "source": []
  },
  {
   "cell_type": "code",
   "execution_count": null,
   "metadata": {},
   "outputs": [],
   "source": []
  },
  {
   "cell_type": "markdown",
   "metadata": {},
   "source": [
    "## Non-linear dimensionality reduction"
   ]
  },
  {
   "cell_type": "code",
   "execution_count": null,
   "metadata": {},
   "outputs": [],
   "source": [
    "#First compute the neighbor graph\n",
    "sc.pp.neighbors(adata, n_neighbors=10, n_pcs=40)"
   ]
  },
  {
   "cell_type": "markdown",
   "metadata": {},
   "source": [
    "### Exercise 5\n",
    "- Run one non-linear dimensionality reduction (t-SNE or UMAP) and visualize a few immune marker genes (e.g. 'CST3', 'NKG7' and 'PPBP')\n",
    "\n",
    "Describe the concept of non-linear dimensionality reduction and how it is used in single cell analysis\n",
    "\n",
    "Discuss pros and cons of non-linear dimensionality reductions with respect to PCA"
   ]
  },
  {
   "cell_type": "code",
   "execution_count": null,
   "metadata": {},
   "outputs": [],
   "source": []
  },
  {
   "cell_type": "code",
   "execution_count": null,
   "metadata": {},
   "outputs": [],
   "source": []
  },
  {
   "cell_type": "code",
   "execution_count": null,
   "metadata": {},
   "outputs": [],
   "source": []
  },
  {
   "cell_type": "code",
   "execution_count": null,
   "metadata": {},
   "outputs": [],
   "source": []
  },
  {
   "cell_type": "markdown",
   "metadata": {},
   "source": [
    "## Clustering"
   ]
  },
  {
   "cell_type": "markdown",
   "metadata": {},
   "source": [
    "### Exercise 6\n",
    "\n",
    "Run a graph based clustering(sc.tl.louvain() or sc.tl.leiden()) on the expression matrix. (play with the resolution parameter till the clusters stable)\n",
    "\n",
    "- Superimpose clusters on the t-SNE or UMAP"
   ]
  },
  {
   "cell_type": "code",
   "execution_count": null,
   "metadata": {},
   "outputs": [],
   "source": []
  },
  {
   "cell_type": "code",
   "execution_count": null,
   "metadata": {},
   "outputs": [],
   "source": []
  },
  {
   "cell_type": "code",
   "execution_count": null,
   "metadata": {},
   "outputs": [],
   "source": []
  },
  {
   "cell_type": "code",
   "execution_count": null,
   "metadata": {},
   "outputs": [],
   "source": []
  },
  {
   "cell_type": "markdown",
   "metadata": {},
   "source": [
    "## Differential expression"
   ]
  },
  {
   "cell_type": "markdown",
   "metadata": {},
   "source": [
    "### Exercise 7\n",
    "- Perform simple differential expression using t-test (use sc.tl.rank_gene_groups())\n",
    "\n",
    "- Show the top 5 marker DE genes per cluster as a dataframe"
   ]
  },
  {
   "cell_type": "code",
   "execution_count": null,
   "metadata": {},
   "outputs": [],
   "source": []
  },
  {
   "cell_type": "code",
   "execution_count": null,
   "metadata": {},
   "outputs": [],
   "source": []
  },
  {
   "cell_type": "code",
   "execution_count": null,
   "metadata": {},
   "outputs": [],
   "source": []
  },
  {
   "cell_type": "code",
   "execution_count": null,
   "metadata": {},
   "outputs": [],
   "source": []
  },
  {
   "cell_type": "markdown",
   "metadata": {},
   "source": [
    "### Exercise 8 (Optional)\n",
    "- Try using your biological knowledge or look up immune cell type marker genes in scientific litterature.\n",
    "- Try annotating the clusters with cell type labels"
   ]
  },
  {
   "cell_type": "code",
   "execution_count": null,
   "metadata": {},
   "outputs": [],
   "source": []
  },
  {
   "cell_type": "code",
   "execution_count": null,
   "metadata": {},
   "outputs": [],
   "source": []
  },
  {
   "cell_type": "code",
   "execution_count": null,
   "metadata": {},
   "outputs": [],
   "source": []
  },
  {
   "cell_type": "code",
   "execution_count": null,
   "metadata": {},
   "outputs": [],
   "source": []
  },
  {
   "cell_type": "markdown",
   "metadata": {},
   "source": [
    "## Exporting notebook as PDF for submission"
   ]
  },
  {
   "cell_type": "markdown",
   "metadata": {},
   "source": [
    "The notebook can be exported as PDF (by pressing: File > Export Notebook As... > Export Notebook To PDF)"
   ]
  },
  {
   "cell_type": "code",
   "execution_count": null,
   "metadata": {},
   "outputs": [],
   "source": []
  }
 ],
 "metadata": {
  "kernelspec": {
   "display_name": "Python 3",
   "language": "python",
   "name": "python3"
  },
  "language_info": {
   "codemirror_mode": {
    "name": "ipython",
    "version": 3
   },
   "file_extension": ".py",
   "mimetype": "text/x-python",
   "name": "python",
   "nbconvert_exporter": "python",
   "pygments_lexer": "ipython3",
   "version": "3.6.7"
  }
 },
 "nbformat": 4,
 "nbformat_minor": 4
}
