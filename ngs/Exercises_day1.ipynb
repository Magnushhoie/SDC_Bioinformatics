{
 "cells": [
  {
   "cell_type": "markdown",
   "metadata": {},
   "source": [
    "**Overview**\n",
    "\n",
    "Preprocessing is an important first step in all NGS data analysis. We will try to pre-process several types of NGS data. The output of each of the datasets will be used in the alignment exercise tomorrow.\n",
    "\n",
    " - P. aeruginosa single end Illumina reads\n",
    " - Human Illumina paired end reads\n",
    " - E. coli - 454 and Ion Torrent data\n",
    " - P. aeruginosa single end Illumina reads\n",
    "\n",
    "# Introduction\n",
    "\n",
    "Let's try some reads from a study of Pseudomonas aeruginosa, an opportunistic pathogen that can live in the environment and may infect humans. Inside humans they may live in the lungs and form biofilms. The reads are from a strain that has infected ~40 patients over the last 30 years in Denmark and here it adapted to the human-host lung environment. In the alignment exercise we are going to compare it to the PAO1 reference genome which was isolated in 1955 in Australian from a wound (ie. probably it just came from the environment) and see which genes it has lost during the adaptation (assuming that the PAO1 genome is a relatively close ancestor). But first let us check the quality of the data. \n",
    "\n",
    "Make a subdirectory in your own folder and make a symbolic link to the data. <br>\n",
    "The first file we will work with is called<font color=green> Paeruginosa.fastq.gz</font>. <br>\n",
    "And it is located at : <font color=green> /exercises/alignment/paeruginosa/Paeruginosa.fastq.gz </font>\n",
    "\n",
    "Look at the reads. They are gzipped to store space so we need to look at them using gzip which is a program to open gzipped files.\n",
    "\n",
    "_First step is to prepare the folder._"
   ]
  },
  {
   "cell_type": "code",
   "execution_count": 1,
   "metadata": {},
   "outputs": [
    {
     "name": "stdout",
     "output_type": "stream",
     "text": [
      "/home/jupyter-admin/ngs/exercises/alignment/paeruginosa\n",
      "/home/jupyter-admin/ngs/exercises/alignment/paeruginosa\n"
     ]
    }
   ],
   "source": [
    "! mkdir -p exercises/alignment/paeruginosa\n",
    "%cd exercises/alignment/paeruginosa\n",
    "! pwd"
   ]
  },
  {
   "cell_type": "code",
   "execution_count": 2,
   "metadata": {},
   "outputs": [
    {
     "name": "stdout",
     "output_type": "stream",
     "text": [
      "@HWUSI-EAS656_0037_FC:3:1:16637:1035#NNNNNN/1\n",
      "CATATTTTGTGGCTCATCCCAAGGGAGAGGTTTTTCTATACTCAGGAGAAGTTACTCACGATAAAGAGAA\n",
      "+\n",
      "41?8FFF@@DAGGGEDF@FGECGGGBG@GE.EEBGBDADBBEEBEEC>ACE>CD?EEC?CAB>EB:<C##\n",
      "@HWUSI-EAS656_0037_FC:3:1:4655:1043#NNNNNN/1\n",
      "CATGGTGTTGGCCAGCAGCACATTCCTGCCCATGTAGAACTCGCGCAGCCCGGAACTGGACGGCAGGGGC\n",
      "+\n",
      "&&77?2>8:GDGDGEDGBDDCDDGEDGBDD>DDCAA>A?5>>>5>>C>>39:;83889157;78?:?>?#\n",
      "@HWUSI-EAS656_0037_FC:3:1:11313:1042#NNNNNN/1\n",
      "GTAGGGGTGGTAGAGCGCCTTGCGGCCGACCTGCCGGGCAAGGGAGCGGGTGATGTCGTAGACGATGCCG\n",
      "+\n",
      ")&1?EEE?@D<BGGGDBDDDDCDDGDGBCA@A>@DD@A<B>CB?@AA@AB:<<*/048)99;;AA@AA@6\n",
      "\n",
      "gzip: stdout: Broken pipe\n"
     ]
    }
   ],
   "source": [
    "! zcat /exercises/alignment/paeruginosa/Paeruginosa.fastq.gz | head -n 12"
   ]
  },
  {
   "cell_type": "markdown",
   "metadata": {},
   "source": [
    "**Q1. How long are the reads?\n",
    "  Q2. How many reads are there? \n",
    "  Q3. What is the average depth? The genome size is 6,588,339 nt.**\n",
    "   \n",
    "\n",
    "We need to find out which qualty encoding the reads use in order to trim the reads. Instead of looking at the data let's use this little program: "
   ]
  },
  {
   "cell_type": "code",
   "execution_count": 3,
   "metadata": {
    "scrolled": true
   },
   "outputs": [
    {
     "name": "stdout",
     "output_type": "stream",
     "text": [
      "Traceback (most recent call last):\n",
      "  File \"/exercises/alignment/paeruginosa/fastx_detect_fq.py\", line 5, in <module>\n",
      "    from Bio.SeqIO.QualityIO import FastqGeneralIterator\n",
      "ModuleNotFoundError: No module named 'Bio'\n",
      "\n",
      "gzip: stdout: Broken pipe\n"
     ]
    }
   ],
   "source": [
    "! zcat /exercises/alignment/paeruginosa/Paeruginosa.fastq.gz | python /exercises/alignment/paeruginosa/fastx_detect_fq.py"
   ]
  },
  {
   "cell_type": "markdown",
   "metadata": {},
   "source": [
    "**Q4. What are the qualities encoded in? This information is needed when we want to trim the reads and perform alignment.**\n",
    "**FastQC**\n",
    "\n",
    "Let's take a look of the reads and see if they need trimming of adaptors or qualities - we will run fastqc on the reads and view the report using Firefox. \n"
   ]
  },
  {
   "cell_type": "code",
   "execution_count": 4,
   "metadata": {},
   "outputs": [
    {
     "name": "stdout",
     "output_type": "stream",
     "text": [
      "/bin/sh: 1: fastqc: not found\n"
     ]
    }
   ],
   "source": [
    "! fastqc /exercises/alignment/paeruginosa/Paeruginosa.fastq.gz --outdir=\".\""
   ]
  },
  {
   "cell_type": "markdown",
   "metadata": {},
   "source": [
    "This program outputs several statistics in the report. Look at each of the figures and see if it reports something that we should look at (red/white cross). Look at the \"Per base sequence quality\". "
   ]
  },
  {
   "cell_type": "code",
   "execution_count": 6,
   "metadata": {},
   "outputs": [
    {
     "data": {
      "text/html": [
       "\n",
       "        <iframe\n",
       "            width=\"1400\"\n",
       "            height=\"700\"\n",
       "            src=\"./exercises/alignment/paeruginosa/Paeruginosa_fastqc.html\"\n",
       "            frameborder=\"0\"\n",
       "            allowfullscreen\n",
       "        ></iframe>\n",
       "        "
      ],
      "text/plain": [
       "<IPython.lib.display.IFrame at 0x7f1a801b6208>"
      ]
     },
     "execution_count": 6,
     "metadata": {},
     "output_type": "execute_result"
    }
   ],
   "source": [
    "import IPython.display as disp\n",
    "disp.IFrame(src=\"./exercises/alignment/paeruginosa/Paeruginosa_fastqc.html\" ,width=1400, height=700)\n"
   ]
  },
  {
   "cell_type": "markdown",
   "metadata": {},
   "source": [
    "**Q5. \n",
    "a) Briefly, what does the \"Per base sequence quality\" plot show? \n",
    "b) Is that what you expect, and why?**\n",
    "\n",
    "Now, look at \"Overrepresented sequences\". Here you see that there is a sequence often found in the reads that \n",
    "matches the Illumina Paired End PCR Primer 2. It is especially important to remove these when are doing a de novo assembly as these will overlap between the reads and make wrong assemblies. For alignment they are also troublesome as the aligners often perform global alignment (i.e. it wants to align all of the read to the genome). \n",
    "Copy the primer sequence and save it to use with the cutadapts software.\n",
    "\n",
    "**Cut adaptors/primers**\n",
    "\n",
    "Let's cut the adapter from the reads. Let's only keep reads that are larger than 30 nucleotides, and there should be at least 3 bases matching before cutting the adaptor. When it is done, some statistics will be printed. "
   ]
  },
  {
   "cell_type": "code",
   "execution_count": 6,
   "metadata": {},
   "outputs": [
    {
     "name": "stdout",
     "output_type": "stream",
     "text": [
      "This is cutadapt 1.15 with Python 3.6.9\n",
      "Command line parameters: -b CTAGATCGGAAGAGCGGTTCAGCAGGAATGCCGAGACCGATCTCGTATGCCGTCTTCTGCTTGAAAAAAA -m 30 -o Paeruginosa.fastq.cut.gz -O 3 /exercises/alignment/paeruginosa/Paeruginosa.fastq.gz\n",
      "Running on 1 core\n",
      "Trimming 1 adapter with at most 10.0% errors in single-end mode ...\n",
      "Finished in 40.27 s (36 us/read; 1.65 M reads/minute).\n",
      "\n",
      "=== Summary ===\n",
      "\n",
      "Total reads processed:               1,106,297\n",
      "Reads with adapters:                    21,068 (1.9%)\n",
      "Reads that were too short:               6,636 (0.6%)\n",
      "Reads written (passing filters):     1,099,661 (99.4%)\n",
      "\n",
      "Total basepairs processed:    77,440,790 bp\n",
      "Total written (filtered):     76,924,907 bp (99.3%)\n",
      "\n",
      "=== Adapter 1 ===\n",
      "\n",
      "Sequence: CTAGATCGGAAGAGCGGTTCAGCAGGAATGCCGAGACCGATCTCGTATGCCGTCTTCTGCTTGAAAAAAA; Type: variable 5'/3'; Length: 70; Trimmed: 21068 times.\n",
      "13770 times, it overlapped the 5' end of a read\n",
      "7298 times, it overlapped the 3' end or was within the read\n",
      "\n",
      "No. of allowed errors:\n",
      "0-9 bp: 0; 10-19 bp: 1; 20-29 bp: 2; 30-39 bp: 3; 40-49 bp: 4; 50-59 bp: 5; 60-69 bp: 6; 70 bp: 7\n",
      "\n",
      "Overview of removed sequences (5')\n",
      "length\tcount\texpect\tmax.err\terror counts\n",
      "3\t6247\t17285.9\t0\t6247\n",
      "4\t1295\t4321.5\t0\t1295\n",
      "5\t534\t1080.4\t0\t534\n",
      "6\t148\t270.1\t0\t148\n",
      "7\t45\t67.5\t0\t45\n",
      "8\t8\t16.9\t0\t8\n",
      "9\t9\t4.2\t0\t7 2\n",
      "10\t16\t1.1\t1\t1 15\n",
      "11\t10\t0.3\t1\t2 8\n",
      "12\t1\t0.1\t1\t0 1\n",
      "13\t2\t0.0\t1\t0 2\n",
      "27\t1\t0.0\t2\t1\n",
      "35\t1\t0.0\t3\t0 0 0 1\n",
      "36\t1\t0.0\t3\t1\n",
      "61\t4\t0.0\t6\t1 2 1\n",
      "62\t8\t0.0\t6\t8\n",
      "63\t9\t0.0\t6\t6 2 1\n",
      "64\t17\t0.0\t6\t5 4 5 1 0 0 2\n",
      "65\t51\t0.0\t6\t16 29 3 2 0 0 1\n",
      "66\t673\t0.0\t6\t501 120 39 8 3 2\n",
      "67\t152\t0.0\t6\t65 56 19 8 2 2\n",
      "68\t379\t0.0\t6\t227 79 45 14 8 2 4\n",
      "69\t777\t0.0\t6\t311 282 107 38 25 8 5 1\n",
      "70\t3382\t0.0\t7\t2219 738 246 92 38 30 13 6\n",
      "\n",
      "\n",
      "Overview of removed sequences (3' or within)\n",
      "length\tcount\texpect\tmax.err\terror counts\n",
      "3\t5007\t17285.9\t0\t5007\n",
      "4\t610\t4321.5\t0\t610\n",
      "5\t165\t1080.4\t0\t165\n",
      "6\t39\t270.1\t0\t39\n",
      "7\t25\t67.5\t0\t25\n",
      "8\t30\t16.9\t0\t30\n",
      "9\t18\t4.2\t0\t8 10\n",
      "10\t38\t1.1\t1\t23 15\n",
      "11\t25\t0.3\t1\t22 3\n",
      "12\t18\t0.1\t1\t11 7\n",
      "13\t10\t0.0\t1\t6 4\n",
      "14\t10\t0.0\t1\t6 4\n",
      "15\t10\t0.0\t1\t6 4\n",
      "16\t19\t0.0\t1\t12 7\n",
      "17\t5\t0.0\t1\t2 3\n",
      "18\t3\t0.0\t1\t2 1\n",
      "19\t8\t0.0\t1\t6 2\n",
      "20\t7\t0.0\t2\t4 2 1\n",
      "21\t5\t0.0\t2\t4 0 1\n",
      "22\t5\t0.0\t2\t2 2 1\n",
      "23\t7\t0.0\t2\t4 2 1\n",
      "24\t9\t0.0\t2\t3 3 3\n",
      "25\t3\t0.0\t2\t1 2\n",
      "27\t3\t0.0\t2\t1 1 1\n",
      "28\t5\t0.0\t2\t3 1 1\n",
      "29\t4\t0.0\t2\t3 1\n",
      "30\t2\t0.0\t3\t0 2\n",
      "31\t5\t0.0\t3\t3 0 2\n",
      "32\t1\t0.0\t3\t0 1\n",
      "33\t4\t0.0\t3\t2 0 2\n",
      "34\t4\t0.0\t3\t2 1 1\n",
      "36\t2\t0.0\t3\t1 0 0 1\n",
      "37\t4\t0.0\t3\t0 3 1\n",
      "38\t1\t0.0\t3\t0 0 1\n",
      "39\t2\t0.0\t3\t0 2\n",
      "40\t1\t0.0\t4\t1\n",
      "42\t4\t0.0\t4\t0 1 0 2 1\n",
      "46\t1\t0.0\t4\t0 0 1\n",
      "47\t1\t0.0\t4\t0 1\n",
      "48\t1\t0.0\t4\t0 0 1\n",
      "49\t1\t0.0\t4\t1\n",
      "52\t1\t0.0\t5\t0 1\n",
      "54\t1\t0.0\t5\t0 1\n",
      "55\t1\t0.0\t5\t1\n",
      "63\t1\t0.0\t6\t0 1\n",
      "67\t372\t0.0\t6\t132 111 60 38 20 9 2\n",
      "68\t399\t0.0\t6\t156 125 76 27 7 7 1\n",
      "69\t401\t0.0\t6\t213 120 38 18 4 5 2 1\n",
      "\n"
     ]
    }
   ],
   "source": [
    "! cutadapt -b \"CTAGATCGGAAGAGCGGTTCAGCAGGAATGCCGAGACCGATCTCGTATGCCGTCTTCTGCTTGAAAAAAA\" -m 30 -o Paeruginosa.fastq.cut.gz -O 3 /exercises/alignment/paeruginosa/Paeruginosa.fastq.gz"
   ]
  },
  {
   "cell_type": "markdown",
   "metadata": {},
   "source": [
    "**Q6. Look at the top of the output. Does the number of times that a read was cut fit with the number of times it was found in the FastQC report?**\n",
    "\n",
    "Also try trimming low quality bases from the ends. Afterwards, take a look at the reads. You should see the varying length now: "
   ]
  },
  {
   "cell_type": "code",
   "execution_count": 8,
   "metadata": {},
   "outputs": [
    {
     "name": "stdout",
     "output_type": "stream",
     "text": [
      "This is cutadapt 1.15 with Python 3.6.9\n",
      "Command line parameters: -b CTAGATCGGAAGAGCGGTTCAGCAGGAATGCCGAGACCGATCTCGTATGCCGTCTTCTGCTTGAAAAAAA -m 30 -o Paeruginosa.fastq.cut.trim.gz -O 3 -q 20 --quality-base=33 /exercises/alignment/paeruginosa/Paeruginosa.fastq.gz\n",
      "Running on 1 core\n",
      "Trimming 1 adapter with at most 10.0% errors in single-end mode ...\n",
      "Finished in 37.98 s (34 us/read; 1.75 M reads/minute).\n",
      "\n",
      "=== Summary ===\n",
      "\n",
      "Total reads processed:               1,106,297\n",
      "Reads with adapters:                    22,181 (2.0%)\n",
      "Reads that were too short:              98,506 (8.9%)\n",
      "Reads written (passing filters):     1,007,791 (91.1%)\n",
      "\n",
      "Total basepairs processed:    77,440,790 bp\n",
      "Quality-trimmed:              12,534,718 bp (16.2%)\n",
      "Total written (filtered):     62,833,041 bp (81.1%)\n",
      "\n",
      "=== Adapter 1 ===\n",
      "\n",
      "Sequence: CTAGATCGGAAGAGCGGTTCAGCAGGAATGCCGAGACCGATCTCGTATGCCGTCTTCTGCTTGAAAAAAA; Type: variable 5'/3'; Length: 70; Trimmed: 22181 times.\n",
      "15110 times, it overlapped the 5' end of a read\n",
      "7071 times, it overlapped the 3' end or was within the read\n",
      "\n",
      "No. of allowed errors:\n",
      "0-9 bp: 0; 10-19 bp: 1; 20-29 bp: 2; 30-39 bp: 3; 40-49 bp: 4; 50-59 bp: 5; 60-69 bp: 6; 70 bp: 7\n",
      "\n",
      "Overview of removed sequences (5')\n",
      "length\tcount\texpect\tmax.err\terror counts\n",
      "3\t6981\t17285.9\t0\t6981\n",
      "4\t1934\t4321.5\t0\t1934\n",
      "5\t572\t1080.4\t0\t572\n",
      "6\t176\t270.1\t0\t176\n",
      "7\t59\t67.5\t0\t59\n",
      "8\t48\t16.9\t0\t48\n",
      "9\t42\t4.2\t0\t36 6\n",
      "10\t26\t1.1\t1\t8 18\n",
      "11\t29\t0.3\t1\t14 15\n",
      "12\t12\t0.1\t1\t10 2\n",
      "13\t29\t0.0\t1\t24 5\n",
      "14\t31\t0.0\t1\t27 4\n",
      "15\t13\t0.0\t1\t12 1\n",
      "16\t26\t0.0\t1\t24 2\n",
      "17\t30\t0.0\t1\t26 4\n",
      "18\t28\t0.0\t1\t26 2\n",
      "19\t53\t0.0\t1\t46 7\n",
      "20\t3\t0.0\t2\t1 2\n",
      "21\t15\t0.0\t2\t9 6\n",
      "22\t17\t0.0\t2\t14 3\n",
      "23\t22\t0.0\t2\t20 2\n",
      "24\t54\t0.0\t2\t48 6\n",
      "25\t14\t0.0\t2\t11 2 1\n",
      "26\t7\t0.0\t2\t7\n",
      "27\t39\t0.0\t2\t35 3 1\n",
      "28\t51\t0.0\t2\t44 6 1\n",
      "29\t72\t0.0\t2\t60 11 1\n",
      "30\t12\t0.0\t3\t11 0 1\n",
      "31\t17\t0.0\t3\t12 4 1\n",
      "32\t29\t0.0\t3\t24 5\n",
      "33\t114\t0.0\t3\t92 17 4 1\n",
      "34\t133\t0.0\t3\t96 22 14 1\n",
      "35\t13\t0.0\t3\t10 3\n",
      "36\t28\t0.0\t3\t19 7 1 0 1\n",
      "37\t17\t0.0\t3\t12 5\n",
      "38\t11\t0.0\t3\t6 4 1\n",
      "39\t41\t0.0\t3\t33 7 1\n",
      "40\t7\t0.0\t4\t6 1\n",
      "41\t9\t0.0\t4\t7 2\n",
      "42\t21\t0.0\t4\t16 4 1\n",
      "43\t78\t0.0\t4\t65 9 3 1\n",
      "44\t76\t0.0\t4\t50 19 6 1\n",
      "45\t54\t0.0\t4\t47 4 3\n",
      "46\t21\t0.0\t4\t14 5 1 1\n",
      "47\t25\t0.0\t4\t15 10\n",
      "48\t72\t0.0\t4\t55 17\n",
      "49\t150\t0.0\t4\t131 17 1 1\n",
      "50\t30\t0.0\t5\t27 3\n",
      "51\t50\t0.0\t5\t41 7 1 0 1\n",
      "52\t92\t0.0\t5\t74 14 2 1 0 1\n",
      "53\t81\t0.0\t5\t64 16 1\n",
      "54\t357\t0.0\t5\t278 63 10 5 1\n",
      "55\t64\t0.0\t5\t52 11 1\n",
      "56\t207\t0.0\t5\t170 30 5 1 0 0 1\n",
      "57\t87\t0.0\t5\t61 18 7 1\n",
      "58\t415\t0.0\t5\t369 41 4 1\n",
      "59\t287\t0.0\t5\t233 38 11 3 1 1\n",
      "60\t67\t0.0\t6\t51 12 4\n",
      "61\t260\t0.0\t6\t208 45 6 1\n",
      "62\t458\t0.0\t6\t388 60 9 1\n",
      "63\t460\t0.0\t6\t408 43 7 2\n",
      "64\t237\t0.0\t6\t202 26 6 1 2\n",
      "65\t72\t0.0\t6\t53 18 1\n",
      "66\t115\t0.0\t6\t95 17 3\n",
      "67\t157\t0.0\t6\t122 30 5\n",
      "68\t192\t0.0\t6\t170 20 2\n",
      "69\t108\t0.0\t6\t91 14 3\n",
      "70\t3\t0.0\t7\t3\n",
      "\n",
      "\n",
      "Overview of removed sequences (3' or within)\n",
      "length\tcount\texpect\tmax.err\terror counts\n",
      "3\t5252\t17285.9\t0\t5252\n",
      "4\t524\t4321.5\t0\t524\n",
      "5\t112\t1080.4\t0\t112\n",
      "6\t28\t270.1\t0\t28\n",
      "7\t18\t67.5\t0\t18\n",
      "8\t19\t16.9\t0\t19\n",
      "9\t21\t4.2\t0\t15 6\n",
      "10\t20\t1.1\t1\t9 11\n",
      "11\t56\t0.3\t1\t46 10\n",
      "12\t14\t0.1\t1\t10 4\n",
      "13\t8\t0.0\t1\t6 2\n",
      "14\t8\t0.0\t1\t7 1\n",
      "15\t5\t0.0\t1\t4 1\n",
      "16\t25\t0.0\t1\t24 1\n",
      "17\t21\t0.0\t1\t19 2\n",
      "18\t6\t0.0\t1\t3 2 1\n",
      "19\t12\t0.0\t1\t10 2\n",
      "20\t5\t0.0\t2\t4 1\n",
      "21\t8\t0.0\t2\t6 2\n",
      "22\t11\t0.0\t2\t7 4\n",
      "23\t4\t0.0\t2\t2 2\n",
      "24\t6\t0.0\t2\t5 1\n",
      "25\t10\t0.0\t2\t8 2\n",
      "26\t27\t0.0\t2\t19 8\n",
      "27\t12\t0.0\t2\t6 5 1\n",
      "28\t28\t0.0\t2\t21 5 2\n",
      "29\t4\t0.0\t2\t2 2\n",
      "30\t1\t0.0\t3\t0 1\n",
      "31\t6\t0.0\t3\t6\n",
      "32\t5\t0.0\t3\t2 3\n",
      "33\t18\t0.0\t3\t14 4\n",
      "34\t13\t0.0\t3\t11 2\n",
      "35\t8\t0.0\t3\t5 0 3\n",
      "36\t36\t0.0\t3\t24 11 1\n",
      "37\t12\t0.0\t3\t5 2 4 1\n",
      "38\t15\t0.0\t3\t9 6\n",
      "39\t11\t0.0\t3\t8 1 2\n",
      "40\t4\t0.0\t4\t2 1 0 1\n",
      "41\t11\t0.0\t4\t8 3\n",
      "42\t5\t0.0\t4\t3 2\n",
      "43\t13\t0.0\t4\t9 4\n",
      "44\t5\t0.0\t4\t2 3\n",
      "45\t22\t0.0\t4\t19 2 0 1\n",
      "46\t13\t0.0\t4\t9 2 2\n",
      "47\t25\t0.0\t4\t12 9 3 1\n",
      "48\t26\t0.0\t4\t17 9\n",
      "49\t8\t0.0\t4\t7 1\n",
      "50\t4\t0.0\t5\t1 3\n",
      "51\t18\t0.0\t5\t11 6 1\n",
      "52\t33\t0.0\t5\t19 9 4 0 1\n",
      "53\t11\t0.0\t5\t4 6 0 1\n",
      "54\t6\t0.0\t5\t1 4 1\n",
      "55\t33\t0.0\t5\t21 11 0 1\n",
      "56\t79\t0.0\t5\t56 20 3\n",
      "57\t21\t0.0\t5\t10 9 1 1\n",
      "58\t55\t0.0\t5\t46 8 0 1\n",
      "59\t5\t0.0\t5\t2 1 1 1\n",
      "60\t6\t0.0\t6\t1 4 1\n",
      "61\t24\t0.0\t6\t8 9 7\n",
      "62\t98\t0.0\t6\t62 31 5\n",
      "63\t29\t0.0\t6\t16 12 1\n",
      "64\t4\t0.0\t6\t1 0 2 1\n",
      "65\t7\t0.0\t6\t2 2 3\n",
      "66\t24\t0.0\t6\t8 13 3\n",
      "67\t52\t0.0\t6\t23 22 4 3\n",
      "68\t41\t0.0\t6\t25 12 4\n",
      "\n",
      "@HWUSI-EAS656_0037_FC:3:1:16637:1035#NNNNNN/1\n",
      "CATATTTTGTGGCTCATCCCAAGGGAGAGGTTTTTCTATACTCAGGAGAAGTTACTCACGATAAAGAG\n",
      "+\n",
      "41?8FFF@@DAGGGEDF@FGECGGGBG@GE.EEBGBDADBBEEBEEC>ACE>CD?EEC?CAB>EB:<C\n",
      "@HWUSI-EAS656_0037_FC:3:1:4655:1043#NNNNNN/1\n",
      "CATGGTGTTGGCCAGCAGCACATTCCTGCCCATGTAGAACTCGCGCAGCCCGGAACTGGACGGCAGGGG\n",
      "+\n",
      "&&77?2>8:GDGDGEDGBDDCDDGEDGBDD>DDCAA>A?5>>>5>>C>>39:;83889157;78?:?>?\n",
      "@HWUSI-EAS656_0037_FC:3:1:11313:1042#NNNNNN/1\n",
      "GTAGGGGTGGTAGAGCGCCTTGCGGCCGACCTGCCGGGCAAGGGAGCGGGTGATGTCGTAGACGATGCCG\n",
      "\n",
      "gzip: stdout: Broken pipe\n"
     ]
    }
   ],
   "source": [
    "! cutadapt -b \"CTAGATCGGAAGAGCGGTTCAGCAGGAATGCCGAGACCGATCTCGTATGCCGTCTTCTGCTTGAAAAAAA\"  -m 30 -o Paeruginosa.fastq.cut.trim.gz -O 3 -q 20 --quality-base=33 /exercises/alignment/paeruginosa/Paeruginosa.fastq.gz\n",
    "! gzip -dc Paeruginosa.fastq.cut.trim.gz | head -n10\n",
    "#You can also re-run fastqc on the trimmed files and view them to see the difference. "
   ]
  },
  {
   "cell_type": "code",
   "execution_count": 10,
   "metadata": {},
   "outputs": [
    {
     "name": "stdout",
     "output_type": "stream",
     "text": [
      "Started analysis of Paeruginosa.fastq.cut.trim.gz\n",
      "Approx 5% complete for Paeruginosa.fastq.cut.trim.gz\n",
      "Approx 10% complete for Paeruginosa.fastq.cut.trim.gz\n",
      "Approx 15% complete for Paeruginosa.fastq.cut.trim.gz\n",
      "Approx 20% complete for Paeruginosa.fastq.cut.trim.gz\n",
      "Approx 25% complete for Paeruginosa.fastq.cut.trim.gz\n",
      "Approx 30% complete for Paeruginosa.fastq.cut.trim.gz\n",
      "Approx 35% complete for Paeruginosa.fastq.cut.trim.gz\n",
      "Approx 40% complete for Paeruginosa.fastq.cut.trim.gz\n",
      "Approx 45% complete for Paeruginosa.fastq.cut.trim.gz\n",
      "Approx 50% complete for Paeruginosa.fastq.cut.trim.gz\n",
      "Approx 55% complete for Paeruginosa.fastq.cut.trim.gz\n",
      "Approx 60% complete for Paeruginosa.fastq.cut.trim.gz\n",
      "Approx 65% complete for Paeruginosa.fastq.cut.trim.gz\n",
      "Approx 70% complete for Paeruginosa.fastq.cut.trim.gz\n",
      "Approx 75% complete for Paeruginosa.fastq.cut.trim.gz\n",
      "Approx 80% complete for Paeruginosa.fastq.cut.trim.gz\n",
      "Approx 85% complete for Paeruginosa.fastq.cut.trim.gz\n",
      "Approx 90% complete for Paeruginosa.fastq.cut.trim.gz\n",
      "Approx 95% complete for Paeruginosa.fastq.cut.trim.gz\n",
      "Analysis complete for Paeruginosa.fastq.cut.trim.gz\n"
     ]
    }
   ],
   "source": [
    "! fastqc /exercises/alignment/paeruginosa/Paeruginosa.fastq.cut.trim.gz --outdir=\".\""
   ]
  },
  {
   "cell_type": "code",
   "execution_count": null,
   "metadata": {},
   "outputs": [],
   "source": [
    "import IPython.display as disp\n",
    "disp.IFrame(src=\"./exercises/alignment/paeruginosa/Paeruginosa.fastq.cut.trim.html\" ,width=1400, height=700)"
   ]
  },
  {
   "cell_type": "markdown",
   "metadata": {},
   "source": [
    "**Q7. What was the effect on the qualities, and what was the effect on the per base sequence content? Can you suggest an additional trimming to increase the quality?** <br>\n",
    "\n",
    "## Human Illumina Paired end reads\n",
    "Let us look at some paired end Illumina reads, these reads are from a ~40X wgs of an Asian individual. To save time we are not going to use all reads - the reads are filtered so that we only have reads that map chromosome 21. \n",
    "\n",
    "The data we will be using is :\n",
    "\n",
    "/exercises/alignment/human/HG00418_A_*.fastq.gz\n",
    "\n",
    "Let's look at the data using fastqc. To begin with we are only going to use the \"A\" reads (A_1 and A_2). The _1 file contains the first of all pairs (forward reads) and the _2 contains the second of the pairs (reverse reads). Try to type in the commands needed to run fastqc. \n",
    "\n",
    "It looks like the reads can use some trimming. We don't find any adaptor sequences so let's skip that and only trim the reads based on quality. for this we are going to use __prinseq__. \n",
    "\n",
    "\n",
    "**RESTART THE KERNEL BEFORE YOU MOVE ON**"
   ]
  },
  {
   "cell_type": "code",
   "execution_count": 1,
   "metadata": {},
   "outputs": [
    {
     "name": "stdout",
     "output_type": "stream",
     "text": [
      "/home/jupyter-panos/exercises/alignment/human\n",
      "/home/jupyter-panos/exercises/alignment/human\n"
     ]
    }
   ],
   "source": [
    "! mkdir -p exercises/alignment/human\n",
    "%cd exercises/alignment/human\n",
    "! pwd"
   ]
  },
  {
   "cell_type": "code",
   "execution_count": 2,
   "metadata": {},
   "outputs": [
    {
     "name": "stdout",
     "output_type": "stream",
     "text": [
      "Started analysis of HG00418_A_1.fastq.gz\n",
      "Approx 5% complete for HG00418_A_1.fastq.gz\n",
      "Approx 10% complete for HG00418_A_1.fastq.gz\n",
      "Approx 15% complete for HG00418_A_1.fastq.gz\n",
      "Approx 20% complete for HG00418_A_1.fastq.gz\n",
      "Approx 25% complete for HG00418_A_1.fastq.gz\n",
      "Approx 30% complete for HG00418_A_1.fastq.gz\n",
      "Approx 35% complete for HG00418_A_1.fastq.gz\n",
      "Approx 40% complete for HG00418_A_1.fastq.gz\n",
      "Approx 45% complete for HG00418_A_1.fastq.gz\n",
      "Approx 50% complete for HG00418_A_1.fastq.gz\n",
      "Approx 55% complete for HG00418_A_1.fastq.gz\n",
      "Approx 60% complete for HG00418_A_1.fastq.gz\n",
      "Approx 65% complete for HG00418_A_1.fastq.gz\n",
      "Approx 70% complete for HG00418_A_1.fastq.gz\n",
      "Approx 75% complete for HG00418_A_1.fastq.gz\n",
      "Approx 80% complete for HG00418_A_1.fastq.gz\n",
      "Approx 85% complete for HG00418_A_1.fastq.gz\n",
      "Approx 90% complete for HG00418_A_1.fastq.gz\n",
      "Approx 95% complete for HG00418_A_1.fastq.gz\n",
      "Analysis complete for HG00418_A_1.fastq.gz\n",
      "Started analysis of HG00418_A_2.fastq.gz\n",
      "Approx 5% complete for HG00418_A_2.fastq.gz\n",
      "Approx 10% complete for HG00418_A_2.fastq.gz\n",
      "Approx 15% complete for HG00418_A_2.fastq.gz\n",
      "Approx 20% complete for HG00418_A_2.fastq.gz\n",
      "Approx 25% complete for HG00418_A_2.fastq.gz\n",
      "Approx 30% complete for HG00418_A_2.fastq.gz\n",
      "Approx 35% complete for HG00418_A_2.fastq.gz\n",
      "Approx 40% complete for HG00418_A_2.fastq.gz\n",
      "Approx 45% complete for HG00418_A_2.fastq.gz\n",
      "Approx 50% complete for HG00418_A_2.fastq.gz\n",
      "Approx 55% complete for HG00418_A_2.fastq.gz\n",
      "Approx 60% complete for HG00418_A_2.fastq.gz\n",
      "Approx 65% complete for HG00418_A_2.fastq.gz\n",
      "Approx 70% complete for HG00418_A_2.fastq.gz\n",
      "Approx 75% complete for HG00418_A_2.fastq.gz\n",
      "Approx 80% complete for HG00418_A_2.fastq.gz\n",
      "Approx 85% complete for HG00418_A_2.fastq.gz\n",
      "Approx 90% complete for HG00418_A_2.fastq.gz\n",
      "Approx 95% complete for HG00418_A_2.fastq.gz\n",
      "Analysis complete for HG00418_A_2.fastq.gz\n"
     ]
    }
   ],
   "source": [
    "! fastqc /exercises/alignment/human/HG00418_A_1.fastq.gz --outdir=\".\"\n",
    "! fastqc /exercises/alignment/human/HG00418_A_2.fastq.gz --outdir=\".\""
   ]
  },
  {
   "cell_type": "code",
   "execution_count": 9,
   "metadata": {},
   "outputs": [
    {
     "data": {
      "text/html": [
       "\n",
       "        <iframe\n",
       "            width=\"1400\"\n",
       "            height=\"700\"\n",
       "            src=\"./exercises/alignment/human/HG00418_A_1_fastqc.html\"\n",
       "            frameborder=\"0\"\n",
       "            allowfullscreen\n",
       "        ></iframe>\n",
       "        "
      ],
      "text/plain": [
       "<IPython.lib.display.IFrame at 0x7fc6e5809198>"
      ]
     },
     "execution_count": 9,
     "metadata": {},
     "output_type": "execute_result"
    }
   ],
   "source": [
    "import IPython.display as disp\n",
    "disp.IFrame(src=\"./exercises/alignment/human/HG00418_A_1_fastqc.html\" ,width=1400, height=700)"
   ]
  },
  {
   "cell_type": "code",
   "execution_count": 6,
   "metadata": {},
   "outputs": [
    {
     "data": {
      "text/html": [
       "\n",
       "        <iframe\n",
       "            width=\"1400\"\n",
       "            height=\"700\"\n",
       "            src=\"./exercises/alignment/human/HG00418_A_2_fastqc.html\"\n",
       "            frameborder=\"0\"\n",
       "            allowfullscreen\n",
       "        ></iframe>\n",
       "        "
      ],
      "text/plain": [
       "<IPython.lib.display.IFrame at 0x7fc6f45f5860>"
      ]
     },
     "execution_count": 6,
     "metadata": {},
     "output_type": "execute_result"
    }
   ],
   "source": [
    "import IPython.display as disp\n",
    "disp.IFrame(src=\"./exercises/alignment/human/HG00418_A_2_fastqc.html\" ,width=1400, height=700)"
   ]
  },
  {
   "cell_type": "markdown",
   "metadata": {},
   "source": [
    "Prinseq cannot read/write compressed files so we need to pipe the data in and out using gzip. We trim quality from the right (3') to minimum 20. We also want the read to have average quality of 20, and after trimming the read should be at least 35bp for us to keep it. We are writing the commands over two lines, paste in both lines. Each command takes ~2 mins to complete."
   ]
  },
  {
   "cell_type": "code",
   "execution_count": 8,
   "metadata": {},
   "outputs": [
    {
     "name": "stdout",
     "output_type": "stream",
     "text": [
      "Input and filter stats:\n",
      "\tInput sequences: 1,059,560\n",
      "\tInput bases: 105,956,000\n",
      "\tInput mean length: 100.00\n",
      "\tGood sequences: 1,053,458 (99.42%)\n",
      "\tGood bases: 101,320,041\n",
      "\tGood mean length: 96.18\n",
      "\tBad sequences: 6,102 (0.58%)\n",
      "\tBad bases: 610,200\n",
      "\tBad mean length: 100.00\n",
      "\tSequences filtered by specified parameters:\n",
      "\ttrim_qual_right: 141\n",
      "\tmin_len: 5957\n",
      "\tmin_qual_mean: 4\n"
     ]
    }
   ],
   "source": [
    "! gzip -dc /exercises/alignment/human/HG00418_A_1.fastq.gz | perl /exercises/alignment/scripts/prinseq-lite.pl -fastq stdin -out_bad null -out_good stdout \\\n",
    "-trim_qual_right 20 -min_qual_mean 20 -min_len 35 -log prinseq.HG00418_A_1.log | gzip > HG00418_A_1.trim.gz"
   ]
  },
  {
   "cell_type": "code",
   "execution_count": 7,
   "metadata": {},
   "outputs": [
    {
     "name": "stdout",
     "output_type": "stream",
     "text": [
      "Input and filter stats:\n",
      "\tInput sequences: 1,059,560\n",
      "\tInput bases: 105,956,000\n",
      "\tInput mean length: 100.00\n",
      "\tGood sequences: 1,048,379 (98.94%)\n",
      "\tGood bases: 100,627,714\n",
      "\tGood mean length: 95.98\n",
      "\tBad sequences: 11,181 (1.06%)\n",
      "\tBad bases: 1,118,100\n",
      "\tBad mean length: 100.00\n",
      "\tSequences filtered by specified parameters:\n",
      "\ttrim_qual_right: 1593\n",
      "\tmin_len: 9546\n",
      "\tmin_qual_mean: 42\n"
     ]
    }
   ],
   "source": [
    "! gzip -dc /exercises/alignment/human/HG00418_A_2.fastq.gz | perl /exercises/alignment/scripts/prinseq-lite.pl -fastq stdin -out_bad null -out_good stdout \\\n",
    "-trim_qual_right 20 -min_qual_mean 20 -min_len 35 -log prinseq.HG00418_A_2.log | gzip > HG00418_A_2.trim.gz"
   ]
  },
  {
   "cell_type": "markdown",
   "metadata": {},
   "source": [
    "When we have trimmed our paired end reads we have removed reads from each file. This means that the ordering is not in sync between the two files, eg. if we removed read no. 5 in file1 but not in file2, then read6 in file1 will be paired with read5 in file2. We need to fix this using pairfq before we can use the reads. \n",
    "\n",
    "We use \"-f\" as input forward reads (first pair), \"-r\" input reverse reads (second pair) and we output \"common\" and \"unique\" files using the -fp, -rp, -fs and -rs options. It is the \"common\" files that we are going to use."
   ]
  },
  {
   "cell_type": "code",
   "execution_count": 9,
   "metadata": {},
   "outputs": [],
   "source": [
    "! gunzip /home/jupyter-panos/exercises/alignment/human/HG00418_A_1.trim.gz\n",
    "! gunzip /home/jupyter-panos/exercises/alignment/human/HG00418_A_2.trim.gz"
   ]
  },
  {
   "cell_type": "code",
   "execution_count": 10,
   "metadata": {},
   "outputs": [],
   "source": [
    "! perl /exercises/alignment/scripts/pairfq makepairs -f /home/jupyter-panos/exercises/alignment/human/HG00418_A_1.trim -r /home/jupyter-panos/exercises/alignment/human/HG00418_A_2.trim -fp HG00418_A_1.trim.fastq-common.out.gz \\\n",
    "-rp HG00418_A_2.trim.fastq-common.out.gz -fs HG00418_A_1.trim.fastq-unique.out.gz -rs HG00418_A_2.trim.fastq-unique.out.gz --compress gzip"
   ]
  },
  {
   "cell_type": "code",
   "execution_count": null,
   "metadata": {},
   "outputs": [],
   "source": []
  },
  {
   "cell_type": "markdown",
   "metadata": {},
   "source": [
    "**Q8. \n",
    "a) How many paired reads are left? Please report absolute count and percentage of the untrimmed files. \n",
    "b) Were most removed reads from the forward or reverse file?**\n"
   ]
  },
  {
   "cell_type": "code",
   "execution_count": null,
   "metadata": {},
   "outputs": [],
   "source": []
  },
  {
   "cell_type": "markdown",
   "metadata": {},
   "source": [
    "\n",
    "\n",
    "__E. coli - 454 and Ion Torrent data__\n",
    "\n",
    "The 454 and Ion Torrent data are from the German E. coli outbreak (cucumber/sprouts) during the summer 2011. The files are here: \n",
    "\n",
    "/exercises/alignment/ecoli/GOS1.fastq.gz \n",
    "/exercises/alignment/ecoli/iontorrent.fastq.gz \n",
    "\n",
    "Take a look at the fastq.gz files, and then run fastqc and look at the reports. \n",
    "\n",
    "Look at the different quality profiles. What differences can you see between the data types?\n",
    "\n",
    "We can also look at some graph data that we can visualize what it looks like for the 454 data: \n",
    "*/ecoli/GOS1.gd.html \n",
    "\n",
    "**Q9. Looking at the html report,  How long are the 454 reads?** Let's trim the 454 alignments. "
   ]
  },
  {
   "cell_type": "code",
   "execution_count": 11,
   "metadata": {},
   "outputs": [
    {
     "name": "stdout",
     "output_type": "stream",
     "text": [
      "Started analysis of GOS1.fastq.gz\n",
      "Approx 5% complete for GOS1.fastq.gz\n",
      "Approx 10% complete for GOS1.fastq.gz\n",
      "Approx 15% complete for GOS1.fastq.gz\n",
      "Approx 20% complete for GOS1.fastq.gz\n",
      "Approx 25% complete for GOS1.fastq.gz\n",
      "Approx 30% complete for GOS1.fastq.gz\n",
      "Approx 35% complete for GOS1.fastq.gz\n",
      "Approx 40% complete for GOS1.fastq.gz\n",
      "Approx 45% complete for GOS1.fastq.gz\n",
      "Approx 50% complete for GOS1.fastq.gz\n",
      "Approx 55% complete for GOS1.fastq.gz\n",
      "Approx 60% complete for GOS1.fastq.gz\n",
      "Approx 65% complete for GOS1.fastq.gz\n",
      "Approx 70% complete for GOS1.fastq.gz\n",
      "Approx 75% complete for GOS1.fastq.gz\n",
      "Approx 80% complete for GOS1.fastq.gz\n",
      "Approx 85% complete for GOS1.fastq.gz\n",
      "Approx 90% complete for GOS1.fastq.gz\n",
      "Approx 95% complete for GOS1.fastq.gz\n",
      "Approx 100% complete for GOS1.fastq.gz\n",
      "Analysis complete for GOS1.fastq.gz\n"
     ]
    }
   ],
   "source": [
    "! fastqc /exercises/alignment/ecoli/GOS1.fastq.gz  --outdir=\".\""
   ]
  },
  {
   "cell_type": "code",
   "execution_count": 15,
   "metadata": {},
   "outputs": [
    {
     "name": "stdout",
     "output_type": "stream",
     "text": [
      "Started analysis of iontorrent.fq.gz\n",
      "Approx 5% complete for iontorrent.fq.gz\n",
      "Approx 10% complete for iontorrent.fq.gz\n",
      "Approx 15% complete for iontorrent.fq.gz\n",
      "Approx 20% complete for iontorrent.fq.gz\n",
      "Approx 25% complete for iontorrent.fq.gz\n",
      "Approx 30% complete for iontorrent.fq.gz\n",
      "Approx 35% complete for iontorrent.fq.gz\n",
      "Approx 40% complete for iontorrent.fq.gz\n",
      "Approx 45% complete for iontorrent.fq.gz\n",
      "Approx 50% complete for iontorrent.fq.gz\n",
      "Approx 55% complete for iontorrent.fq.gz\n",
      "Approx 60% complete for iontorrent.fq.gz\n",
      "Approx 65% complete for iontorrent.fq.gz\n",
      "Approx 70% complete for iontorrent.fq.gz\n",
      "Approx 75% complete for iontorrent.fq.gz\n",
      "Approx 80% complete for iontorrent.fq.gz\n",
      "Approx 85% complete for iontorrent.fq.gz\n",
      "Approx 90% complete for iontorrent.fq.gz\n",
      "Approx 95% complete for iontorrent.fq.gz\n",
      "Approx 100% complete for iontorrent.fq.gz\n",
      "Analysis complete for iontorrent.fq.gz\n"
     ]
    }
   ],
   "source": [
    "! fastqc /exercises/alignment/ecoli/iontorrent.fq.gz  --outdir=\".\""
   ]
  },
  {
   "cell_type": "code",
   "execution_count": 13,
   "metadata": {},
   "outputs": [
    {
     "data": {
      "text/html": [
       "\n",
       "        <iframe\n",
       "            width=\"1400\"\n",
       "            height=\"700\"\n",
       "            src=\"./exercises/alignment/human/GOS1_fastqc.html\"\n",
       "            frameborder=\"0\"\n",
       "            allowfullscreen\n",
       "        ></iframe>\n",
       "        "
      ],
      "text/plain": [
       "<IPython.lib.display.IFrame at 0x7ff05a69bcf8>"
      ]
     },
     "execution_count": 13,
     "metadata": {},
     "output_type": "execute_result"
    }
   ],
   "source": [
    "import IPython.display as disp\n",
    "disp.IFrame(src=\"./exercises/alignment/human/GOS1_fastqc.html\" ,width=1400, height=700)"
   ]
  },
  {
   "cell_type": "code",
   "execution_count": 16,
   "metadata": {},
   "outputs": [
    {
     "data": {
      "text/html": [
       "\n",
       "        <iframe\n",
       "            width=\"1400\"\n",
       "            height=\"700\"\n",
       "            src=\"./exercises/alignment/human/iontorrent_fastqc.html\"\n",
       "            frameborder=\"0\"\n",
       "            allowfullscreen\n",
       "        ></iframe>\n",
       "        "
      ],
      "text/plain": [
       "<IPython.lib.display.IFrame at 0x7ff05a6ba630>"
      ]
     },
     "execution_count": 16,
     "metadata": {},
     "output_type": "execute_result"
    }
   ],
   "source": [
    "import IPython.display as disp\n",
    "disp.IFrame(src=\"./exercises/alignment/human/iontorrent_fastqc.html\" ,width=1400, height=700)\n"
   ]
  },
  {
   "cell_type": "code",
   "execution_count": 24,
   "metadata": {},
   "outputs": [
    {
     "data": {
      "text/html": [
       "\n",
       "        <iframe\n",
       "            width=\"1400\"\n",
       "            height=\"700\"\n",
       "            src=\"/exercises/alignment/ecoli/GOS1.gd.html\"\n",
       "            frameborder=\"0\"\n",
       "            allowfullscreen\n",
       "        ></iframe>\n",
       "        "
      ],
      "text/plain": [
       "<IPython.lib.display.IFrame at 0x7ff059870eb8>"
      ]
     },
     "execution_count": 24,
     "metadata": {},
     "output_type": "execute_result"
    }
   ],
   "source": [
    "import IPython.display as disp\n",
    "disp.IFrame(src=\"/exercises/alignment/ecoli/GOS1.gd.html\" ,width=1400, height=700)\n"
   ]
  },
  {
   "cell_type": "markdown",
   "metadata": {},
   "source": [
    "Let's say we don't want reads shorter than 150bp and chop of reads larger than 500bp, also let's remove reads with avg. quality lower than 20."
   ]
  },
  {
   "cell_type": "code",
   "execution_count": 23,
   "metadata": {},
   "outputs": [
    {
     "name": "stdout",
     "output_type": "stream",
     "text": [
      "Input and filter stats:\n",
      "\tInput sequences: 175,000\n",
      "\tInput bases: 63,292,714\n",
      "\tInput mean length: 361.67\n",
      "\tGood sequences: 148,282 (84.73%)\n",
      "\tGood bases: 61,096,439\n",
      "\tGood mean length: 412.03\n",
      "\tBad sequences: 26,718 (15.27%)\n",
      "\tBad bases: 2,081,746\n",
      "\tBad mean length: 77.92\n",
      "\tSequences filtered by specified parameters:\n",
      "\tmin_len: 26641\n",
      "\tmin_qual_mean: 77\n",
      "Filehandle STDIN reopened as FH only for output at /exercises/alignment/scripts/prinseq-lite.pl line 2278.\n"
     ]
    }
   ],
   "source": [
    "! gzip -dc /exercises/alignment/ecoli/GOS1.fastq.gz | perl /exercises/alignment/scripts/prinseq-lite.pl -fastq stdin -graph_data GOS1.gd -out_good stdout \\\n",
    "-out_bad null -min_len 150 -min_qual_mean 20 -trim_to_len 500 | gzip -c > GOS1.trim.fastq.gz\n",
    "\n"
   ]
  },
  {
   "cell_type": "code",
   "execution_count": null,
   "metadata": {},
   "outputs": [],
   "source": []
  }
 ],
 "metadata": {
  "kernelspec": {
   "display_name": "Python 3",
   "language": "python",
   "name": "python3"
  },
  "language_info": {
   "codemirror_mode": {
    "name": "ipython",
    "version": 3
   },
   "file_extension": ".py",
   "mimetype": "text/x-python",
   "name": "python",
   "nbconvert_exporter": "python",
   "pygments_lexer": "ipython3",
   "version": "3.6.7"
  }
 },
 "nbformat": 4,
 "nbformat_minor": 4
}
