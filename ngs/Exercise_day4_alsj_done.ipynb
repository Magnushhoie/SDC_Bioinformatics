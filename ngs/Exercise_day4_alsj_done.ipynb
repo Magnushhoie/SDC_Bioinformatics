{
 "cells": [
  {
   "cell_type": "markdown",
   "metadata": {},
   "source": [
    "# RNA-seq exercises\n",
    "For this exercise, we will go through the main steps of differential expression analysis, including:\n",
    "<br>\n",
    "a) Retrieving Samples information<br>\n",
    "b) Alignment to a reference genome<br>\n",
    "c) Read count<br>\n",
    "c) Statistical analyses<br>\n",
    "\n",
    "### General samples information\n",
    "Use SRA (Sequence Read Archive; https://www.ncbi.nlm.nih.gov/sra) to retrieve information about\n",
    "these two samples with the following accession numbers: SRR057656 and SRR057642. For each\n",
    "accession number you will have a specific page with several information and useful links (e.g. GEO\n",
    "Web Link)\n",
    "Using the information you will find, try to answer to the following questions:\n",
    "\n",
    "**Q1: For which study were they generated?** <br>\n",
    "\n"
   ]
  },
  {
   "cell_type": "raw",
   "metadata": {},
   "source": []
  },
  {
   "cell_type": "markdown",
   "metadata": {},
   "source": [
    "**Q2: How many bases were generated for each run?** <br>\n"
   ]
  },
  {
   "cell_type": "code",
   "execution_count": null,
   "metadata": {},
   "outputs": [],
   "source": []
  },
  {
   "cell_type": "markdown",
   "metadata": {},
   "source": [
    "**Q3: Which sample is the case and which sample is the control?**<br>\n"
   ]
  },
  {
   "cell_type": "code",
   "execution_count": null,
   "metadata": {},
   "outputs": [],
   "source": []
  },
  {
   "cell_type": "markdown",
   "metadata": {},
   "source": [
    "**Q4: Is it single-end or paired end sequencing?**<br>\n"
   ]
  },
  {
   "cell_type": "code",
   "execution_count": null,
   "metadata": {},
   "outputs": [],
   "source": []
  },
  {
   "cell_type": "markdown",
   "metadata": {},
   "source": [
    "**Q5: What can you tell about the extraction method and the data generation of both samples?**<br>\n"
   ]
  },
  {
   "cell_type": "code",
   "execution_count": null,
   "metadata": {},
   "outputs": [],
   "source": []
  },
  {
   "cell_type": "markdown",
   "metadata": {},
   "source": [
    "\n",
    "**Reads alignment**\n",
    "\n",
    "Now we know what kind of samples we are analyzing. Because of limited power/students and time,\n",
    "we will work assuming these files have been already filtered and trimmed according with what you\n",
    "have already learnt in the previous lectures. Moreover, we will consider only the chr9 that contains the\n",
    "PCA3 gene. This gene produces a spliced, long non-coding RNA that is highly overexpressed in most\n",
    "types of prostate cancer cells and is used as a specific biomarker for this type of cancer through the\n",
    "analysis of peripheral blood and urine.\n",
    "\n",
    "All the files you will need will be into the following directory:\n",
    "\n",
    "*/exercises/rnaseq2*\n",
    "\n",
    "Because they are derived by paired-end sequencing, you will see two fastq files for each sample.\n",
    "\n",
    "[HiSat2](https://daehwankimlab.github.io/hisat2/) is the next development of TopHat2. To use it we need to index our reference (chr9).\n",
    "\n",
    "1) Let us create a symbolic link link to the reference sequence for chromosome 9:\n"
   ]
  },
  {
   "cell_type": "code",
   "execution_count": null,
   "metadata": {},
   "outputs": [],
   "source": [
    "!mkdir ex_rnaseq\n",
    "%cd ex_rnaseq\n",
    "!ln -s /exercises/rnaseq2/GRCh38_Chr9.fasta ./GRCh38_Chr9.fasta # command to make symbolic link\n",
    "!pwd\n",
    "!ls"
   ]
  },
  {
   "cell_type": "markdown",
   "metadata": {},
   "source": [
    "2) Let's build the indexed reference, \n"
   ]
  },
  {
   "cell_type": "code",
   "execution_count": null,
   "metadata": {},
   "outputs": [],
   "source": [
    "!hisat2-build GRCh38_Chr9.fasta GRCh38_Chr9\n"
   ]
  },
  {
   "cell_type": "markdown",
   "metadata": {},
   "source": [
    "Now we are ready to do the alignment. Choose one of the two samples, e.g. the affected. You do not need to copy your fastq files in your directory, simply recall them from the directory in which they are stored"
   ]
  },
  {
   "cell_type": "code",
   "execution_count": null,
   "metadata": {},
   "outputs": [],
   "source": [
    "%%bash\n",
    "hisat2 -x GRCh38_Chr9 -1 /exercises/rnaseq2/SRR057642_chr9-1.fastq \\\n",
    "    -2 /exercises/rnaseq2/SRR057642_chr9-2.fastq> affected.sam"
   ]
  },
  {
   "cell_type": "markdown",
   "metadata": {},
   "source": [
    "Look at the output you have in the screen after the alignment:\n",
    "\n",
    "<b>Q6: how many reads were paired?</b>\n",
    "\n"
   ]
  },
  {
   "cell_type": "raw",
   "metadata": {},
   "source": []
  },
  {
   "cell_type": "markdown",
   "metadata": {},
   "source": [
    "<b>Q7: how many read pairs have multi mapping sites?</b>\n"
   ]
  },
  {
   "cell_type": "code",
   "execution_count": null,
   "metadata": {},
   "outputs": [],
   "source": []
  },
  {
   "cell_type": "markdown",
   "metadata": {},
   "source": [
    "<b>Q8: how many read pairs have been mapped exactly one time?</b>\n"
   ]
  },
  {
   "cell_type": "code",
   "execution_count": null,
   "metadata": {},
   "outputs": [],
   "source": []
  },
  {
   "cell_type": "markdown",
   "metadata": {},
   "source": [
    "<b>Q9: what is the overall alignment rate?</b>\n"
   ]
  },
  {
   "cell_type": "code",
   "execution_count": null,
   "metadata": {},
   "outputs": [],
   "source": []
  },
  {
   "cell_type": "markdown",
   "metadata": {},
   "source": [
    "We then convert the sam files to bam files that will be used for the next analyses. Storing a bam file uses less storage compared to storing a sam file. While converting the sam file to a bam file, we will also sort the file. The file should be sorted not by position, but by read name, so that each pair is consecutive (necessary for downstream analyses).\n"
   ]
  },
  {
   "cell_type": "code",
   "execution_count": null,
   "metadata": {},
   "outputs": [],
   "source": [
    "!samtools view  affected.sam -Sb | samtools sort -n  > affected.bam"
   ]
  },
  {
   "cell_type": "markdown",
   "metadata": {},
   "source": [
    "**Read count**\n",
    "\n",
    "Now we are ready to do count how many reads map to each gene/transcript. For this, we will use the htseq-count tool from [HTSeq](https://htseq.readthedocs.io/en/release_0.10.0/). \n",
    "\n",
    "Type *htseq-count --help* to see what options you can use. \n",
    "\n",
    "HTseq needs a bam-file with the RNA alignments as input (which we just made) and a gtf or gff file that contains \n",
    "information on where the different exons and transcripts are on chr9. We already have a gff file for chr9 in the rnaseq2 folder, so let's create a symbolic link to the the gff file suing the ln -s command like earlier. \n",
    "\n",
    "Try to look at it (using the command “head”). \n",
    "\n",
    "You will see that it contains information on the transcripts and the different exons.\n"
   ]
  },
  {
   "cell_type": "code",
   "execution_count": null,
   "metadata": {},
   "outputs": [],
   "source": [
    "!ln -s /exercises/rnaseq2/chr9.gff . # creates symbolic link\n",
    "\n",
    "!head chr9.gff"
   ]
  },
  {
   "cell_type": "markdown",
   "metadata": {},
   "source": [
    "\n",
    "<br>HTseq will output the counts in two columns with <i>column1=gene</i> and <i>column2=#reads</i>, we will put that in two files called affected.counts.txt or control.counts.txt (if using the control samples). <br>"
   ]
  },
  {
   "cell_type": "code",
   "execution_count": null,
   "metadata": {},
   "outputs": [],
   "source": [
    "! htseq-count -f bam -s yes -m intersection-strict --idattr=gene affected.bam chr9.gff > affected.counts.txt"
   ]
  },
  {
   "cell_type": "markdown",
   "metadata": {},
   "source": [
    "<br>The 2-column file output contains the number of reads aligned to each genomic features on chromosome 9. Using standard UNIX tools, it is possible to look at this output. <br>\n",
    "E.g.:\n",
    "    \n",
    "<i>head affected.counts.txt</i>\n",
    "\n",
    "<i>tail affected.counts.txt</i>\n"
   ]
  },
  {
   "cell_type": "markdown",
   "metadata": {},
   "source": [
    "<b>Q10: How many total reads are counted in the genomic features? (hint: using for example grep and awk is one way to get this information)</b>\n"
   ]
  },
  {
   "cell_type": "code",
   "execution_count": null,
   "metadata": {},
   "outputs": [],
   "source": []
  },
  {
   "cell_type": "markdown",
   "metadata": {},
   "source": [
    "<b>Q11: What is the raw read count for PCA3 gene in your sample?</b>\n"
   ]
  },
  {
   "cell_type": "code",
   "execution_count": null,
   "metadata": {},
   "outputs": [],
   "source": []
  },
  {
   "cell_type": "markdown",
   "metadata": {},
   "source": [
    "***STATISTICAL ANALYSES***\n",
    "\n",
    "We will now perform differential expression among all the affected and control samples of the project. In this case, read count was performed using transcript accession numbers from [Ensembl](http://www.ensembl.org/index.html).\n",
    "\n",
    "Copy the directory \"counts\" in your working directory, then enter in to the directory\n",
    "\n"
   ]
  },
  {
   "cell_type": "code",
   "execution_count": null,
   "metadata": {},
   "outputs": [],
   "source": [
    "%cd ~/ex_rnaseq/\n",
    "! cp -r /exercises/rnaseq2/counts .\n",
    "%cd ~/ex_rnaseq/counts"
   ]
  },
  {
   "cell_type": "markdown",
   "metadata": {},
   "source": [
    "<b> However since we are working in a jupyter notebook in a python environment it is a bit cumbersome to run R. Instead of running the R commands directly in the jupyter notebook, we will run an R script using the bash command line. \n",
    "    \n",
    "<b> In the cell underneath we show the contents of the R script that will be used, so that you understand how the differential expression is performed using R."
   ]
  },
  {
   "cell_type": "raw",
   "metadata": {},
   "source": [
    "#if you need to install DESeq2:\n",
    "\n",
    "source(\"https://bioconductor.org/biocLite.R\")\n",
    "biocLite(\"DESeq2\")\n",
    "\n",
    "library(DESeq2)\n",
    "library(RColorBrewer)\n",
    "library(gplots)\n",
    "library(ggplot2)\n",
    "\n",
    "\n",
    "##Then, you can start to import the table and perform the differential expression analysis\n",
    "\n",
    "description = read.table (\"convertion_table.tab\",  quote =\"\\\"\", sep=\"\\t\", header = T)\n",
    "\n",
    "sample_table = data.frame(sampleName = description$description, filename= paste(description$files,\".counts.txt\", sep=\"\"), condition = description$group)\n",
    "\n",
    "dds = DESeqDataSetFromHTSeqCount(sample_table, design = ~condition)\n",
    "dds$condition <- relevel(dds$condition, ref=\"normal\")\n",
    "\n",
    "\n",
    "description = read.table (\"convertion_table.tab\",  quote =\"\\\"\", sep=\"\\t\", header = T)\n",
    "\n",
    "sample_table = data.frame(sampleName = description$description, filename= paste(description$files,\".counts.txt\", sep=\"\"), condition = description$group)\n",
    "\n",
    "dds = DESeqDataSetFromHTSeqCount(sample_table, design = ~condition)\n",
    "dds$condition <- relevel(dds$condition, ref=\"normal\")\n",
    "\n",
    "### Now we have loaded the count data into the \"dds\" object, you should see a small description of the dds object. Let us \n",
    "### try to use the plotCounts function (try ?plotCounts to see what it can do). Because the genes are annotated using \n",
    "### Ensembl-id we need to find the ID for PCA3 antisense transcript. Let’s try to see the first 10 genes that we have \n",
    "### information on:\n",
    "\n",
    "head(rownames(dds))\n",
    "\n",
    "### This kind of id are gene ids from Ensembl. To figure out what the id is for PCA3 you need to go to the \n",
    "### Ensembl-website and search for PCA3. Get the ENSG identifier and let’s save this (replace the id below with the id you ### find at Ensembl):\n",
    "\n",
    "ensg = \"ENSGxxxxxxxxx\" # could you find the id?\n",
    "\n",
    "#Then we can try to plot the gene\n",
    "\n",
    "jpeg(\"PCA3.jpeg\")\n",
    "plotCounts(dds, gene=ensg, main=\"PCA3\")\n",
    "dev.off()\n"
   ]
  },
  {
   "cell_type": "markdown",
   "metadata": {},
   "source": [
    "In the code, we have omitted the ENSG id for the gene PCA3. This kind of \"ENSGxxxxxxxxx\" id are gene ids from Ensembl. \n",
    "To figure out what the id is for PCA3 you need to go to the [Ensembl-website](https://www.ensembl.org/index.html) and search for PCA3. \n",
    "\n",
    "<b> Q12: What is the ENSG identifier for PCA3?</b>"
   ]
  },
  {
   "cell_type": "code",
   "execution_count": null,
   "metadata": {},
   "outputs": [],
   "source": []
  },
  {
   "cell_type": "markdown",
   "metadata": {},
   "source": [
    "Now, let's run the R code and display the PCA3.jpg graph"
   ]
  },
  {
   "cell_type": "code",
   "execution_count": null,
   "metadata": {},
   "outputs": [],
   "source": [
    "!cp /home/jupyter-sdc_admin/exercise_day4.R .\n",
    "! /usr/bin/Rscript exercise_day4.R"
   ]
  },
  {
   "cell_type": "code",
   "execution_count": null,
   "metadata": {},
   "outputs": [],
   "source": [
    "from IPython.display import Image\n",
    "\n",
    "Image(filename='PCA3.jpeg') "
   ]
  },
  {
   "cell_type": "markdown",
   "metadata": {},
   "source": [
    "<b>Q13: Are the counts as expected from your knowledge about PCA3? Why?</b>\n",
    "\n"
   ]
  },
  {
   "cell_type": "raw",
   "metadata": {},
   "source": []
  },
  {
   "cell_type": "markdown",
   "metadata": {},
   "source": [
    "***Outlier detection:***\n",
    "    \n",
    "To check the distribution of the dataset and investigate possible outliers, we can do principal component analysis and hierarchical clustering on the data. To do these commands, the following R code has also been added to the R script that we ran through the command line.\n",
    "\n",
    "We are using the function \"rlog\" to convert the data in to log2 as well as stabilizing the variance. Try to get the help rlog by writing \"?rlog\" in R - read the description of the function.\n",
    "\n",
    "\n",
    "<i>\n",
    "dds_rlog = rlog(dds)\t\n",
    "<br>dists = as.matrix(dist(t(assay(dds_rlog))))\n",
    "    \n",
    "rownames(dists) = colnames(dists) = colData(dds)$condition\n",
    "<br>hmcol = colorRampPalette(brewer.pal(9, \"GnBu\"))(100)<br>\n",
    "\n",
    "\n",
    "<br>z <- plotPCA(dds_rlog, intgroup=c(\"condition\"))<br>\n",
    "nudge <- position_nudge(y=2)\n",
    "<br>z + geom_label(aes(label = sample_table$sampleName), position = nudge)<br>\n",
    "\n",
    "\n",
    "heatmap.2(dists, trace='none', col=rev(hmcol))\n",
    "</i>\n",
    "\n",
    "Run the following cell to see the heatmap generated by the R script\n",
    "\n",
    "\n"
   ]
  },
  {
   "cell_type": "code",
   "execution_count": null,
   "metadata": {},
   "outputs": [],
   "source": [
    "from IPython.display import Image\n",
    "\n",
    "Image(filename='PCAplot.jpeg') "
   ]
  },
  {
   "cell_type": "markdown",
   "metadata": {},
   "source": [
    "<b>Q14: Do you see any obvious trends in the PCA plot?</b>\n"
   ]
  },
  {
   "cell_type": "raw",
   "metadata": {},
   "source": []
  },
  {
   "cell_type": "code",
   "execution_count": null,
   "metadata": {},
   "outputs": [],
   "source": [
    "from IPython.display import Image\n",
    "\n",
    "Image(filename='HM.jpeg') "
   ]
  },
  {
   "cell_type": "markdown",
   "metadata": {},
   "source": [
    "<b> Q15: When looking at the hierarchical clustering do you see any clusters? Do you see any possible outliers that would need to be excluded? </b>\n"
   ]
  },
  {
   "cell_type": "code",
   "execution_count": null,
   "metadata": {},
   "outputs": [],
   "source": []
  },
  {
   "cell_type": "markdown",
   "metadata": {},
   "source": [
    "***Differential expression***\n",
    "\n",
    "Let us try to identify differentially expressed genes in the data. To do this, in the R script, we have fit a negative binomial GLM where we compare the groups specified by the condition factor (carcinoma vs. normal).\n",
    "The command returns a fitted model object. To get hold of the differential expression test results from this object, you can see below  a brief view of what is inside of the results.\n",
    "\n",
    "\n",
    "\n"
   ]
  },
  {
   "cell_type": "code",
   "execution_count": null,
   "metadata": {},
   "outputs": [],
   "source": [
    "import pandas as pd\n",
    "df1 = pd.read_csv(\"res.csv\")\n",
    "df1"
   ]
  },
  {
   "cell_type": "markdown",
   "metadata": {},
   "source": [
    "<b>Q16: Try to understand what is the content of the different columns of the results dataframe. What is a p-value and what is an adjusted p-value?</b>\n"
   ]
  },
  {
   "cell_type": "code",
   "execution_count": null,
   "metadata": {},
   "outputs": [],
   "source": []
  },
  {
   "cell_type": "markdown",
   "metadata": {},
   "source": [
    "<b>Q17: What is the log2FoldChange column?</b>\n",
    "\n"
   ]
  },
  {
   "cell_type": "code",
   "execution_count": null,
   "metadata": {},
   "outputs": [],
   "source": []
  },
  {
   "cell_type": "markdown",
   "metadata": {},
   "source": [
    "Let us order the results after the smallest adjusted p-value.\n",
    "\n",
    "\n"
   ]
  },
  {
   "cell_type": "code",
   "execution_count": null,
   "metadata": {},
   "outputs": [],
   "source": [
    "df1.sort_values(\"padj\")"
   ]
  },
  {
   "cell_type": "markdown",
   "metadata": {},
   "source": [
    "Let us see how many genes are differentially expressed at a false discovery rate of 5%\n"
   ]
  },
  {
   "cell_type": "code",
   "execution_count": null,
   "metadata": {},
   "outputs": [],
   "source": [
    "## using pandsas - we will see more next \n",
    "\n",
    "df1[df1['padj']<.05]\n",
    "\n",
    "\n"
   ]
  },
  {
   "cell_type": "markdown",
   "metadata": {},
   "source": [
    "\n",
    "<b>Q18: How many genes are differentially expressed at a False Discovery Rate (FDR) of 5%?</b>\n"
   ]
  },
  {
   "cell_type": "code",
   "execution_count": null,
   "metadata": {},
   "outputs": [],
   "source": []
  },
  {
   "cell_type": "markdown",
   "metadata": {},
   "source": [
    "<b>Q19: Try to search for those genes in the Ensembl web-site. Which genes are they?</b>\n"
   ]
  },
  {
   "cell_type": "code",
   "execution_count": null,
   "metadata": {},
   "outputs": [],
   "source": []
  },
  {
   "cell_type": "markdown",
   "metadata": {},
   "source": [
    "\n",
    "<b>Q20: What is the direction and the dimension of the foldchange and what is the adjusted pvalue for PCA3?</b>"
   ]
  },
  {
   "cell_type": "code",
   "execution_count": null,
   "metadata": {},
   "outputs": [],
   "source": []
  },
  {
   "cell_type": "markdown",
   "metadata": {},
   "source": [
    " \n",
    "<b>Q21: When looking at the plot we made earlier of PCA3 (the plotCounts command in R and Image(filename='PCA3.jpeg') in this notebook) does it then make sense?</b>\n"
   ]
  },
  {
   "cell_type": "code",
   "execution_count": null,
   "metadata": {},
   "outputs": [],
   "source": []
  }
 ],
 "metadata": {
  "kernelspec": {
   "display_name": "Python 3",
   "language": "python",
   "name": "python3"
  },
  "language_info": {
   "codemirror_mode": {
    "name": "ipython",
    "version": 3
   },
   "file_extension": ".py",
   "mimetype": "text/x-python",
   "name": "python",
   "nbconvert_exporter": "python",
   "pygments_lexer": "ipython3",
   "version": "3.6.7"
  }
 },
 "nbformat": 4,
 "nbformat_minor": 4
}
