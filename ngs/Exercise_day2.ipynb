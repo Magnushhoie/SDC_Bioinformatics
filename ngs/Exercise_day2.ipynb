{
 "cells": [
  {
   "cell_type": "markdown",
   "metadata": {},
   "source": [
    "# Overview\n",
    "\n",
    "You will try to run alignment of NGS data:\n",
    "- BLAST vs BWA\n",
    "- Inspect and work with BAM-files\n",
    "- Single end alignment of P.aeruginosa Illumina reads\n",
    "- Paired end alignment of P.aeruginosa Illumina reads\n",
    "- Align Illumina paired end reads ( we will do this aligment on Monday)\n",
    "\n",
    "\n",
    "Find the SAM flags explained __[link text]( https://broadinstitute.github.io/picard/explain-flags.html)__"
   ]
  },
  {
   "cell_type": "markdown",
   "metadata": {},
   "source": [
    "## Blast vs BWA\n",
    "\n",
    "Let's try to align 25 Illumina reads using blast and bwa to the human genome. The \"time\" command infront of the commands will time how much time was actually spent on the job. Note down the time for each command, it is the third number that is written, something like m:s.ms. Firstly, move to your working directory, create a directory for this exercise and make symbolic links to the data to there. \n",
    "\n",
    "The data you need is the sample* FASTA and FASTQ files from directory : /exercises/alignment/blast/\n",
    "\n",
    "Next, you run BLAST from command line:\n"
   ]
  },
  {
   "cell_type": "code",
   "execution_count": null,
   "metadata": {},
   "outputs": [],
   "source": [
    "#Make a new directory for the exercises of Day2 and change your directory to it\n",
    "! mkdir -p exercises/alignment/Day2\n",
    "%cd exercises/alignment/Day2\n",
    "! pwd"
   ]
  },
  {
   "cell_type": "code",
   "execution_count": null,
   "metadata": {},
   "outputs": [],
   "source": [
    "! time blastn -db /exercises/alignment/blast/hg38bundle/Homo_sapiens_assembly38.fasta \\\n",
    "              -query /exercises/alignment/blast/sample.fasta \\\n",
    "              -out sample.m8 -outfmt 6 "
   ]
  },
  {
   "cell_type": "markdown",
   "metadata": {},
   "source": [
    "Let's do the same for bwa. In order to run bwa mem, the format of the command is like this: \n",
    "``bwa mem SUBJECT READS1 [READS2]``. \n",
    "\n",
    "The \"_subject_\" you want to use is */home/datafiles/ngs/alignment/blast/hg38bundle/Homo_sapiens_assembly38.fasta*. You can omit the second read pair in the command here since we do not used paired-end reads. Run bwa mem for sample.fastq and time the process. Remember that BWA creates a SAM file to standard out, you probably want to redirect that into a file that ends in .sam.\n",
    "\n",
    "**Q1. Which one was the fastest, BLAST or BWA?**\n",
    "\n",
    "This time, we had already created the Burrows-Wheeler transform of the subject that BWA needs. If you want to create it yourself, the command is simply: "
   ]
  },
  {
   "cell_type": "code",
   "execution_count": null,
   "metadata": {},
   "outputs": [],
   "source": [
    "# Build index. This step is done only once. DO NOT RUN this step during the exercises. We ran the command for you.\n",
    "#%%bash \n",
    "#bwa index /exercises/alignment/blast/hg38bundle/Homo_sapiens_assembly38.fasta"
   ]
  },
  {
   "cell_type": "code",
   "execution_count": null,
   "metadata": {},
   "outputs": [],
   "source": [
    "! time bwa  mem /exercises/alignment/blast/hg38bundle/Homo_sapiens_assembly38.fasta /exercises/alignment/blast/sample.fastq > sampleReads_alignment.sam "
   ]
  },
  {
   "cell_type": "markdown",
   "metadata": {},
   "source": [
    "**SAM and BAM-files**\n",
    "\n",
    "Now, we want to take a look at the resulting SAM file created by BWA. The SAM-format consists of two sections, header and alignments. Since SAM files are human-readable, you may look at it by simply using less (use the -S flag for added convenience).\n",
    "\n",
    "Header lines starts with \"@\", \"@SQ\" are all the sequences you mapped against (in your reference fasta file). For the alignment the fields are: Read name, flag, reference it mapped to, position, mapping quality, cigar, mate reference map, mate position, template length, read sequence and read qualities. See SAM-specification for a thorough description.\n"
   ]
  },
  {
   "cell_type": "code",
   "execution_count": null,
   "metadata": {},
   "outputs": [],
   "source": [
    "! less -S ./sampleReads_alignment.sam"
   ]
  },
  {
   "cell_type": "markdown",
   "metadata": {},
   "source": [
    "\n",
    "Header lines starts with \"@\", \"@SQ\" are all the sequences you mapped against (in your reference fasta file). For the alignment the fields are: Read name, flag, reference it mapped to, position, mapping quality, cigar, mate reference map, mate position, template length, read sequence and read qualities. See SAM-specification for a thorough description. \n",
    "\n",
    "**Q2. a) At which position is the first read (i.e. the one listed at the top of the file) mapped to chromosome 21? <br> b) To which strand is it mapped?**\n",
    "Hint: Check out explain flags.<br>\n",
    "\n",
    "**Q3. a) What is the mapping quality of the first read (see column 5 of SAM file) ? <br>\n",
    "    b) What do you think such a score means?**"
   ]
  },
  {
   "cell_type": "markdown",
   "metadata": {},
   "source": [
    "The SAM format specification provides several information about the results of the alignment, for example *AS:i:* means the alignment score for the read or the *NM:i:3* means that the number of mismatches of the alignment is 3, which means that if we change the 3 bases in the read we can achieve a perfect match to the reference sequence (not taking indels into account).\n",
    "\n",
    "As we always say, storing files is expensive, so you should get used to using BAM rather than SAM files. To convert SAM to BAM, we use samtools: "
   ]
  },
  {
   "cell_type": "code",
   "execution_count": null,
   "metadata": {},
   "outputs": [],
   "source": [
    "! samtools view -Sbh ./sampleReads_alignment.sam > sampleReads_alignment.bam "
   ]
  },
  {
   "cell_type": "markdown",
   "metadata": {},
   "source": [
    "The SAM format specification provides several information about the results of the alignment, for example *AS:i:* means the alignment score for the read or the *NM:i:3* means that the number of mismatches of the alignment is 3, which means that if we change the 3 bases in the read we can achieve a perfect match to the reference sequence (not taking indels into account).\n",
    "\n",
    "As we always say, storing files is expensive, so you should get used to using BAM rather than SAM files. To convert SAM to BAM, we use samtools: \n",
    "\n",
    "\n"
   ]
  },
  {
   "cell_type": "code",
   "execution_count": null,
   "metadata": {},
   "outputs": [],
   "source": [
    "! samtools view -Sbh ./sampleReads_alignment.sam > sampleReads_alignment.bam "
   ]
  },
  {
   "cell_type": "markdown",
   "metadata": {},
   "source": [
    "On the command above the **-b** flag tells samtools to output BAM rather than SAM, and the **-h** flag tells it to include the headers. The **-S** flag tells samtools the input is SAM format. We could also have figured out how many reads are unmapped using the filtering option in samtools view. \n",
    "\n",
    "The filtering works like this: If you use *-f* FLAG, then samtools will only keep alignments with ALL the bits in FLAG set. If you use *-F* FLAG, then samtools will only keep the alignments with NONE of the bits in FLAG set. So for example, in the following command: <br>\n",
    "\n",
    "samtools view IN.BAM -f 67 -F 12, the -f flag is 67, which is 1 + 2 + 64, which corresponds to the flags for paired reads, properly paired reads (i.e. both mates mapping to sample template), and the first read in the pair. Whereas the -F flag, 12, is 4 + 8, corresponding to unmapped reads and reads with the mate unmapped. \n",
    "\n",
    "So -f 67 -F 12 means reads that are paired, properly paired, and first in pair, but not unmapped, nor with their mate unmapped. "
   ]
  },
  {
   "cell_type": "markdown",
   "metadata": {},
   "source": [
    "**Q4. How many reads are unmapped? Hint: You can use samtools view with a flag to answer this question**\n",
    "\n",
    "**Q5. How many aligned (i.e. mapped) reads do we have after filtering with these flags?**\n",
    "\n"
   ]
  },
  {
   "cell_type": "code",
   "execution_count": null,
   "metadata": {},
   "outputs": [],
   "source": [
    "\n",
    "! samtools view -f 4 sampleReads_alignment.bam| wc -l\n",
    "! samtools view -F 4 sampleReads_alignment.bam| wc -l"
   ]
  },
  {
   "cell_type": "markdown",
   "metadata": {},
   "source": [
    "Another option is filter on the mapping quality, eg. getting all reads with a mapping quality larger than eg 30, will remove the unmapped/multi-mapped reads (mapping quality 0) and the read mapped with mapping quality 10. \n",
    "\n",
    "``samtools view -q 30 sample.bam | less -S ``\n",
    "\n",
    "Now try using samtools to create a BAM file sample.mapped.bam containing headers, and only mapped reads (do not filter for quality before answering Q5!). "
   ]
  },
  {
   "cell_type": "code",
   "execution_count": null,
   "metadata": {},
   "outputs": [],
   "source": [
    "! samtools view -h -F 4 -q 30 sampleReads_alignment.bam > sampleReads_alignment_mapped.bam\n",
    "! samtools view  sampleReads_alignment_mapped.bam| wc -l\n",
    "! samtools view  sampleReads_alignment_mapped.bam| wc -l"
   ]
  },
  {
   "cell_type": "markdown",
   "metadata": {},
   "source": [
    "## Paired end mapping\n",
    "\n",
    "Let's try to add the pairs so that we have 2x25 reads and map these. Paired end reads are mapped like single end, except you pass in both the forward and the reverse FASTQ files as input: \n",
    "``bwa mem REFERENCE FORWARD_READS REVERSE_READS | samtools view -Sbh - > out.bam ``\n",
    "\n",
    "Also, as seen in the example above, since we (almost) always prefer BAM files to SAM files, you should pipe the output of bwa mem into samtools in order to create a BAM file directly. Try it out, with the sample.fastq and sample_2.fastq files. We already have an index (BWT) of the human genome at _/exercises/alignment/blast/hg38bundle/Homo_sapiens_assembly38.fasta_\n",
    "\n",
    "Now your sample.bam file should contain the alignment of both pairs. Have a look. The pairs are grouped together line-by-line. You can also see the flags have changed, now it also contains information on pairing, whether the paired read was mapped etc. If you want you can look up af few on explain-flags. Three extra columns are now filled, where the \"=\" means that the pair mapped to the same chromosome (proper pair), then the mapping position of the pair and the distance between the pairs (the size of the entire DNA fragment). \n",
    "\n",
    "Let's try to get reads where both paired reads map. You can look on the table (link is provided above) to see that flags - read unmapped is 4, mate unmapped is 8. So what is the flag for both read unmapped and mate unmapped? Try to filter for reads that are\n",
    "properly paired\n",
    "not unmapped\n",
    "not with their mate unmapped\n",
    "Put those in a BAM file (with headers, as always) called pairs_only.bam "
   ]
  },
  {
   "cell_type": "code",
   "execution_count": null,
   "metadata": {},
   "outputs": [],
   "source": [
    "! bwa  mem /exercises/alignment/blast/hg38bundle/Homo_sapiens_assembly38.fasta /exercises/alignment/blast/sample.fastq /exercises/alignment/blast/sample_2.fastq | \\\n",
    "        samtools view -Sbh - > sampleReads_paired_alignment.bam\n"
   ]
  },
  {
   "cell_type": "code",
   "execution_count": null,
   "metadata": {},
   "outputs": [],
   "source": [
    "! samtools view -h -f 3 -F 12 sampleReads_paired_alignment.bam > sampleReads_paired_alignment.mapped.bam"
   ]
  },
  {
   "cell_type": "code",
   "execution_count": null,
   "metadata": {},
   "outputs": [],
   "source": [
    "! samtools view sampleReads_paired_alignment.mapped.bam | wc -l"
   ]
  },
  {
   "cell_type": "markdown",
   "metadata": {},
   "source": [
    "**Q6. What was the command to make the BAM file (which flags did you use)?**<br>\n",
    "Finally let's try to recreate the original read files from the bam-file. Since SAM and BAM files contain both the read DNA and their Phred qualities, we can convert a SAM to a FASTQ file. To do this we are going to use a suite of Java-programs called Picard. First, convert your BAM to SAM using samtools. Then, convert SAM to FASTQ using: <br><code> picard SamToFastq INPUT=YOUR INPUT FILE FASTQ=sample.remade.fastq SECOND_END_FASTQ=sample_2.remade.fastq</code>\n",
    "\n",
    "Check the difference of these vs. the original files. The diff program prints out lines that are different among the files. "
   ]
  },
  {
   "cell_type": "code",
   "execution_count": null,
   "metadata": {},
   "outputs": [],
   "source": [
    "%%bash\n",
    "picard-tools SamToFastq INPUT=sampleReads_paired_alignment.mapped.bam   \\\n",
    "                          FASTQ=sample.remade.fastq                 \\\n",
    "                          SECOND_END_FASTQ=sample_2.remade.fastq"
   ]
  },
  {
   "cell_type": "markdown",
   "metadata": {},
   "source": [
    "**Q7. Was there a difference between the new and original files?**"
   ]
  },
  {
   "cell_type": "code",
   "execution_count": null,
   "metadata": {},
   "outputs": [],
   "source": [
    "! diff sample.remade.fastq /exercises/alignment/blast/sample.fastq\n",
    "! diff sample_2.remade.fastq /Users/panman/Documents/Teaching/NGS_SDC_2020/course27626/alignment/blast/sample_2.fastq "
   ]
  },
  {
   "cell_type": "markdown",
   "metadata": {},
   "source": [
    "## P. aeruginosa single end Illumina reads\n",
    "\n",
    "Let's try some reads from a study of Pseudomonas aeruginosa, an opportunistic pathogen that can live in the environment and may infect humans. Inside humans they may live in the lungs and form biofilms. The reads are from a strain that has infected ~40 patients over the last 30 years in Denmark and here it adapted to the human-host lung environment. We are going to compare it to the PAO1 reference genome which was isolated in 1955 in Australian from a wound (ie. probably it just came from the environment) and see which genes it has lost during the adaptation (assuming that the PAO1 genome is a relatively close ancestor). \n",
    "\n",
    "Remember that these reads were the ones we trimmed yesterday. We will also need the reference fasta which is on the following location /exercises/alignment/paeruginosa/Paeruginosa_PAO1.fna\n",
    "\n",
    "Alignment of single end Illumina reads\n",
    "\n",
    "bwa index the file Paeruginosa_PAO1.fna and map the FASTQ files against it. As always, convert it to BAM, preferably by piping directly into samtools. Try to map the following files to the FASTA reference file:\n",
    "- Paeruginosa.fastq.gz       \n",
    "- Paeruginosa.fastq.cut.gz    \n",
    "- Paeruginosa.fastq.cut.trim.gz <br>\n",
    "These represent raw reads, reads that have been cut for adapters, and the ones that have been trimmed for quality. Next, we can use the command samtools flagstat IN.BAM to calculate some statistics about the number of alignments with different flags. \n",
    "\n",
    "**Q8. Do we get more or less reads mapped after cutting and trimming?**"
   ]
  },
  {
   "cell_type": "code",
   "execution_count": null,
   "metadata": {},
   "outputs": [],
   "source": [
    "# This command is to create an index of the Paeruginosa_PAO1.fna but you do not need to run the command.\n",
    "#! bwa index /exercises/alignment/paeruginosa/Paeruginosa_PAO1.fna"
   ]
  },
  {
   "cell_type": "code",
   "execution_count": null,
   "metadata": {},
   "outputs": [],
   "source": [
    "! bwa  mem /exercises/alignment/paeruginosa/Paeruginosa_PAO1.fna /exercises/alignment/paeruginosa/Paeruginosa.fastq.gz |   samtools view -Sbh  -  > Paeruginosa_alignment.bam"
   ]
  },
  {
   "cell_type": "code",
   "execution_count": null,
   "metadata": {},
   "outputs": [],
   "source": [
    "%%bash\n",
    "bwa  mem /exercises/alignment/paeruginosa/Paeruginosa_PAO1.fna /exercises/alignment/paeruginosa/Paeruginosa.fastq.cut.gz | \\\n",
    "    samtools view -Sbh  - >   Paeruginosa_trim_alignment.bam"
   ]
  },
  {
   "cell_type": "code",
   "execution_count": null,
   "metadata": {},
   "outputs": [],
   "source": [
    "%%bash\n",
    "bwa  mem /exercises/alignment/paeruginosa/Paeruginosa_PAO1.fna /exercises/alignment/paeruginosa/Paeruginosa.fastq.cut.trim.gz | \\\n",
    "            samtools view -Sbh  - >   Paeruginosa_cut_trim_alignment.bam"
   ]
  },
  {
   "cell_type": "markdown",
   "metadata": {},
   "source": [
    "Let's look at the edit distances for each of the alignments, these are encoded in the BAM-file using the \"NM:i: tag. Here we use a \"perl-oneliner\" to extract the edit distance for each read. Don't worry about the Perl command - you could write a simple Python script to calculate the same thing. \n",
    "\n",
    "``samtools view RAW_BAM_FILE | perl -ne 'if ($_ =~ m/NM:i:(\\d+)/) {print $1, \"\\n\"}' > Paeruginosa.nm ``<br>\n",
    "``samtools view CUT_BAM_FILE | perl -ne 'if ($_ =~ m/NM:i:(\\d+)/) {print $1, \"\\n\"}' > Paeruginosa.cut.nm ``<br>\n",
    "``samtools view TRIMMED_BAM_FILE | perl -ne 'if ($_ =~ m/NM:i:(\\d+)/) {print $1, \"\\n\"}' > Paeruginosa.cut.trim.nm ``\n",
    "\n",
    "The plot below  demonstrates that when we cut and trim the reads, the resulting file has more reads of 0 edit distance. Whereas in the *raw* reads files and the *cut* reads file there are more reads with higher edit distance than the *cut&trim* reads.\n",
    "This means that when we cut and trim the reads we remove read that had many mismatches. Having many mismatches is not always or necesserily *bad*, it shows divergence from the reference, but when they have bad qualities then they should be removed. They may mess up downstream calculations such as SNP calling.\n"
   ]
  },
  {
   "cell_type": "code",
   "execution_count": null,
   "metadata": {},
   "outputs": [],
   "source": [
    "! samtools view  ./Paeruginosa_alignment.bam          | perl -ne 'if ($_ =~ m/NM:i:(\\d+)/) {print $1, \"\\n\"}' > Paeruginosa.nm\n",
    "! samtools view  ./Paeruginosa_trim_alignment.bam     | perl -ne 'if ($_ =~ m/NM:i:(\\d+)/) {print $1, \"\\n\"}' > Paeruginosa.cut.nm\n",
    "! samtools view  ./Paeruginosa_cut_trim_alignment.bam | perl -ne 'if ($_ =~ m/NM:i:(\\d+)/) {print $1, \"\\n\"}' > Paeruginosa.cut.trim.nm"
   ]
  },
  {
   "cell_type": "code",
   "execution_count": null,
   "metadata": {},
   "outputs": [],
   "source": [
    "# Run an R script to generate an image with the edit distances\n",
    "! Rscript --vanilla /exercises/alignment/scripts/Rplot_editDis.R ./Paeruginosa.nm  ./Paeruginosa.cut.nm ./Paeruginosa.cut.trim.nm\n"
   ]
  },
  {
   "cell_type": "code",
   "execution_count": null,
   "metadata": {},
   "outputs": [],
   "source": [
    "# Visualize the image\n",
    "from IPython.display import Image\n",
    "Image(filename='trimming.effect.png') "
   ]
  },
  {
   "cell_type": "code",
   "execution_count": null,
   "metadata": {},
   "outputs": [],
   "source": []
  }
 ],
 "metadata": {
  "kernelspec": {
   "display_name": "Python 3",
   "language": "python",
   "name": "python3"
  },
  "language_info": {
   "codemirror_mode": {
    "name": "ipython",
    "version": 3
   },
   "file_extension": ".py",
   "mimetype": "text/x-python",
   "name": "python",
   "nbconvert_exporter": "python",
   "pygments_lexer": "ipython3",
   "version": "3.6.7"
  }
 },
 "nbformat": 4,
 "nbformat_minor": 2
}
