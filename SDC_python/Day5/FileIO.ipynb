{
 "cells": [
  {
   "cell_type": "markdown",
   "metadata": {},
   "source": [
    "# File IO"
   ]
  },
  {
   "cell_type": "markdown",
   "metadata": {},
   "source": [
    "So far we have only been reading and writing to standard input and output. \n",
    "\n",
    "For obvious reasons, it is impractical or infeasible to always copy paste data into python. Therefore, to work with actual data, eading and writing files is essential."
   ]
  },
  {
   "cell_type": "code",
   "execution_count": null,
   "metadata": {},
   "outputs": [],
   "source": []
  },
  {
   "cell_type": "markdown",
   "metadata": {},
   "source": [
    "Before we go through input from file. We can briefly touch upon input from the user during program runtime. "
   ]
  },
  {
   "cell_type": "markdown",
   "metadata": {},
   "source": [
    "This is achieved through the input function. The syntax is as follow:"
   ]
  },
  {
   "cell_type": "code",
   "execution_count": null,
   "metadata": {},
   "outputs": [],
   "source": [
    "print('Please enter your name:')   # Mesage to show \n",
    "name = input()                     # Getting user input\n",
    "print('Hello, ' + name)            #Handling user input"
   ]
  },
  {
   "cell_type": "code",
   "execution_count": null,
   "metadata": {},
   "outputs": [],
   "source": []
  },
  {
   "cell_type": "code",
   "execution_count": null,
   "metadata": {},
   "outputs": [],
   "source": []
  },
  {
   "cell_type": "markdown",
   "metadata": {},
   "source": [
    "## Opening files"
   ]
  },
  {
   "cell_type": "markdown",
   "metadata": {},
   "source": [
    "Files can be opened using the open function, to create a file object. \n",
    "\n",
    "The open function supports several accession modes. \n",
    "\n",
    "The most commonly used are:\n",
    "\n",
    "__r__ : read (reads file)\n",
    "\n",
    "__rb__ : read binary (reads binary file)\n",
    "\n",
    "__w__ : write (write file, if file exists, it will be overwritten)\n",
    "\n",
    "__wb__ : write binary (writes file in binary mode)\n",
    "\n",
    "__a__ : append (opens file in append mode)\n",
    "\n",
    "__r__+ : read and write (opens file in read and write mode. If file exists, it will be overwritten) (+ can also be combined with w and a)"
   ]
  },
  {
   "cell_type": "code",
   "execution_count": null,
   "metadata": {},
   "outputs": [],
   "source": []
  },
  {
   "cell_type": "markdown",
   "metadata": {},
   "source": [
    "The open function can be used in the following way to read a file. \n",
    "\n",
    "In this example we use a list of fruits (from : https://gist.github.com/lasagnaphil/7667eaeddb6ed0c565f0cb653d756942#file-fruits-txt)\n",
    "\n",
    "We use access mode 'r' to read the file.\n",
    "\n",
    "It is generally good practice to close a file, after you finished working with it. This is done using file_object.close().\n",
    "\n",
    "\n"
   ]
  },
  {
   "cell_type": "code",
   "execution_count": null,
   "metadata": {},
   "outputs": [],
   "source": [
    "file_name = 'fruits.txt'\n",
    "access_mode = 'r'\n",
    "file_object = open(file_name , access_mode)\n"
   ]
  },
  {
   "cell_type": "markdown",
   "metadata": {},
   "source": [
    "The entire file can be printed to screen using the read() method. \n",
    "\n",
    "Individual lines ca be accessed using the readline() method.\n",
    "\n",
    "Pleace note, that once the file "
   ]
  },
  {
   "cell_type": "code",
   "execution_count": null,
   "metadata": {},
   "outputs": [],
   "source": [
    "print(file_object.read())\n",
    "file_object.close()"
   ]
  },
  {
   "cell_type": "code",
   "execution_count": null,
   "metadata": {},
   "outputs": [],
   "source": [
    "file_object = open(file_name , access_mode)\n",
    "print(file_object.readline())\n",
    "print(file_object.readline())\n",
    "file_object.close()"
   ]
  },
  {
   "cell_type": "markdown",
   "metadata": {},
   "source": [
    "Please note, the file is read line by line. Once the line is read, it will not be read again. (unless you reposition the pointer using seek(0,0)\n",
    "\n",
    "For example, if we read all the lines with file_object.read(), nothing will be printed using file_object.readline()."
   ]
  },
  {
   "cell_type": "code",
   "execution_count": null,
   "metadata": {},
   "outputs": [],
   "source": [
    "file_object = open(file_name , access_mode)\n",
    "print(file_object.read())\n",
    "\n"
   ]
  },
  {
   "cell_type": "code",
   "execution_count": null,
   "metadata": {},
   "outputs": [],
   "source": [
    "print(file_object.readline())\n",
    "file_object.close()"
   ]
  },
  {
   "cell_type": "code",
   "execution_count": null,
   "metadata": {},
   "outputs": [],
   "source": []
  },
  {
   "cell_type": "code",
   "execution_count": null,
   "metadata": {},
   "outputs": [],
   "source": []
  },
  {
   "cell_type": "markdown",
   "metadata": {},
   "source": [
    "## Iterating over a file"
   ]
  },
  {
   "cell_type": "code",
   "execution_count": null,
   "metadata": {},
   "outputs": [],
   "source": []
  },
  {
   "cell_type": "code",
   "execution_count": null,
   "metadata": {},
   "outputs": [],
   "source": [
    "file_object = open(file_name , access_mode)\n",
    "\n",
    "\n",
    "# Using for loop\n",
    "for i in file_object:\n",
    "    print(i)\n",
    "file_object.close()"
   ]
  },
  {
   "cell_type": "code",
   "execution_count": null,
   "metadata": {},
   "outputs": [],
   "source": [
    "file_object = open(file_name , access_mode)\n",
    "\n",
    "# Using a while loop\n",
    "line = file_object.readline()\n",
    "while line != \"\":             # Detect end of file\n",
    "    print(line)\n",
    "    line = file_object.readline()"
   ]
  },
  {
   "cell_type": "code",
   "execution_count": null,
   "metadata": {},
   "outputs": [],
   "source": []
  },
  {
   "cell_type": "markdown",
   "metadata": {},
   "source": [
    "## Perfroming operations on lines"
   ]
  },
  {
   "cell_type": "markdown",
   "metadata": {},
   "source": [
    "We can perfrom actions on individual lines of the input file. Here we will transform all letters to capital. "
   ]
  },
  {
   "cell_type": "code",
   "execution_count": null,
   "metadata": {},
   "outputs": [],
   "source": [
    "file_object = open(file_name , access_mode)\n",
    "for i in file_object:\n",
    "    print(i.upper())                        # Upper method capitalize all strings (you can also use .lower())\n",
    "file_object.close()"
   ]
  },
  {
   "cell_type": "markdown",
   "metadata": {},
   "source": [
    "We can akso incluse control flow during file reading. For example looking for fruits that start with 'A'."
   ]
  },
  {
   "cell_type": "code",
   "execution_count": null,
   "metadata": {},
   "outputs": [],
   "source": [
    "file_object = open(file_name , access_mode)\n",
    "for i in file_object:\n",
    "    \n",
    "    if i[0] == 'A':                    # Check if first letter is 'A'\n",
    "        print(i)                        \n",
    "file_object.close()"
   ]
  },
  {
   "cell_type": "code",
   "execution_count": null,
   "metadata": {},
   "outputs": [],
   "source": [
    "fruit_list = []                     #Create empty list\n",
    "\n",
    "file_object = open(file_name , access_mode)\n",
    "for i in file_object:\n",
    "    fruit = i.split('\\n')[0]                    # .split('\\n')[0] removes the tailing newline (\\n)\n",
    "    fruit_list.append(fruit)                    # .append() appends an object to a list    \n",
    "file_object.close()"
   ]
  },
  {
   "cell_type": "code",
   "execution_count": null,
   "metadata": {},
   "outputs": [],
   "source": [
    "fruit_list[0:5]"
   ]
  },
  {
   "cell_type": "markdown",
   "metadata": {},
   "source": [
    "### Here are some other usefull methods that act on lists (and some also strings)\n",
    "\n",
    "__sort__ - which surprisingly sorts the list according to some principle\n",
    "\n",
    "__reverse__ - which reverses a list\n",
    "\n",
    "__pop__ - which removes elements from the list\n",
    "\n",
    "__len__ - which returns the length of a list\n",
    "\n",
    "__split__ - which splits a sting into a list\n",
    "\n",
    "__join__ - which concatenates a list into a string"
   ]
  },
  {
   "cell_type": "code",
   "execution_count": null,
   "metadata": {},
   "outputs": [],
   "source": [
    "fruits = ['Banana', 'Apple', 'Orange']"
   ]
  },
  {
   "cell_type": "code",
   "execution_count": null,
   "metadata": {},
   "outputs": [],
   "source": [
    "fruits.sort() #sorts a list\n",
    "fruits"
   ]
  },
  {
   "cell_type": "code",
   "execution_count": null,
   "metadata": {},
   "outputs": [],
   "source": [
    "fruits.reverse()   #reversing the list\n",
    "fruits"
   ]
  },
  {
   "cell_type": "code",
   "execution_count": null,
   "metadata": {},
   "outputs": [],
   "source": [
    "fruits.pop(1)    #removes item from list based on integer\n",
    "fruits"
   ]
  },
  {
   "cell_type": "code",
   "execution_count": null,
   "metadata": {},
   "outputs": [],
   "source": [
    "len(fruits)   # returns length of a list or a string"
   ]
  },
  {
   "cell_type": "code",
   "execution_count": null,
   "metadata": {},
   "outputs": [],
   "source": [
    "'Orange'.split('a')   #Splits a string into a list of strings"
   ]
  },
  {
   "cell_type": "code",
   "execution_count": null,
   "metadata": {},
   "outputs": [],
   "source": [
    "'-'.join(fruits)  #Joins a list of strings     '-' is what you want to join the strings with"
   ]
  },
  {
   "cell_type": "code",
   "execution_count": null,
   "metadata": {},
   "outputs": [],
   "source": []
  },
  {
   "cell_type": "markdown",
   "metadata": {},
   "source": [
    "lastly, reading (and writing) files can be done more expressively using the with statement. As an added bonus, upon the end of the with statement the file is automatically closed. The syntax is as follow:"
   ]
  },
  {
   "cell_type": "code",
   "execution_count": null,
   "metadata": {},
   "outputs": [],
   "source": [
    "with open(file_name , access_mode) as file_object:       \n",
    "    for i in file_object:\n",
    "        print(i)"
   ]
  },
  {
   "cell_type": "code",
   "execution_count": null,
   "metadata": {},
   "outputs": [],
   "source": []
  },
  {
   "cell_type": "code",
   "execution_count": null,
   "metadata": {},
   "outputs": [],
   "source": []
  },
  {
   "cell_type": "markdown",
   "metadata": {},
   "source": [
    "## Writing files"
   ]
  },
  {
   "cell_type": "markdown",
   "metadata": {},
   "source": [
    "Writhing files is performed using the same basic syntax as file reading (and access mode 'w'). "
   ]
  },
  {
   "cell_type": "code",
   "execution_count": null,
   "metadata": {},
   "outputs": [],
   "source": [
    "access_mode = 'w'\n",
    "file_name = 'NewFile.txt'"
   ]
  },
  {
   "cell_type": "code",
   "execution_count": null,
   "metadata": {},
   "outputs": [],
   "source": [
    "file_object = open(file_name , access_mode)\n",
    "file_object.write( \"This line is now written to disk\")\n"
   ]
  },
  {
   "cell_type": "code",
   "execution_count": null,
   "metadata": {},
   "outputs": [],
   "source": [
    "file_object.close()                                    # Try looking at the created file NewFile.txt before closing it. This highlights why closing files is important!''"
   ]
  },
  {
   "cell_type": "markdown",
   "metadata": {},
   "source": [
    "The with syntax also works for file writing! Here the file is automatically closed."
   ]
  },
  {
   "cell_type": "code",
   "execution_count": null,
   "metadata": {},
   "outputs": [],
   "source": [
    "with open(file_name , access_mode) as file_object:\n",
    "    file_object.write( \"This line is now written to disk\")"
   ]
  },
  {
   "cell_type": "code",
   "execution_count": null,
   "metadata": {},
   "outputs": [],
   "source": []
  },
  {
   "cell_type": "markdown",
   "metadata": {},
   "source": [
    "Now that we know how to read files, we can try saving part of the fruits file.\n",
    "\n",
    "We can save all the fruits with names of more than 6 characters. "
   ]
  },
  {
   "cell_type": "code",
   "execution_count": null,
   "metadata": {},
   "outputs": [],
   "source": [
    "with open(file_name , access_mode) as file_object:\n",
    "    for fruit in fruit_list:                      # Iterate over the list of fruits\n",
    "        if len(fruit) > 6:                        # Check if word length is more than 6 characters\n",
    "            file_object.write( fruit + '\\n')      #add newline to the end of each line    (try to remove this and observe what happens)"
   ]
  },
  {
   "cell_type": "markdown",
   "metadata": {},
   "source": [
    "or we can save all the multi-word fruit names."
   ]
  },
  {
   "cell_type": "code",
   "execution_count": null,
   "metadata": {},
   "outputs": [],
   "source": [
    "with open(file_name , access_mode) as file_object:\n",
    "    for fruit in fruit_list:                                 # Iterate over the list of fruits\n",
    "        if len(fruit.split(' ')) > 1:                        # Split fruit names into individual words (assuming that words are separated by spaces)    and check if the number of words is more than 1\n",
    "            file_object.write( fruit + '\\n')"
   ]
  },
  {
   "cell_type": "code",
   "execution_count": null,
   "metadata": {},
   "outputs": [],
   "source": []
  },
  {
   "cell_type": "markdown",
   "metadata": {},
   "source": [
    "### Exercises\n",
    "\n",
    "1. Make a program that ask for words and saves them in a file called words.txt (one word per line) until you write STOP.\n",
    "\n",
    "2. Make a program that reads all the words in words.txt in an list. First the words must be sorted alphabetically, then the list should be reversed (the first line shall be the last and vice versa), finally the resulting list should be written back in words.txt.\n",
    "\n",
    "3. In the file ex5.acc there are 6461 unique GenBank accession numbers (taken from HU6800 DNA array chip). An inexperienced bioinformatician unfortunately fouled up the list, so many of the accession numbers appears more than once. It is your job to clean the list, so all accession numbers only appear once, and in alphabetical order. Save the new list in clean.acc. Hint: After sorting a list, duplicates are \"next\" to each other, thereby making them easy to find and eliminate. You are NOT to use the pop method in this exercise. Make instead a new list with the unique elements.\n",
    "\n",
    "4. Improve/change the previous exercise by using the pop method to eliminate duplicates. HINT: Keep one list and pop duplicates out of it instead of appending them into a new list.\n",
    "\n",
    "5. Searching for accession numbers. Make a program that first reads your file clean.acc, and then asks for accession numbers and checks if they are in the list. If in the list the program should tell you, but it should also tell you if it is not in the list. The program should continue to ask until you write STOP. The search method you should employ is linear search; this is simply searching the list from one end to the other one accession number at a time. Linear search is always used when you don't know where the element you are searching for is placed in the list. In this exercise you can not use the in operator.\n",
    "\n",
    "6. After having looked at the list in clean.acc, you discover that the accession numbers are sorted. This means that you can use the much more powerful binary search method. Repeat the previous exercise, but this time use binary search. See what Wikipedia has to say about binary search.\n",
    "    \n",
    "7. Make a Python program that works a bit like unix cut. Test it before you start so you know how the output looks. It should cut out the columns that you specify in the order you specify on the command line from a tab-separated file. Some examples could be 'pythoncut.py 2 ex1.dat' which cuts out column 2 from ex1.dat or 'pythoncut.py 3 1 ex1.dat' which cuts out columns 3 and 1 from ex1.dat and displays them in that order (which is different from the original).\n",
    "    \n",
    "8. Make a program that calculate the three sums of the three columns in one reading of the file ex1.dat using split to separate the columns.\n",
    "    \n",
    "9. Improve on the previous exercise by making a program that calculates the sum of all columns in the file, no matter how many columns there are. Each column should be summed individually. You can assume that each row (line) has the same number of columns in the file."
   ]
  },
  {
   "cell_type": "code",
   "execution_count": null,
   "metadata": {},
   "outputs": [],
   "source": []
  }
 ],
 "metadata": {
  "kernelspec": {
   "display_name": "Python 3",
   "language": "python",
   "name": "python3"
  },
  "language_info": {
   "codemirror_mode": {
    "name": "ipython",
    "version": 3
   },
   "file_extension": ".py",
   "mimetype": "text/x-python",
   "name": "python",
   "nbconvert_exporter": "python",
   "pygments_lexer": "ipython3",
   "version": "3.6.7"
  }
 },
 "nbformat": 4,
 "nbformat_minor": 2
}
