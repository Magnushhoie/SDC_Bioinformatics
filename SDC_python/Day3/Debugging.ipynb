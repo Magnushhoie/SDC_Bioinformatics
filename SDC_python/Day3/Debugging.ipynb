{
 "cells": [
  {
   "cell_type": "markdown",
   "metadata": {},
   "source": [
    "# This notebook goes through code commenting and debugging"
   ]
  },
  {
   "cell_type": "markdown",
   "metadata": {},
   "source": [
    "## Commenting\n",
    "\n",
    "Commenting is an essential part of producing high-quality code. \n",
    "\n",
    "Depending on the purpose of the program, comments can serve as notes to yourself, or they can be written so that others will understand your code.\n",
    "\n",
    "Comments begin with the hash (#) symbol, indicating that the succeeding text should be ignored by the compiler. \n",
    "\n"
   ]
  },
  {
   "cell_type": "code",
   "execution_count": null,
   "metadata": {},
   "outputs": [],
   "source": [
    "a = 2\n",
    "\n",
    "b = 4\n",
    "\n",
    "a * b #Multiplication of two numbers"
   ]
  },
  {
   "cell_type": "code",
   "execution_count": null,
   "metadata": {},
   "outputs": [],
   "source": [
    "# Comments also can be  \n",
    "# written in multiple lines\n",
    "2 + 2"
   ]
  },
  {
   "cell_type": "code",
   "execution_count": null,
   "metadata": {},
   "outputs": [],
   "source": []
  },
  {
   "cell_type": "markdown",
   "metadata": {},
   "source": [
    "## Debugging"
   ]
  },
  {
   "cell_type": "markdown",
   "metadata": {},
   "source": [
    "As soon as a python program encounters an error, it will terminate. \n",
    "\n",
    "There are two types of errors that you need to know about. \n",
    "\n",
    "Syntax errors and exceptions/runtime errors. \n",
    "\n"
   ]
  },
  {
   "cell_type": "markdown",
   "metadata": {},
   "source": [
    "### Syntax errors"
   ]
  },
  {
   "cell_type": "markdown",
   "metadata": {},
   "source": [
    "Syntax errors typically occurs when you make a typo, or for some other reason break the basic syntax rules. \n",
    "\n",
    "Examples of this could be typos, missing colons, incomplete parenthesis. \n",
    "\n",
    "These type of errors are found before program runtime, when python tries to parse the program. "
   ]
  },
  {
   "cell_type": "code",
   "execution_count": null,
   "metadata": {},
   "outputs": [],
   "source": [
    "foor i in range(1, 5): # Typo in \"for\"\n",
    "    print(i)"
   ]
  },
  {
   "cell_type": "code",
   "execution_count": null,
   "metadata": {},
   "outputs": [],
   "source": [
    "for i in range(1, 10) # Missing : \n",
    "    print(i)"
   ]
  },
  {
   "cell_type": "code",
   "execution_count": null,
   "metadata": {},
   "outputs": [],
   "source": [
    "(1,2,3,4 # Incomplete parenthesis"
   ]
  },
  {
   "cell_type": "markdown",
   "metadata": {},
   "source": [
    "### Exceptions"
   ]
  },
  {
   "cell_type": "markdown",
   "metadata": {},
   "source": [
    "Exceptions are thrown when there is a problem during the runtime of the program. \n",
    "\n",
    "In contrast to syntax errors, python details what type error it encountered. \n",
    "\n",
    "Most of these are pretty selfexplanatory. e.g. __ZeroDivisionError__, __IndexError__, __NameError__ and __TypeError__.\n",
    "\n",
    "Complete list of all build-in exceptions: https://docs.python.org/3/library/exceptions.html"
   ]
  },
  {
   "cell_type": "code",
   "execution_count": null,
   "metadata": {},
   "outputs": [],
   "source": []
  },
  {
   "cell_type": "markdown",
   "metadata": {},
   "source": [
    "We can induce a __TypeError__ by trying to add a string and an integer. "
   ]
  },
  {
   "cell_type": "code",
   "execution_count": null,
   "metadata": {},
   "outputs": [],
   "source": [
    "'this is a string' + 2 # Addition of a string and an integer"
   ]
  },
  {
   "cell_type": "markdown",
   "metadata": {},
   "source": [
    "If we typecast the integer to a string the program executes as expected. "
   ]
  },
  {
   "cell_type": "code",
   "execution_count": null,
   "metadata": {},
   "outputs": [],
   "source": [
    "'this is a string' + str(2) # Addition of a string and an integer"
   ]
  },
  {
   "cell_type": "code",
   "execution_count": null,
   "metadata": {},
   "outputs": [],
   "source": []
  },
  {
   "cell_type": "markdown",
   "metadata": {},
   "source": [
    "__IndexError__ occurs when we try to access an index of a list that does not exist. I this happens, check that loops use the correct range. Also remember that python starts counting at 0!"
   ]
  },
  {
   "cell_type": "code",
   "execution_count": null,
   "metadata": {},
   "outputs": [],
   "source": [
    "fruits = ['apple', 'banana', 'orange']"
   ]
  },
  {
   "cell_type": "code",
   "execution_count": null,
   "metadata": {},
   "outputs": [],
   "source": [
    "fruits[2]"
   ]
  },
  {
   "cell_type": "code",
   "execution_count": null,
   "metadata": {},
   "outputs": [],
   "source": [
    "fruits[3]"
   ]
  },
  {
   "cell_type": "code",
   "execution_count": null,
   "metadata": {},
   "outputs": [],
   "source": []
  },
  {
   "cell_type": "markdown",
   "metadata": {},
   "source": [
    "__NameError__'s happen when we try to use a variable that does not excist. This is usually due to a type in the code, or by not running cells in the notebooks chronologically. "
   ]
  },
  {
   "cell_type": "code",
   "execution_count": null,
   "metadata": {},
   "outputs": [],
   "source": [
    "banana"
   ]
  },
  {
   "cell_type": "code",
   "execution_count": null,
   "metadata": {},
   "outputs": [],
   "source": [
    "banana = 'is good'\n",
    "banana"
   ]
  },
  {
   "cell_type": "code",
   "execution_count": null,
   "metadata": {},
   "outputs": [],
   "source": []
  },
  {
   "cell_type": "markdown",
   "metadata": {},
   "source": [
    "__ZeroDivisionError__ happens when we try to divide something with 0. If this happens, where is likely something wrong with the logic of the program. "
   ]
  },
  {
   "cell_type": "code",
   "execution_count": null,
   "metadata": {},
   "outputs": [],
   "source": [
    "1 / 0"
   ]
  },
  {
   "cell_type": "code",
   "execution_count": null,
   "metadata": {},
   "outputs": [],
   "source": []
  },
  {
   "cell_type": "markdown",
   "metadata": {},
   "source": [
    "## How to debug"
   ]
  },
  {
   "cell_type": "markdown",
   "metadata": {},
   "source": [
    "Usually, when writing a program, you want to test is on a small test set where you can control that the output is correct. \n",
    "\n",
    "Firstly, you obviously have to fix the above mentioned problems that occurs at ot before runtime. \n",
    "If everything runs without errors, but the output is still wrong, then you need to dissect the individual components of the program, to figure out where the error is. \n",
    "\n",
    "Printing intermediate calculations to the screen and inspecting that what you expect to happen is actually happening, is extremely powerfull and will usually help you figure out what part of your code is causing the bug.  "
   ]
  },
  {
   "cell_type": "markdown",
   "metadata": {},
   "source": [
    "Typical examples of bugs is incorrect positioning of parenthesis (as in normal math operations) or incorrect indentation of commands within loops and if statements. "
   ]
  },
  {
   "cell_type": "code",
   "execution_count": null,
   "metadata": {},
   "outputs": [],
   "source": [
    "integer_list = [3,5,1,5,7,3,12]\n",
    "highest = 0\n",
    "count = 0\n",
    "\n",
    "for integer in integer_list:\n",
    "    if integer > highest:\n",
    "        highest = integer\n",
    "    print('Integer index:', count, \n",
    "          'Integer', integer,\n",
    "          'Highest: ', highest)    #Printing the state of the different variables in loops, help monitoring if things happen as we expect\n",
    "\n",
    "    count = count +1\n",
    "print('The highest value was :', highest)\n",
    "    "
   ]
  },
  {
   "cell_type": "code",
   "execution_count": null,
   "metadata": {},
   "outputs": [],
   "source": []
  },
  {
   "cell_type": "markdown",
   "metadata": {},
   "source": [
    "## Exercises"
   ]
  },
  {
   "cell_type": "markdown",
   "metadata": {},
   "source": [
    "In these exercises, I will provide you with test pieces of code and a description of what it should do. Your job is then to comment the code, and fix problems with the code."
   ]
  },
  {
   "cell_type": "markdown",
   "metadata": {},
   "source": [
    "1. Make the code calculate the sum of the numbers from 0 to 10."
   ]
  },
  {
   "cell_type": "code",
   "execution_count": null,
   "metadata": {},
   "outputs": [],
   "source": [
    "nums = 0\n",
    "for num in range(10):\n",
    "    num += num"
   ]
  },
  {
   "cell_type": "markdown",
   "metadata": {},
   "source": [
    "2. Make the program calculate the sum of numbers between 1 and 10. "
   ]
  },
  {
   "cell_type": "code",
   "execution_count": null,
   "metadata": {},
   "outputs": [],
   "source": [
    "product = 0\n",
    "for i in range(1, 10):\n",
    "    product *= i"
   ]
  },
  {
   "cell_type": "markdown",
   "metadata": {},
   "source": [
    "3. Make the program count to 10"
   ]
  },
  {
   "cell_type": "code",
   "execution_count": null,
   "metadata": {},
   "outputs": [],
   "source": [
    "i = 1\n",
    "while i < 11:\n",
    "    print(i)\n",
    "i += 1"
   ]
  },
  {
   "cell_type": "markdown",
   "metadata": {},
   "source": [
    "4. Make the program concateante a list of inegers (e.g.[1,2,3] = 123 or [2 ,  3] == 23)"
   ]
  },
  {
   "cell_type": "code",
   "execution_count": null,
   "metadata": {},
   "outputs": [],
   "source": [
    "integers = [1,2,3,4,5,6]\n",
    "concat = 0\n",
    "for i in integers:\n",
    "    concat += i\n",
    "    \n"
   ]
  },
  {
   "cell_type": "markdown",
   "metadata": {},
   "source": [
    "5. Make the program print each element of the string in reverse"
   ]
  },
  {
   "cell_type": "code",
   "execution_count": null,
   "metadata": {},
   "outputs": [],
   "source": [
    "the_string = 'Can this be reversed?'\n",
    "i = len(the_string) - 1 \n",
    "while i > 0 :\n",
    "    print(the_string[i]) \n",
    "    i -= 1"
   ]
  },
  {
   "cell_type": "code",
   "execution_count": null,
   "metadata": {},
   "outputs": [],
   "source": []
  },
  {
   "cell_type": "code",
   "execution_count": null,
   "metadata": {},
   "outputs": [],
   "source": []
  }
 ],
 "metadata": {
  "kernelspec": {
   "display_name": "Python 3",
   "language": "python",
   "name": "python3"
  },
  "language_info": {
   "codemirror_mode": {
    "name": "ipython",
    "version": 3
   },
   "file_extension": ".py",
   "mimetype": "text/x-python",
   "name": "python",
   "nbconvert_exporter": "python",
   "pygments_lexer": "ipython3",
   "version": "3.7.6"
  }
 },
 "nbformat": 4,
 "nbformat_minor": 4
}
