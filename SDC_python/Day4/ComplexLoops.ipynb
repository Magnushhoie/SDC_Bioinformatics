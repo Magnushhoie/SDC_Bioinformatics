{
 "cells": [
  {
   "cell_type": "markdown",
   "metadata": {},
   "source": [
    "# This notebook expandes on the loop concept previously described"
   ]
  },
  {
   "cell_type": "markdown",
   "metadata": {},
   "source": [
    "In this notebook I will introduce more complicated control of loops including nesting and exit conditions. \n",
    "\n"
   ]
  },
  {
   "cell_type": "markdown",
   "metadata": {},
   "source": [
    "Like we saw earlier, we can add further control of loops using __if else__ statements. \n",
    "Likewise, we can also add another loop inside a loop. "
   ]
  },
  {
   "cell_type": "markdown",
   "metadata": {},
   "source": [
    "The nesting syntax is as you probably expect:"
   ]
  },
  {
   "cell_type": "raw",
   "metadata": {},
   "source": [
    "for i in condition1:\n",
    "    for j in condition2:\n",
    "        do something"
   ]
  },
  {
   "cell_type": "markdown",
   "metadata": {},
   "source": [
    "One case where nesting becomes usefull, could be when acting on lists of lists (or arrays)."
   ]
  },
  {
   "cell_type": "code",
   "execution_count": 10,
   "metadata": {},
   "outputs": [],
   "source": [
    "l_of_l = [[1,2,3,34,45,2,34,5,1,3,5,3,2,34,5,4], \n",
    "          [2,3,4,234,3,5,4,4,45,4,3,54,6], \n",
    "          [7,6,5,23,5,3,5,7,67,23,65,43,23]]"
   ]
  },
  {
   "cell_type": "code",
   "execution_count": 11,
   "metadata": {},
   "outputs": [
    {
     "data": {
      "text/plain": [
       "[[1, 2, 3, 34, 45, 2, 34, 5, 1, 3, 5, 3, 2, 34, 5, 4],\n",
       " [2, 3, 4, 234, 3, 5, 4, 4, 45, 4, 3, 54, 6],\n",
       " [7, 6, 5, 23, 5, 3, 5, 7, 67, 23, 65, 43, 23]]"
      ]
     },
     "execution_count": 11,
     "metadata": {},
     "output_type": "execute_result"
    }
   ],
   "source": [
    "l_of_l"
   ]
  },
  {
   "cell_type": "markdown",
   "metadata": {},
   "source": [
    "Say that we want to calculat the sum of all of the sublists. We could do like this."
   ]
  },
  {
   "cell_type": "code",
   "execution_count": 13,
   "metadata": {},
   "outputs": [
    {
     "name": "stdout",
     "output_type": "stream",
     "text": [
      "183\n",
      "371\n",
      "282\n"
     ]
    }
   ],
   "source": [
    "\n",
    "for l in l_of_l:\n",
    "    s = 0\n",
    "    for i in l:\n",
    "        s += i\n",
    "    print(s)"
   ]
  },
  {
   "cell_type": "markdown",
   "metadata": {},
   "source": [
    "We can also iterate over letters in a word. Here is an example of nesting where we are loop over letters in a list of words."
   ]
  },
  {
   "cell_type": "code",
   "execution_count": 15,
   "metadata": {},
   "outputs": [
    {
     "name": "stdout",
     "output_type": "stream",
     "text": [
      "b\n",
      "a\n",
      "n\n",
      "a\n",
      "n\n",
      "a\n",
      "a\n",
      "p\n",
      "p\n",
      "l\n",
      "e\n",
      "o\n",
      "r\n",
      "a\n",
      "n\n",
      "g\n",
      "e\n"
     ]
    }
   ],
   "source": [
    "fruits = ['banana', 'apple', 'orange']\n",
    "\n",
    "for fruit in fruits:\n",
    "    for letter in fruit:\n",
    "        print(letter)"
   ]
  },
  {
   "cell_type": "markdown",
   "metadata": {},
   "source": [
    "There is no real limit to how deep you can nest a loop, but it is very hard to find examples where it would be nessesary with more than 2-3X nesting. \n",
    "\n"
   ]
  },
  {
   "cell_type": "code",
   "execution_count": null,
   "metadata": {},
   "outputs": [],
   "source": []
  },
  {
   "cell_type": "markdown",
   "metadata": {},
   "source": [
    "# Loop conditions"
   ]
  },
  {
   "cell_type": "markdown",
   "metadata": {},
   "source": [
    "Since external factors affects how your programme runs, we have some options for exiting the loop, skipping part of the loop or ignoring the external factor. \n",
    "\n",
    "These are controlled by __break__ which exits the loop. \n",
    "\n",
    "One iteration of the loop can be skipped using the __continue__ option.\n",
    "\n",
    "The __pass__ option basically allows us to do noting and is usually used as a placeholder when prototyping code. \n"
   ]
  },
  {
   "cell_type": "code",
   "execution_count": 18,
   "metadata": {},
   "outputs": [
    {
     "name": "stdout",
     "output_type": "stream",
     "text": [
      "Number is 0\n",
      "Number is 1\n",
      "Number is 2\n",
      "Number is 3\n",
      "Number is 4\n",
      "Loop finished\n"
     ]
    }
   ],
   "source": [
    "for number in range(10): #count to 10\n",
    "    if number == 5:\n",
    "        break    # break here\n",
    "\n",
    "    print('Number is ' + str(number))\n",
    "\n",
    "print('Loop finished') "
   ]
  },
  {
   "cell_type": "code",
   "execution_count": 19,
   "metadata": {},
   "outputs": [
    {
     "name": "stdout",
     "output_type": "stream",
     "text": [
      "Number is 0\n",
      "Number is 1\n",
      "Number is 2\n",
      "Number is 3\n",
      "Number is 4\n",
      "Number is 6\n",
      "Number is 7\n",
      "Number is 8\n",
      "Number is 9\n",
      "Loop finished\n"
     ]
    }
   ],
   "source": [
    "for number in range(10): #count to 10\n",
    "    if number == 5:\n",
    "        continue    # break here\n",
    "\n",
    "    print('Number is ' + str(number))\n",
    "\n",
    "print('Loop finished') "
   ]
  },
  {
   "cell_type": "code",
   "execution_count": 20,
   "metadata": {},
   "outputs": [
    {
     "name": "stdout",
     "output_type": "stream",
     "text": [
      "Number is 0\n",
      "Number is 1\n",
      "Number is 2\n",
      "Number is 3\n",
      "Number is 4\n",
      "Number is 5\n",
      "Number is 6\n",
      "Number is 7\n",
      "Number is 8\n",
      "Number is 9\n",
      "Loop finished\n"
     ]
    }
   ],
   "source": [
    "for number in range(10): #count to 10\n",
    "    if number == 5:\n",
    "        pass    # break here\n",
    "\n",
    "    print('Number is ' + str(number))\n",
    "\n",
    "print('Loop finished') "
   ]
  },
  {
   "cell_type": "markdown",
   "metadata": {},
   "source": []
  },
  {
   "cell_type": "code",
   "execution_count": 29,
   "metadata": {},
   "outputs": [
    {
     "name": "stdout",
     "output_type": "stream",
     "text": [
      "\n",
      "* \n",
      "* * \n",
      "* * * \n",
      "* * * * \n",
      "* * * * * \n",
      "* * * * * * \n",
      "* * * * * * * \n",
      "* * * * * * * * \n",
      "* * * * * * * * * \n",
      "* * * * * * * * * * \n",
      "* * * * * * * * * \n",
      "* * * * * * * * \n",
      "* * * * * * * \n",
      "* * * * * * \n",
      "* * * * * \n",
      "* * * * \n",
      "* * * \n",
      "* * \n",
      "* \n"
     ]
    }
   ],
   "source": [
    "#size\n",
    "n = 10\n",
    "\n",
    "# Start the loop to print the first five rows\n",
    "for i in range(n):\n",
    "    for j in range(i):\n",
    "        print('* ', end=\"\")\n",
    "    print('')\n",
    "\n",
    "# Start the loop to print the remaining rows in decreasing order of stars\n",
    "for i in range(n,0,-1):\n",
    "    for j in range(i):\n",
    "        print('* ', end=\"\")\n",
    "    print('')"
   ]
  },
  {
   "cell_type": "code",
   "execution_count": null,
   "metadata": {},
   "outputs": [],
   "source": []
  },
  {
   "cell_type": "code",
   "execution_count": null,
   "metadata": {},
   "outputs": [],
   "source": []
  },
  {
   "cell_type": "markdown",
   "metadata": {},
   "source": [
    "## Exercises\n",
    "\n",
    "1. Make a programe that given a list of words, counts the number of a's in all words\n",
    "\n",
    "2. Make a programe that given a list of words, calculates the length of all words. \n",
    "\n",
    "3. Make a programe that given a list of list of numbers, calculates the mean of all lists. \n",
    "\n",
    "4. print 1 ones, 2 twos, 3 threes, 4 fours .... till 10 tens. (each number on separate lines)\n",
    "\n",
    "5. Print your name in 3 rows and 5 columns\n",
    "\n",
    "6. Write a Python program to get the Fibonacci series between 0 to 50. (https://en.wikipedia.org/wiki/Fibonacci_number)"
   ]
  },
  {
   "cell_type": "code",
   "execution_count": null,
   "metadata": {},
   "outputs": [],
   "source": []
  }
 ],
 "metadata": {
  "kernelspec": {
   "display_name": "Python 3",
   "language": "python",
   "name": "python3"
  },
  "language_info": {
   "codemirror_mode": {
    "name": "ipython",
    "version": 3
   },
   "file_extension": ".py",
   "mimetype": "text/x-python",
   "name": "python",
   "nbconvert_exporter": "python",
   "pygments_lexer": "ipython3",
   "version": "3.7.6"
  }
 },
 "nbformat": 4,
 "nbformat_minor": 4
}
