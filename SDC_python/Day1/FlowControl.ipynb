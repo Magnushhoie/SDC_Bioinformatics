{
 "cells": [
  {
   "cell_type": "markdown",
   "metadata": {},
   "source": [
    "# In this notebook we will go through an important concept in programming, namely \"Flow control\""
   ]
  },
  {
   "cell_type": "markdown",
   "metadata": {},
   "source": [
    "Flow control is an important feature implemented in \"all\" programming languages. \n",
    "\n",
    "This is generally used, whenever decision making is involved. Meaning that you want to execute different commands based on a condition. \n",
    "\n",
    "In pyhton we use the conditional statements __if__, __elif__ and __else__. \n",
    "\n",
    "Here we will try to control the flow of simple programs using __if__, __if-else__ and __if-elif-else__ conditinal control. \n",
    "\n",
    "Though these can be nested, we will go through advanced flow control in a later notebook. \n",
    "\n",
    "\n",
    "\n"
   ]
  },
  {
   "cell_type": "code",
   "execution_count": null,
   "metadata": {},
   "outputs": [],
   "source": []
  },
  {
   "cell_type": "markdown",
   "metadata": {},
   "source": [
    "In python the conditional expression __if__ has the following syntax:"
   ]
  },
  {
   "cell_type": "raw",
   "metadata": {},
   "source": [
    "if condition:\n",
    "    execute block of code"
   ]
  },
  {
   "cell_type": "markdown",
   "metadata": {},
   "source": [
    "__NOTE:__ The indentation is important, and your program will break if youre doing it wrong! :( Also, forgetting the colon after the condition will break the program!"
   ]
  },
  {
   "cell_type": "markdown",
   "metadata": {},
   "source": [
    "The block of code is executed, if the condition evaluates to __True__"
   ]
  },
  {
   "cell_type": "raw",
   "metadata": {},
   "source": [
    "For evaluation, python accepts the following common comparison operators:\n",
    "\n",
    "==  :  If the values of two operands are equal, then the condition becomes true.    (a == b) is not true.\n",
    "\n",
    "!=  :  If values of two operands are not equal, then condition becomes true.        (a != b) is true.\n",
    "\n",
    ">   :  If the value of left operand is greater than the value of right operand, then condition becomes true.      (a > b) is not true.\n",
    "\n",
    "<   :  If the value of left operand is less than the value of right operand, then condition becomes true.         (a < b) is true.\n",
    "\n",
    ">=  :  If the value of left operand is greater than or equal to the value of right operand, then condition becomes true.      (a >= b) is not true.\n",
    "\n",
    "<=  :  If the value of left operand is less than or equal to the value of right operand, then condition becomes true.         (a <= b) is true."
   ]
  },
  {
   "cell_type": "markdown",
   "metadata": {},
   "source": [
    "I got this list from : https://www.tutorialspoint.com/python/python_basic_operators.htm\n",
    "\n",
    "It is a good collection of operators if you are ever in doubt."
   ]
  },
  {
   "cell_type": "code",
   "execution_count": null,
   "metadata": {},
   "outputs": [],
   "source": []
  },
  {
   "cell_type": "markdown",
   "metadata": {},
   "source": [
    "Here is an example of a program that evaluates if a variable is bigger than a critical value, and if so, writes it to the screen."
   ]
  },
  {
   "cell_type": "code",
   "execution_count": 16,
   "metadata": {},
   "outputs": [
    {
     "name": "stdout",
     "output_type": "stream",
     "text": [
      "X is bigger than 5\n"
     ]
    }
   ],
   "source": [
    "x = 10\n",
    "\n",
    "if x > 5:\n",
    "    print('X is bigger than 5')"
   ]
  },
  {
   "cell_type": "code",
   "execution_count": null,
   "metadata": {},
   "outputs": [],
   "source": []
  },
  {
   "cell_type": "markdown",
   "metadata": {},
   "source": [
    "__NOTE:__ Python is case sensitive. Therefore, uppercase and lowercase letters matter in evaluations!!"
   ]
  },
  {
   "cell_type": "code",
   "execution_count": 17,
   "metadata": {},
   "outputs": [
    {
     "name": "stdout",
     "output_type": "stream",
     "text": [
      "Your variable is not 'string'\n"
     ]
    }
   ],
   "source": [
    "x = 'STRING'\n",
    "\n",
    "if x != 'string':\n",
    "    print(\"\"\"Your variable is not 'string'\"\"\")"
   ]
  },
  {
   "cell_type": "code",
   "execution_count": 19,
   "metadata": {},
   "outputs": [
    {
     "data": {
      "text/plain": [
       "False"
      ]
     },
     "execution_count": 19,
     "metadata": {},
     "output_type": "execute_result"
    }
   ],
   "source": [
    "x == 'string'"
   ]
  },
  {
   "cell_type": "code",
   "execution_count": 6,
   "metadata": {},
   "outputs": [
    {
     "data": {
      "text/plain": [
       "True"
      ]
     },
     "execution_count": 6,
     "metadata": {},
     "output_type": "execute_result"
    }
   ],
   "source": [
    "x == 'STRING'"
   ]
  },
  {
   "cell_type": "code",
   "execution_count": null,
   "metadata": {},
   "outputs": [],
   "source": []
  },
  {
   "cell_type": "markdown",
   "metadata": {},
   "source": [
    "We can expand on this control by adding an else condition. This tells the program what to do, if the __if__ (and __elif__) condition evaluated to False. \n",
    "\n",
    "The else statement will therefore allways be placed last."
   ]
  },
  {
   "cell_type": "code",
   "execution_count": 7,
   "metadata": {},
   "outputs": [
    {
     "name": "stdout",
     "output_type": "stream",
     "text": [
      "X is smaller than 5\n"
     ]
    }
   ],
   "source": [
    "x = 3\n",
    "\n",
    "if x >= 5:\n",
    "    print('X is 5 or more')\n",
    "else:\n",
    "    print('X is smaller than 5')"
   ]
  },
  {
   "cell_type": "code",
   "execution_count": 12,
   "metadata": {},
   "outputs": [
    {
     "name": "stdout",
     "output_type": "stream",
     "text": [
      "Your variable is 'string'\n"
     ]
    }
   ],
   "source": [
    "x = 'string'\n",
    "\n",
    "if x != 'string':\n",
    "    print(\"\"\"Your variable is not 'string'\"\"\")\n",
    "    \n",
    "else:\n",
    "    print(\"\"\"Your variable is 'string'\"\"\")"
   ]
  },
  {
   "cell_type": "code",
   "execution_count": null,
   "metadata": {},
   "outputs": [],
   "source": []
  },
  {
   "cell_type": "markdown",
   "metadata": {},
   "source": [
    "Python also support more complicated conditions through the __and__, __or__ operators.\n",
    "\n",
    "Though they're pretty self-explanatory, here is a small description.\n",
    "\n",
    "__and__ (x and y) yields True if both x and y are True\n",
    "\n",
    "__or__ (x or y) yields True if x or y are True\n",
    "\n",
    "You can play around with them underneath:\n"
   ]
  },
  {
   "cell_type": "code",
   "execution_count": 13,
   "metadata": {},
   "outputs": [
    {
     "data": {
      "text/plain": [
       "True"
      ]
     },
     "execution_count": 13,
     "metadata": {},
     "output_type": "execute_result"
    }
   ],
   "source": [
    "True or False"
   ]
  },
  {
   "cell_type": "code",
   "execution_count": 14,
   "metadata": {},
   "outputs": [
    {
     "data": {
      "text/plain": [
       "False"
      ]
     },
     "execution_count": 14,
     "metadata": {},
     "output_type": "execute_result"
    }
   ],
   "source": [
    "False or False"
   ]
  },
  {
   "cell_type": "code",
   "execution_count": 15,
   "metadata": {},
   "outputs": [
    {
     "data": {
      "text/plain": [
       "True"
      ]
     },
     "execution_count": 15,
     "metadata": {},
     "output_type": "execute_result"
    }
   ],
   "source": [
    "True or True"
   ]
  },
  {
   "cell_type": "code",
   "execution_count": null,
   "metadata": {},
   "outputs": [],
   "source": []
  },
  {
   "cell_type": "code",
   "execution_count": 16,
   "metadata": {},
   "outputs": [
    {
     "data": {
      "text/plain": [
       "False"
      ]
     },
     "execution_count": 16,
     "metadata": {},
     "output_type": "execute_result"
    }
   ],
   "source": [
    "True and False"
   ]
  },
  {
   "cell_type": "code",
   "execution_count": 17,
   "metadata": {},
   "outputs": [
    {
     "data": {
      "text/plain": [
       "True"
      ]
     },
     "execution_count": 17,
     "metadata": {},
     "output_type": "execute_result"
    }
   ],
   "source": [
    "True and True"
   ]
  },
  {
   "cell_type": "code",
   "execution_count": 18,
   "metadata": {},
   "outputs": [
    {
     "data": {
      "text/plain": [
       "False"
      ]
     },
     "execution_count": 18,
     "metadata": {},
     "output_type": "execute_result"
    }
   ],
   "source": [
    "False and False"
   ]
  },
  {
   "cell_type": "code",
   "execution_count": null,
   "metadata": {},
   "outputs": [],
   "source": []
  },
  {
   "cell_type": "markdown",
   "metadata": {},
   "source": [
    "Here is a naive small programme that guesses if you have a Ferrari based on color and horse power of the car. Notice how I control the flow based on two conditions. "
   ]
  },
  {
   "cell_type": "code",
   "execution_count": 23,
   "metadata": {},
   "outputs": [
    {
     "name": "stdout",
     "output_type": "stream",
     "text": [
      "WOW! The car is a Ferrari!\n"
     ]
    }
   ],
   "source": [
    "color = 'red'\n",
    "Horse_power = 600\n",
    "\n",
    "if color == 'red' and Horse_power > 500:\n",
    "    print(\"WOW! The car is a Ferrari!\")\n",
    "else:\n",
    "    print(\"The car is not a Ferrari :( \")"
   ]
  },
  {
   "cell_type": "code",
   "execution_count": null,
   "metadata": {},
   "outputs": [],
   "source": []
  },
  {
   "cell_type": "markdown",
   "metadata": {},
   "source": [
    "The flow of the programme can be further advanced by adding extra conditional statements using __elif__.\n",
    "\n",
    "Elif follows the same syntax as __if__ statements, but they have to follow an __if__ or __elif__ statement. "
   ]
  },
  {
   "cell_type": "raw",
   "metadata": {},
   "source": [
    "if condition1:\n",
    "    execute block of code\n",
    "elif condition2:\n",
    "    execute block of code\n",
    "elif condition3:\n",
    "    execute block of code\n",
    "else:\n",
    "    execute block of code"
   ]
  },
  {
   "cell_type": "code",
   "execution_count": 27,
   "metadata": {},
   "outputs": [
    {
     "name": "stdout",
     "output_type": "stream",
     "text": [
      "height : 165 - 180\n"
     ]
    }
   ],
   "source": [
    "height = 170\n",
    "\n",
    "if height < 150:\n",
    "    print('height : < 150')\n",
    "elif height < 165:\n",
    "    print('height : 150 - 165')\n",
    "elif height < 180:\n",
    "    print('height : 165 - 180')\n",
    "else:\n",
    "    print('height : > 180')"
   ]
  },
  {
   "cell_type": "markdown",
   "metadata": {},
   "source": [
    "__Exercises:__\n",
    "\n",
    "1. Write a program that checks 3 angles given can make a triangle or not (their sum must be 180 degrees).\n",
    "\n",
    "2. Write a program that tells you if a number is even or odd.\n",
    "\n",
    "3. Write a program to prompt for a score between 0.0 and 1.0. If the core is out of range print an error. If the score is between 0.0 and 1.0, print a grade using the following table: (>= 0.9 : A, >= 0.8 : B, >= 0.7 : C, >= 0.6 : D, < 0.6 : F)\n",
    "\n",
    "4. Make a program that given a number of workhours for a week and a base salary, calculates the salary including overtime payment (Assuming that a normal work week is 37 hours and overtime payment is + 50%)\n",
    "\n",
    "5. Write a Python program to calculate a dog's age in dog's years.\n",
    "    Note: For the first two years, a dog year is equal to 10.5 human years. After that, each dog year equals 4 human years."
   ]
  },
  {
   "cell_type": "code",
   "execution_count": null,
   "metadata": {},
   "outputs": [],
   "source": []
  }
 ],
 "metadata": {
  "kernelspec": {
   "display_name": "Python 3",
   "language": "python",
   "name": "python3"
  },
  "language_info": {
   "codemirror_mode": {
    "name": "ipython",
    "version": 3
   },
   "file_extension": ".py",
   "mimetype": "text/x-python",
   "name": "python",
   "nbconvert_exporter": "python",
   "pygments_lexer": "ipython3",
   "version": "3.6.7"
  }
 },
 "nbformat": 4,
 "nbformat_minor": 4
}
