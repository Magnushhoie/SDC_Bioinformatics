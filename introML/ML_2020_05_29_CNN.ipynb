{
 "cells": [
  {
   "cell_type": "markdown",
   "metadata": {},
   "source": [
    "# Convolutional Neural Network exercise\n",
    "In this exercise you are going to learn how to create a convolutional neural network using `Keras`.\n",
    "\n",
    "For this exercise we will be using the actual protein sequences to run the model on"
   ]
  },
  {
   "cell_type": "code",
   "execution_count": null,
   "metadata": {},
   "outputs": [],
   "source": [
    "# Import all the packages\n",
    "\n",
    "import numpy as np\n",
    "import matplotlib.pyplot as plt\n",
    "%matplotlib inline\n",
    "from tensorflow.python.keras import Sequential\n",
    "from tensorflow.python.keras.layers import Dense, Flatten\n",
    "from tensorflow.python.keras.layers import Conv1D, GlobalAveragePooling1D, MaxPooling1D\n",
    "from tensorflow.keras import optimizers \n",
    "\n"
   ]
  },
  {
   "cell_type": "code",
   "execution_count": null,
   "metadata": {},
   "outputs": [],
   "source": [
    "## Symbolic link to the data: \n",
    "%cd\n",
    "%cd ml_data\n",
    "!ln -s /exercises/ml_intro/ml_data/dataset_subcellular_localization.npz ./dataset_subcellular_localization.npz # command to make symbolic link\n",
    "!pwd\n",
    "!ls"
   ]
  },
  {
   "cell_type": "code",
   "execution_count": null,
   "metadata": {},
   "outputs": [],
   "source": [
    "# we first load in our data and divide it into train and validation\n",
    "data = np.load('dataset_subcellular_localization.npz')\n",
    "\n",
    "X_train = data['X_train']\n",
    "X_valid = data['X_valid']\n",
    "y_train_multi = data['y_train_multi']\n",
    "y_valid_multi = data['y_valid_multi']\n",
    "y_train_bin = data['y_train_bin']\n",
    "y_valid_bin = data['y_valid_bin']"
   ]
  },
  {
   "cell_type": "markdown",
   "metadata": {},
   "source": [
    "### **Q1 (1 point):**\n",
    "- What is the shape of X_train? What do you think the different numbers stand for?\n",
    "- How many samples do we have in X_valid?"
   ]
  },
  {
   "cell_type": "markdown",
   "metadata": {},
   "source": [
    "**Answer:**"
   ]
  },
  {
   "cell_type": "markdown",
   "metadata": {},
   "source": [
    "### **Q2 (1 point):**\n",
    "- What is the shape of y_train_multi\n",
    "- What is the shape of y_train_bin?\n",
    "- What kind of target variable do you have (categorical, continuous, etc.)?\n",
    "- Is there are difference between y_train_multi and y_train_bin? if yes what is the difference and what does this difference mean?"
   ]
  },
  {
   "cell_type": "markdown",
   "metadata": {},
   "source": [
    "**Answer:**"
   ]
  },
  {
   "cell_type": "markdown",
   "metadata": {},
   "source": [
    "Now plot the class distribution to get a better idea about the new output labels"
   ]
  },
  {
   "cell_type": "code",
   "execution_count": null,
   "metadata": {},
   "outputs": [],
   "source": [
    "classes = ['Cytoplasm','Extracellular','Nucleus','Cell_membrane','Mitochondrion','Plastid','Endoplasmic_reticulum',\n",
    "       'Golgi_apparatus','Peroxisome','Lysosome','Vacuole']\n",
    "\n",
    "hist, bins = np.histogram(y_train_multi, bins=11)\n",
    "width = 0.8 * (bins[1] - bins[0])\n",
    "center = (bins[:-1] + bins[1:]) / 2\n",
    "fig, ax = plt.subplots(figsize=(20, 10))\n",
    "ax.bar(center, hist, align='center', width=width)\n",
    "ax.set_xlabel('Locations')\n",
    "ax.set_ylabel('Number of proteins')\n",
    "ax.set_title('Training set')\n",
    "ax.set_xticks(center)\n",
    "ax.set_xticklabels(classes, rotation=45.)\n",
    "plt.show()"
   ]
  },
  {
   "cell_type": "markdown",
   "metadata": {},
   "source": [
    "### **Q3 (1 point):**\n",
    "In the histogram we see that there is a bias in the class distribution.\n",
    "Which classes do you think that the model will learn better?"
   ]
  },
  {
   "cell_type": "markdown",
   "metadata": {},
   "source": [
    "**Answer:**"
   ]
  },
  {
   "cell_type": "markdown",
   "metadata": {},
   "source": [
    "### **Q4 (2 points):**\n",
    "Define the following terms:\n",
    "- hidden layers:\n",
    "- filters:\n",
    "- stride:\n",
    "- max pooling:\n",
    "- encoding:"
   ]
  },
  {
   "cell_type": "markdown",
   "metadata": {},
   "source": [
    "**Answer:**"
   ]
  },
  {
   "cell_type": "markdown",
   "metadata": {},
   "source": [
    "## Exercise 1\n",
    "### **Q5 (3 points):**\n",
    "Create a Convolutional neural network.  The network will be used on the binary dataset (y_train_bin).\n",
    "\n",
    "Check out the following links to read more about the funtions you will be using:\n",
    "\n",
    "1D convolutional layer: https://keras.io/layers/convolutional/#conv1d\n",
    "\n",
    "1D maxpooling: https://keras.io/layers/pooling/#maxpooling1d\n",
    "\n",
    "flattening layer: https://keras.io/layers/core/#flatten\n",
    "\n",
    "The architecture should be:\n",
    "1. 1D convolutional layer (number of filters 32, size of filter 3), activation: relu, input_shape(400,21) \n",
    "2. 1D maxpooling (size 5)\n",
    "3. 1 flattening layer\n",
    "4. 1 Dense output layer: 1, activation: sigmoid\n",
    "5. 1 loss function: binary_crossentropy\n",
    "    \n",
    "And have the following hyperparameters:\n",
    "- learning rate: 0.0001\n",
    "- epochs: 10\n",
    "- batch size: 16 \n",
    "\n"
   ]
  },
  {
   "cell_type": "code",
   "execution_count": null,
   "metadata": {},
   "outputs": [],
   "source": []
  },
  {
   "cell_type": "markdown",
   "metadata": {},
   "source": [
    "Use the following code to visualize your model"
   ]
  },
  {
   "cell_type": "code",
   "execution_count": null,
   "metadata": {},
   "outputs": [],
   "source": [
    "# Print the best validation accuracy\n",
    "print('Best validation accuracy:',np.max(history.history['val_accuracy']), 'at epoch: ', np.argmax(history.history['val_accuracy']))\n",
    "\n",
    "# Plot training curves\n",
    "fig = plt.figure(figsize=(16,5))\n",
    "ax1 = fig.add_subplot(1, 2, 1) \n",
    "ax1.plot(history.history['loss'], label='Train Loss')\n",
    "ax1.plot(history.history['val_loss'], label='Validation Loss')\n",
    "ax1.set_title('Training curve')\n",
    "ax1.set_ylabel('Loss')\n",
    "ax1.set_xlabel('Epochs')\n",
    "ax1.grid(linestyle='--')\n",
    "ax1.legend()\n",
    "ax2 = fig.add_subplot(1, 2, 2) \n",
    "ax2.plot(history.history['accuracy'], label='Train Accuracy')\n",
    "ax2.plot(history.history['val_accuracy'], label='Validation Accuracy')\n",
    "ax2.set_title('Training curve')\n",
    "ax2.set_ylabel('Accuracy')\n",
    "ax2.set_xlabel('Epochs')\n",
    "ax2.grid(linestyle='--')\n",
    "ax2.legend()\n",
    "plt.show()"
   ]
  },
  {
   "cell_type": "markdown",
   "metadata": {},
   "source": [
    "### **Q6 (1 point):**\n",
    "What does the different hyperparameters in exercise 1 mean?"
   ]
  },
  {
   "cell_type": "markdown",
   "metadata": {},
   "source": [
    "**Answer:**"
   ]
  },
  {
   "cell_type": "markdown",
   "metadata": {},
   "source": [
    "### **Q7 (1 point):**\n",
    "How many convolutional layers do we have in exercise 1?"
   ]
  },
  {
   "cell_type": "markdown",
   "metadata": {},
   "source": [
    "**Answer:**"
   ]
  },
  {
   "cell_type": "markdown",
   "metadata": {},
   "source": [
    "### **Q8 (2 points):**\n",
    "What do you think would happen if more convolutional layers were added and why?"
   ]
  },
  {
   "cell_type": "markdown",
   "metadata": {},
   "source": [
    "**Answer:**"
   ]
  },
  {
   "cell_type": "markdown",
   "metadata": {},
   "source": [
    "### **Q9 (2 points):**\n",
    "You have now done a CNN and yesterday you did a FNN, what are the major differences between the two architectures? "
   ]
  },
  {
   "cell_type": "markdown",
   "metadata": {},
   "source": [
    "**Answer:**"
   ]
  },
  {
   "cell_type": "markdown",
   "metadata": {},
   "source": [
    "## Exercise 2\n",
    "\n",
    "### **Q10 (2 points):**\n",
    "You will here instead of using the binary data use the multiclass data to train a convolutional neural network (y_train_multi).\n",
    "\n",
    "The architecture will be similar to the neural network you trained on the binary data, but with some few changes\n",
    "\n",
    "Dense output layer: 11 outputs, activation: softmax\n",
    "\n",
    "loss function: sparse_categorical_crossentropy\n"
   ]
  },
  {
   "cell_type": "code",
   "execution_count": null,
   "metadata": {},
   "outputs": [],
   "source": []
  },
  {
   "cell_type": "markdown",
   "metadata": {},
   "source": [
    "### **Q11 (2 points):** \n",
    "- How does the CNN results based on the multiclass data compare to the results from the CNN based on the binary data?\n",
    "- Why do you think that is?"
   ]
  },
  {
   "cell_type": "markdown",
   "metadata": {},
   "source": [
    "**Answer:**"
   ]
  },
  {
   "cell_type": "markdown",
   "metadata": {},
   "source": [
    "# Exercise 3\n",
    "\n",
    "You will here  use the multiclass data (y_train_multi), to train two convolutional neural networks \n",
    "\n",
    "Try training the following two models\n",
    "\n",
    "hyperparameters model 1:\n",
    "- 1D convolutional: 64 filters\n",
    "- MaxPooling: 5\n",
    "- batch size: 128\n",
    "- epochs: 50 \n",
    "\n",
    "\n",
    "hyperparameters model 2:\n",
    "- 1D convolutional: 5 filters\n",
    "- MaxPooling: 30\n",
    "- batch size: 128\n",
    "- epochs: 50 \n",
    "\n"
   ]
  },
  {
   "cell_type": "markdown",
   "metadata": {},
   "source": [
    "### **Q12 (2 points):** \n",
    "Which of the two models is overfitting and which is underfitting?"
   ]
  },
  {
   "cell_type": "markdown",
   "metadata": {},
   "source": [
    "**Answer:**"
   ]
  },
  {
   "cell_type": "markdown",
   "metadata": {},
   "source": [
    "# Exercise 4\n",
    "\n",
    "### **Q13 (3 points):**\n",
    "Based on the underfitted and overfitted models seen in exercise 3, try defining three new models, where you can choose between changing the learning rate, number of hidden layers or/and number of filters. Show the training curves and best validation accuracy for each one of them.\n",
    "\n",
    "There is no wrong or right answer, but try to aim for the best performance."
   ]
  },
  {
   "cell_type": "code",
   "execution_count": null,
   "metadata": {},
   "outputs": [],
   "source": []
  },
  {
   "cell_type": "code",
   "execution_count": null,
   "metadata": {},
   "outputs": [],
   "source": []
  },
  {
   "cell_type": "code",
   "execution_count": null,
   "metadata": {},
   "outputs": [],
   "source": []
  },
  {
   "cell_type": "markdown",
   "metadata": {},
   "source": [
    "### **Q14 (2 points):**\n",
    "Finally discuss briefly your choice of hyperparameters."
   ]
  },
  {
   "cell_type": "markdown",
   "metadata": {},
   "source": [
    "**Answer:**"
   ]
  },
  {
   "cell_type": "code",
   "execution_count": null,
   "metadata": {},
   "outputs": [],
   "source": []
  }
 ],
 "metadata": {
  "kernelspec": {
   "display_name": "Python 3",
   "language": "python",
   "name": "python3"
  },
  "language_info": {
   "codemirror_mode": {
    "name": "ipython",
    "version": 3
   },
   "file_extension": ".py",
   "mimetype": "text/x-python",
   "name": "python",
   "nbconvert_exporter": "python",
   "pygments_lexer": "ipython3",
   "version": "3.6.7"
  }
 },
 "nbformat": 4,
 "nbformat_minor": 4
}
