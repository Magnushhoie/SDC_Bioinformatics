{
 "cells": [
  {
   "cell_type": "markdown",
   "metadata": {
    "Collapsed": "false"
   },
   "source": [
    "## Todays exercise - the maximum amount of points you can get is 100: \n",
    "Based on the content of the lecture today you should be able to solve the following notebook and answer the questions.\n",
    "\n",
    "Help will mainly be available in the hours allocated after lecture, BUT:\n",
    "\n",
    "PLEASE try to use the relevant links posted and/or google before asking. You will learn more and work faster if you try to search out information for yourself. \n",
    "\n"
   ]
  },
  {
   "cell_type": "markdown",
   "metadata": {
    "Collapsed": "false"
   },
   "source": [
    "# Feed-forward Neural Network exercise\n",
    "In this exercise you are going to learn how to create a feed-forward neural network using `Keras`."
   ]
  },
  {
   "cell_type": "code",
   "execution_count": 1,
   "metadata": {
    "Collapsed": "false"
   },
   "outputs": [
    {
     "name": "stderr",
     "output_type": "stream",
     "text": [
      "/opt/tljh/user/lib/python3.6/site-packages/tensorflow/python/framework/dtypes.py:516: FutureWarning: Passing (type, 1) or '1type' as a synonym of type is deprecated; in a future version of numpy, it will be understood as (type, (1,)) / '(1,)type'.\n",
      "  _np_qint8 = np.dtype([(\"qint8\", np.int8, 1)])\n",
      "/opt/tljh/user/lib/python3.6/site-packages/tensorflow/python/framework/dtypes.py:517: FutureWarning: Passing (type, 1) or '1type' as a synonym of type is deprecated; in a future version of numpy, it will be understood as (type, (1,)) / '(1,)type'.\n",
      "  _np_quint8 = np.dtype([(\"quint8\", np.uint8, 1)])\n",
      "/opt/tljh/user/lib/python3.6/site-packages/tensorflow/python/framework/dtypes.py:518: FutureWarning: Passing (type, 1) or '1type' as a synonym of type is deprecated; in a future version of numpy, it will be understood as (type, (1,)) / '(1,)type'.\n",
      "  _np_qint16 = np.dtype([(\"qint16\", np.int16, 1)])\n",
      "/opt/tljh/user/lib/python3.6/site-packages/tensorflow/python/framework/dtypes.py:519: FutureWarning: Passing (type, 1) or '1type' as a synonym of type is deprecated; in a future version of numpy, it will be understood as (type, (1,)) / '(1,)type'.\n",
      "  _np_quint16 = np.dtype([(\"quint16\", np.uint16, 1)])\n",
      "/opt/tljh/user/lib/python3.6/site-packages/tensorflow/python/framework/dtypes.py:520: FutureWarning: Passing (type, 1) or '1type' as a synonym of type is deprecated; in a future version of numpy, it will be understood as (type, (1,)) / '(1,)type'.\n",
      "  _np_qint32 = np.dtype([(\"qint32\", np.int32, 1)])\n",
      "/opt/tljh/user/lib/python3.6/site-packages/tensorflow/python/framework/dtypes.py:525: FutureWarning: Passing (type, 1) or '1type' as a synonym of type is deprecated; in a future version of numpy, it will be understood as (type, (1,)) / '(1,)type'.\n",
      "  np_resource = np.dtype([(\"resource\", np.ubyte, 1)])\n",
      "/opt/tljh/user/lib/python3.6/site-packages/tensorboard/compat/tensorflow_stub/dtypes.py:541: FutureWarning: Passing (type, 1) or '1type' as a synonym of type is deprecated; in a future version of numpy, it will be understood as (type, (1,)) / '(1,)type'.\n",
      "  _np_qint8 = np.dtype([(\"qint8\", np.int8, 1)])\n",
      "/opt/tljh/user/lib/python3.6/site-packages/tensorboard/compat/tensorflow_stub/dtypes.py:542: FutureWarning: Passing (type, 1) or '1type' as a synonym of type is deprecated; in a future version of numpy, it will be understood as (type, (1,)) / '(1,)type'.\n",
      "  _np_quint8 = np.dtype([(\"quint8\", np.uint8, 1)])\n",
      "/opt/tljh/user/lib/python3.6/site-packages/tensorboard/compat/tensorflow_stub/dtypes.py:543: FutureWarning: Passing (type, 1) or '1type' as a synonym of type is deprecated; in a future version of numpy, it will be understood as (type, (1,)) / '(1,)type'.\n",
      "  _np_qint16 = np.dtype([(\"qint16\", np.int16, 1)])\n",
      "/opt/tljh/user/lib/python3.6/site-packages/tensorboard/compat/tensorflow_stub/dtypes.py:544: FutureWarning: Passing (type, 1) or '1type' as a synonym of type is deprecated; in a future version of numpy, it will be understood as (type, (1,)) / '(1,)type'.\n",
      "  _np_quint16 = np.dtype([(\"quint16\", np.uint16, 1)])\n",
      "/opt/tljh/user/lib/python3.6/site-packages/tensorboard/compat/tensorflow_stub/dtypes.py:545: FutureWarning: Passing (type, 1) or '1type' as a synonym of type is deprecated; in a future version of numpy, it will be understood as (type, (1,)) / '(1,)type'.\n",
      "  _np_qint32 = np.dtype([(\"qint32\", np.int32, 1)])\n",
      "/opt/tljh/user/lib/python3.6/site-packages/tensorboard/compat/tensorflow_stub/dtypes.py:550: FutureWarning: Passing (type, 1) or '1type' as a synonym of type is deprecated; in a future version of numpy, it will be understood as (type, (1,)) / '(1,)type'.\n",
      "  np_resource = np.dtype([(\"resource\", np.ubyte, 1)])\n"
     ]
    }
   ],
   "source": [
    "# Import all the packages\n",
    "import numpy as np\n",
    "from sklearn.model_selection import train_test_split\n",
    "from sklearn.datasets import load_breast_cancer\n",
    "from sklearn import preprocessing\n",
    "from tensorflow.python.keras.layers import Dense\n",
    "from tensorflow.python.keras import Sequential\n",
    "#from keras.models import Sequential\n",
    "#from keras.layers import Dense\n",
    "#from keras import optimizers\n",
    "from tensorflow.keras import optimizers\n",
    "import matplotlib.pyplot as plt\n"
   ]
  },
  {
   "cell_type": "markdown",
   "metadata": {
    "Collapsed": "false"
   },
   "source": [
    "## Neural Network on Breast cancer dataset\n",
    "First we are going to try to train a neural network with one layer on the breast cancer dataset.\n",
    "## Loading the data:\n",
    "### Q1 (5 points): Load the data and split into training and validation. Scale the X data (both train and validation).\n",
    "**Hint:** Use the `train_test_split(x_data, y_data)` function imported above to split the dataset. E.g. the x_data and y_data can be retrieved from the dataset by `cancer.data` and `cancer.target`.\n",
    "\n",
    "**Hint:** To scale the data use https://scikit-learn.org/stable/modules/generated/sklearn.preprocessing.scale.html (Also loaded above). Give the vairables the same name (e.g. `x_train = scaling_function(x_train)`)"
   ]
  },
  {
   "cell_type": "code",
   "execution_count": 2,
   "metadata": {
    "Collapsed": "false"
   },
   "outputs": [
    {
     "ename": "SyntaxError",
     "evalue": "invalid syntax (<ipython-input-2-7f27582a1031>, line 4)",
     "output_type": "error",
     "traceback": [
      "\u001b[0;36m  File \u001b[0;32m\"<ipython-input-2-7f27582a1031>\"\u001b[0;36m, line \u001b[0;32m4\u001b[0m\n\u001b[0;31m    X_train, X_val, y_train, y_val = ?\u001b[0m\n\u001b[0m                                     ^\u001b[0m\n\u001b[0;31mSyntaxError\u001b[0m\u001b[0;31m:\u001b[0m invalid syntax\n"
     ]
    }
   ],
   "source": [
    "# Load dataset\n",
    "cancer = load_breast_cancer()\n",
    "# Split training and validation set\n",
    "X_train, X_val, y_train, y_val = ?\n",
    "# Scale the data\n",
    "X_train = ?\n",
    "X_val = ?"
   ]
  },
  {
   "cell_type": "markdown",
   "metadata": {
    "Collapsed": "false"
   },
   "source": [
    "### Q2 (5 points): Answer the following qustions:\n",
    "- How many features does the x data have? \n",
    "- What kind of target variable do you have (binary, categorical, continuous)? And what is its shape?\n",
    "- Why is the shape of the data important to know when building the neural network?\n"
   ]
  },
  {
   "cell_type": "code",
   "execution_count": null,
   "metadata": {
    "Collapsed": "false"
   },
   "outputs": [],
   "source": []
  },
  {
   "cell_type": "markdown",
   "metadata": {
    "Collapsed": "false"
   },
   "source": [
    "## Defining the architechture of the Neural Network\n",
    "The architecture will be:\n",
    "1. Hidden layer with 10 units. Activation function ReLU.\n",
    "2. Output layer with 1 unit. Activation function Sigmoid."
   ]
  },
  {
   "cell_type": "markdown",
   "metadata": {
    "Collapsed": "false"
   },
   "source": [
    "**Step 1**: Define the hyperparameters that the network will use:"
   ]
  },
  {
   "cell_type": "code",
   "execution_count": 10,
   "metadata": {
    "Collapsed": "false"
   },
   "outputs": [],
   "source": [
    "# Number of input features\n",
    "n_features = 30\n",
    "# Number of hidden units\n",
    "n_hidden = 10\n",
    "# Number of output units\n",
    "n_out = 1\n",
    "# Learning rate\n",
    "lr = 0.001\n",
    "# Activation function\n",
    "act_h = 'relu'\n",
    "# Output function\n",
    "act_o = 'sigmoid'\n",
    "# Loss function\n",
    "loss_f = 'binary_crossentropy'\n",
    "# Batch size \n",
    "batch_size = 64\n",
    "# Number of epochs\n",
    "n_epochs = 80"
   ]
  },
  {
   "cell_type": "markdown",
   "metadata": {
    "Collapsed": "false"
   },
   "source": [
    "**Step 2**: Define the model configuration and compile it."
   ]
  },
  {
   "cell_type": "code",
   "execution_count": 19,
   "metadata": {
    "Collapsed": "false"
   },
   "outputs": [
    {
     "name": "stdout",
     "output_type": "stream",
     "text": [
      "Model: \"sequential_5\"\n",
      "_________________________________________________________________\n",
      "Layer (type)                 Output Shape              Param #   \n",
      "=================================================================\n",
      "dense_10 (Dense)             (None, 10)                310       \n",
      "_________________________________________________________________\n",
      "dense_11 (Dense)             (None, 1)                 11        \n",
      "=================================================================\n",
      "Total params: 321\n",
      "Trainable params: 321\n",
      "Non-trainable params: 0\n",
      "_________________________________________________________________\n",
      "None\n"
     ]
    }
   ],
   "source": [
    "# Initialize the model\n",
    "model = Sequential()\n",
    "# Define hidden layer with relu activation function\n",
    "model.add(Dense(n_hidden, activation=act_h, input_shape=(n_features,))) # Input shape defines the number of features\n",
    "# Define output layer\n",
    "model.add(Dense(n_out, activation=act_o))\n",
    "# Compile the model\n",
    "model.compile(\n",
    "    optimizer=optimizers.Adam(lr=lr), # Define optimizer and learning rate\n",
    "    loss=loss_f, # Define loss function\n",
    "    metrics=['accuracy']) # Define performance measure\n",
    "print(model.summary())\n"
   ]
  },
  {
   "cell_type": "markdown",
   "metadata": {
    "Collapsed": "false"
   },
   "source": [
    "We can look as well at the shape of the parameters:"
   ]
  },
  {
   "cell_type": "code",
   "execution_count": 20,
   "metadata": {
    "Collapsed": "false"
   },
   "outputs": [
    {
     "name": "stdout",
     "output_type": "stream",
     "text": [
      "Parameter:  dense_10/kernel:0  shape:  (30, 10)\n",
      "Parameter:  dense_10/bias:0  shape:  (10,)\n",
      "Parameter:  dense_11/kernel:0  shape:  (10, 1)\n",
      "Parameter:  dense_11/bias:0  shape:  (1,)\n"
     ]
    }
   ],
   "source": [
    "# Print the parameters of the model, here 'kernel' refers to weight\n",
    "for ww in model.weights:\n",
    "    print(\"Parameter: \",ww.name, \" shape: \", ww.shape)"
   ]
  },
  {
   "cell_type": "markdown",
   "metadata": {
    "Collapsed": "false"
   },
   "source": [
    "**Step 3**: Define the batch size and number of epochs and train the model. Remember to set up the validation data as well."
   ]
  },
  {
   "cell_type": "code",
   "execution_count": 21,
   "metadata": {
    "Collapsed": "false",
    "scrolled": true
   },
   "outputs": [
    {
     "name": "stdout",
     "output_type": "stream",
     "text": [
      "Train on 426 samples, validate on 143 samples\n",
      "Epoch 1/80\n",
      "426/426 [==============================] - 2s 6ms/sample - loss: 0.6196 - accuracy: 0.6103 - val_loss: 0.6216 - val_accuracy: 0.6224\n",
      "Epoch 2/80\n",
      "426/426 [==============================] - 1s 2ms/sample - loss: 0.5623 - accuracy: 0.6808 - val_loss: 0.5680 - val_accuracy: 0.6853\n",
      "Epoch 3/80\n",
      "426/426 [==============================] - 1s 3ms/sample - loss: 0.5153 - accuracy: 0.7488 - val_loss: 0.5219 - val_accuracy: 0.7203\n",
      "Epoch 4/80\n",
      "426/426 [==============================] - 1s 3ms/sample - loss: 0.4723 - accuracy: 0.7864 - val_loss: 0.4842 - val_accuracy: 0.7483\n",
      "Epoch 5/80\n",
      "426/426 [==============================] - 1s 2ms/sample - loss: 0.4373 - accuracy: 0.8286 - val_loss: 0.4520 - val_accuracy: 0.7902\n",
      "Epoch 6/80\n",
      "426/426 [==============================] - 1s 2ms/sample - loss: 0.4061 - accuracy: 0.8615 - val_loss: 0.4243 - val_accuracy: 0.8182\n",
      "Epoch 7/80\n",
      "426/426 [==============================] - 1s 3ms/sample - loss: 0.3790 - accuracy: 0.8897 - val_loss: 0.3991 - val_accuracy: 0.8392\n",
      "Epoch 8/80\n",
      "426/426 [==============================] - 1s 2ms/sample - loss: 0.3554 - accuracy: 0.9014 - val_loss: 0.3769 - val_accuracy: 0.8601\n",
      "Epoch 9/80\n",
      "426/426 [==============================] - 1s 2ms/sample - loss: 0.3340 - accuracy: 0.9131 - val_loss: 0.3574 - val_accuracy: 0.8811\n",
      "Epoch 10/80\n",
      "426/426 [==============================] - 1s 4ms/sample - loss: 0.3151 - accuracy: 0.9202 - val_loss: 0.3401 - val_accuracy: 0.8881\n",
      "Epoch 11/80\n",
      "426/426 [==============================] - 1s 3ms/sample - loss: 0.2981 - accuracy: 0.9249 - val_loss: 0.3250 - val_accuracy: 0.8951\n",
      "Epoch 12/80\n",
      "426/426 [==============================] - 1s 2ms/sample - loss: 0.2830 - accuracy: 0.9296 - val_loss: 0.3111 - val_accuracy: 0.9021\n",
      "Epoch 13/80\n",
      "426/426 [==============================] - 1s 2ms/sample - loss: 0.2693 - accuracy: 0.9296 - val_loss: 0.2985 - val_accuracy: 0.9021\n",
      "Epoch 14/80\n",
      "426/426 [==============================] - 1s 2ms/sample - loss: 0.2568 - accuracy: 0.9296 - val_loss: 0.2869 - val_accuracy: 0.9091\n",
      "Epoch 15/80\n",
      "426/426 [==============================] - 1s 2ms/sample - loss: 0.2456 - accuracy: 0.9390 - val_loss: 0.2761 - val_accuracy: 0.9091\n",
      "Epoch 16/80\n",
      "426/426 [==============================] - 1s 2ms/sample - loss: 0.2350 - accuracy: 0.9390 - val_loss: 0.2665 - val_accuracy: 0.9091\n",
      "Epoch 17/80\n",
      "426/426 [==============================] - 1s 2ms/sample - loss: 0.2253 - accuracy: 0.9413 - val_loss: 0.2577 - val_accuracy: 0.9091\n",
      "Epoch 18/80\n",
      "426/426 [==============================] - 1s 2ms/sample - loss: 0.2167 - accuracy: 0.9437 - val_loss: 0.2496 - val_accuracy: 0.9091\n",
      "Epoch 19/80\n",
      "426/426 [==============================] - 1s 3ms/sample - loss: 0.2084 - accuracy: 0.9437 - val_loss: 0.2421 - val_accuracy: 0.9161\n",
      "Epoch 20/80\n",
      "426/426 [==============================] - 1s 1ms/sample - loss: 0.2009 - accuracy: 0.9460 - val_loss: 0.2351 - val_accuracy: 0.9161\n",
      "Epoch 21/80\n",
      "426/426 [==============================] - 1s 2ms/sample - loss: 0.1939 - accuracy: 0.9460 - val_loss: 0.2287 - val_accuracy: 0.9231\n",
      "Epoch 22/80\n",
      "426/426 [==============================] - 1s 2ms/sample - loss: 0.1874 - accuracy: 0.9460 - val_loss: 0.2227 - val_accuracy: 0.9231\n",
      "Epoch 23/80\n",
      "426/426 [==============================] - 1s 2ms/sample - loss: 0.1813 - accuracy: 0.9484 - val_loss: 0.2171 - val_accuracy: 0.9231\n",
      "Epoch 24/80\n",
      "426/426 [==============================] - 1s 2ms/sample - loss: 0.1756 - accuracy: 0.9507 - val_loss: 0.2120 - val_accuracy: 0.9231\n",
      "Epoch 25/80\n",
      "426/426 [==============================] - 1s 2ms/sample - loss: 0.1703 - accuracy: 0.9507 - val_loss: 0.2071 - val_accuracy: 0.9231\n",
      "Epoch 26/80\n",
      "426/426 [==============================] - 1s 2ms/sample - loss: 0.1654 - accuracy: 0.9554 - val_loss: 0.2026 - val_accuracy: 0.9161\n",
      "Epoch 27/80\n",
      "426/426 [==============================] - 1s 2ms/sample - loss: 0.1608 - accuracy: 0.9554 - val_loss: 0.1983 - val_accuracy: 0.9161\n",
      "Epoch 28/80\n",
      "426/426 [==============================] - 1s 2ms/sample - loss: 0.1565 - accuracy: 0.9554 - val_loss: 0.1942 - val_accuracy: 0.9161\n",
      "Epoch 29/80\n",
      "426/426 [==============================] - 1s 2ms/sample - loss: 0.1524 - accuracy: 0.9554 - val_loss: 0.1906 - val_accuracy: 0.9161\n",
      "Epoch 30/80\n",
      "426/426 [==============================] - 1s 2ms/sample - loss: 0.1487 - accuracy: 0.9554 - val_loss: 0.1870 - val_accuracy: 0.9161\n",
      "Epoch 31/80\n",
      "426/426 [==============================] - 1s 2ms/sample - loss: 0.1451 - accuracy: 0.9554 - val_loss: 0.1835 - val_accuracy: 0.9161\n",
      "Epoch 32/80\n",
      "426/426 [==============================] - 1s 2ms/sample - loss: 0.1419 - accuracy: 0.9554 - val_loss: 0.1801 - val_accuracy: 0.9161\n",
      "Epoch 33/80\n",
      "426/426 [==============================] - 1s 2ms/sample - loss: 0.1387 - accuracy: 0.9577 - val_loss: 0.1770 - val_accuracy: 0.9161\n",
      "Epoch 34/80\n",
      "426/426 [==============================] - 1s 2ms/sample - loss: 0.1357 - accuracy: 0.9601 - val_loss: 0.1739 - val_accuracy: 0.9161\n",
      "Epoch 35/80\n",
      "426/426 [==============================] - 1s 2ms/sample - loss: 0.1328 - accuracy: 0.9601 - val_loss: 0.1710 - val_accuracy: 0.9231\n",
      "Epoch 36/80\n",
      "426/426 [==============================] - 1s 2ms/sample - loss: 0.1300 - accuracy: 0.9624 - val_loss: 0.1683 - val_accuracy: 0.9231\n",
      "Epoch 37/80\n",
      "426/426 [==============================] - 1s 2ms/sample - loss: 0.1276 - accuracy: 0.9624 - val_loss: 0.1655 - val_accuracy: 0.9231\n",
      "Epoch 38/80\n",
      "426/426 [==============================] - 1s 3ms/sample - loss: 0.1250 - accuracy: 0.9648 - val_loss: 0.1630 - val_accuracy: 0.9231\n",
      "Epoch 39/80\n",
      "426/426 [==============================] - 1s 2ms/sample - loss: 0.1226 - accuracy: 0.9648 - val_loss: 0.1608 - val_accuracy: 0.9231\n",
      "Epoch 40/80\n",
      "426/426 [==============================] - 1s 2ms/sample - loss: 0.1205 - accuracy: 0.9671 - val_loss: 0.1585 - val_accuracy: 0.9301\n",
      "Epoch 41/80\n",
      "426/426 [==============================] - 1s 3ms/sample - loss: 0.1182 - accuracy: 0.9671 - val_loss: 0.1564 - val_accuracy: 0.9301\n",
      "Epoch 42/80\n",
      "426/426 [==============================] - 1s 2ms/sample - loss: 0.1162 - accuracy: 0.9671 - val_loss: 0.1543 - val_accuracy: 0.9301\n",
      "Epoch 43/80\n",
      "426/426 [==============================] - 1s 2ms/sample - loss: 0.1142 - accuracy: 0.9695 - val_loss: 0.1522 - val_accuracy: 0.9371\n",
      "Epoch 44/80\n",
      "426/426 [==============================] - 1s 2ms/sample - loss: 0.1123 - accuracy: 0.9695 - val_loss: 0.1502 - val_accuracy: 0.9371\n",
      "Epoch 45/80\n",
      "426/426 [==============================] - 1s 2ms/sample - loss: 0.1105 - accuracy: 0.9695 - val_loss: 0.1484 - val_accuracy: 0.9371\n",
      "Epoch 46/80\n",
      "426/426 [==============================] - 1s 2ms/sample - loss: 0.1087 - accuracy: 0.9695 - val_loss: 0.1467 - val_accuracy: 0.9371\n",
      "Epoch 47/80\n",
      "426/426 [==============================] - 1s 2ms/sample - loss: 0.1072 - accuracy: 0.9695 - val_loss: 0.1448 - val_accuracy: 0.9371\n",
      "Epoch 48/80\n",
      "426/426 [==============================] - 1s 2ms/sample - loss: 0.1055 - accuracy: 0.9695 - val_loss: 0.1433 - val_accuracy: 0.9371\n",
      "Epoch 49/80\n",
      "426/426 [==============================] - 1s 2ms/sample - loss: 0.1039 - accuracy: 0.9695 - val_loss: 0.1418 - val_accuracy: 0.9441\n",
      "Epoch 50/80\n",
      "426/426 [==============================] - 1s 2ms/sample - loss: 0.1025 - accuracy: 0.9695 - val_loss: 0.1402 - val_accuracy: 0.9441\n",
      "Epoch 51/80\n",
      "426/426 [==============================] - 1s 2ms/sample - loss: 0.1011 - accuracy: 0.9695 - val_loss: 0.1387 - val_accuracy: 0.9441\n",
      "Epoch 52/80\n",
      "426/426 [==============================] - 1s 1ms/sample - loss: 0.0997 - accuracy: 0.9695 - val_loss: 0.1374 - val_accuracy: 0.9441\n",
      "Epoch 53/80\n",
      "426/426 [==============================] - 1s 2ms/sample - loss: 0.0984 - accuracy: 0.9695 - val_loss: 0.1359 - val_accuracy: 0.9441\n",
      "Epoch 54/80\n",
      "426/426 [==============================] - 1s 1ms/sample - loss: 0.0970 - accuracy: 0.9718 - val_loss: 0.1348 - val_accuracy: 0.9441\n",
      "Epoch 55/80\n",
      "426/426 [==============================] - 1s 3ms/sample - loss: 0.0959 - accuracy: 0.9765 - val_loss: 0.1335 - val_accuracy: 0.9441\n",
      "Epoch 56/80\n",
      "426/426 [==============================] - 1s 2ms/sample - loss: 0.0947 - accuracy: 0.9765 - val_loss: 0.1323 - val_accuracy: 0.9441\n",
      "Epoch 57/80\n",
      "426/426 [==============================] - 1s 2ms/sample - loss: 0.0935 - accuracy: 0.9765 - val_loss: 0.1312 - val_accuracy: 0.9510\n",
      "Epoch 58/80\n",
      "426/426 [==============================] - 1s 2ms/sample - loss: 0.0924 - accuracy: 0.9765 - val_loss: 0.1299 - val_accuracy: 0.9510\n",
      "Epoch 59/80\n",
      "426/426 [==============================] - 1s 2ms/sample - loss: 0.0913 - accuracy: 0.9765 - val_loss: 0.1288 - val_accuracy: 0.9510\n",
      "Epoch 60/80\n",
      "426/426 [==============================] - 1s 2ms/sample - loss: 0.0902 - accuracy: 0.9765 - val_loss: 0.1278 - val_accuracy: 0.9510\n",
      "Epoch 61/80\n",
      "426/426 [==============================] - 1s 2ms/sample - loss: 0.0892 - accuracy: 0.9765 - val_loss: 0.1267 - val_accuracy: 0.9510\n",
      "Epoch 62/80\n",
      "426/426 [==============================] - 1s 3ms/sample - loss: 0.0882 - accuracy: 0.9765 - val_loss: 0.1257 - val_accuracy: 0.9510\n",
      "Epoch 63/80\n",
      "426/426 [==============================] - 1s 3ms/sample - loss: 0.0872 - accuracy: 0.9765 - val_loss: 0.1249 - val_accuracy: 0.9510\n",
      "Epoch 64/80\n",
      "426/426 [==============================] - 1s 2ms/sample - loss: 0.0863 - accuracy: 0.9765 - val_loss: 0.1241 - val_accuracy: 0.9510\n",
      "Epoch 65/80\n",
      "426/426 [==============================] - 1s 2ms/sample - loss: 0.0855 - accuracy: 0.9765 - val_loss: 0.1231 - val_accuracy: 0.9510\n",
      "Epoch 66/80\n",
      "426/426 [==============================] - 1s 2ms/sample - loss: 0.0845 - accuracy: 0.9789 - val_loss: 0.1222 - val_accuracy: 0.9510\n",
      "Epoch 67/80\n",
      "426/426 [==============================] - 1s 2ms/sample - loss: 0.0837 - accuracy: 0.9789 - val_loss: 0.1212 - val_accuracy: 0.9510\n",
      "Epoch 68/80\n",
      "426/426 [==============================] - 1s 2ms/sample - loss: 0.0829 - accuracy: 0.9789 - val_loss: 0.1205 - val_accuracy: 0.9510\n",
      "Epoch 69/80\n",
      "426/426 [==============================] - 1s 2ms/sample - loss: 0.0821 - accuracy: 0.9789 - val_loss: 0.1198 - val_accuracy: 0.9510\n",
      "Epoch 70/80\n",
      "426/426 [==============================] - 1s 2ms/sample - loss: 0.0814 - accuracy: 0.9789 - val_loss: 0.1192 - val_accuracy: 0.9510\n",
      "Epoch 71/80\n",
      "426/426 [==============================] - 1s 3ms/sample - loss: 0.0806 - accuracy: 0.9789 - val_loss: 0.1183 - val_accuracy: 0.9510\n",
      "Epoch 72/80\n",
      "426/426 [==============================] - 1s 2ms/sample - loss: 0.0799 - accuracy: 0.9789 - val_loss: 0.1176 - val_accuracy: 0.9510\n",
      "Epoch 73/80\n",
      "426/426 [==============================] - 1s 3ms/sample - loss: 0.0791 - accuracy: 0.9789 - val_loss: 0.1170 - val_accuracy: 0.9510\n",
      "Epoch 74/80\n",
      "426/426 [==============================] - 1s 2ms/sample - loss: 0.0784 - accuracy: 0.9789 - val_loss: 0.1164 - val_accuracy: 0.9510\n",
      "Epoch 75/80\n",
      "426/426 [==============================] - 1s 2ms/sample - loss: 0.0777 - accuracy: 0.9789 - val_loss: 0.1158 - val_accuracy: 0.9510\n",
      "Epoch 76/80\n",
      "426/426 [==============================] - 1s 2ms/sample - loss: 0.0771 - accuracy: 0.9789 - val_loss: 0.1152 - val_accuracy: 0.9510\n",
      "Epoch 77/80\n",
      "426/426 [==============================] - 1s 2ms/sample - loss: 0.0764 - accuracy: 0.9789 - val_loss: 0.1148 - val_accuracy: 0.9510\n",
      "Epoch 78/80\n",
      "426/426 [==============================] - 1s 2ms/sample - loss: 0.0758 - accuracy: 0.9789 - val_loss: 0.1142 - val_accuracy: 0.9510\n",
      "Epoch 79/80\n",
      "426/426 [==============================] - 1s 2ms/sample - loss: 0.0753 - accuracy: 0.9789 - val_loss: 0.1136 - val_accuracy: 0.9510\n",
      "Epoch 80/80\n",
      "426/426 [==============================] - 1s 2ms/sample - loss: 0.0746 - accuracy: 0.9789 - val_loss: 0.1133 - val_accuracy: 0.9510\n"
     ]
    }
   ],
   "source": [
    "# Train the model\n",
    "history = model.fit(X_train, # Input\n",
    "                    y_train, # Output\n",
    "                    batch_size=batch_size, # Divide the data into batches\n",
    "                    epochs=n_epochs, # Number of iterations \n",
    "                    validation_data=(X_val, y_val)) # Validation data"
   ]
  },
  {
   "cell_type": "markdown",
   "metadata": {
    "Collapsed": "false"
   },
   "source": [
    "**Step 4**: Plot training curves and report the best validation accuracy."
   ]
  },
  {
   "cell_type": "code",
   "execution_count": 22,
   "metadata": {
    "Collapsed": "false"
   },
   "outputs": [
    {
     "name": "stdout",
     "output_type": "stream",
     "text": [
      "Best validation accuracy: 0.951049 at epoch:  56\n"
     ]
    },
    {
     "data": {
      "image/png": "[encoded data removed]",
      "text/plain": [
       "<Figure size 1152x360 with 2 Axes>"
      ]
     },
     "metadata": {
      "needs_background": "light"
     },
     "output_type": "display_data"
    }
   ],
   "source": [
    "# Print the best validation accuracy\n",
    "print('Best validation accuracy:',np.max(history.history['val_accuracy']), 'at epoch: ', np.argmax(history.history['val_accuracy']))\n",
    "\n",
    "# Plot training curves\n",
    "fig = plt.figure(figsize=(16,5))\n",
    "ax1 = fig.add_subplot(1, 2, 1) \n",
    "ax1.plot(history.history['loss'], label='Train Loss')\n",
    "ax1.plot(history.history['val_loss'], label='Validation Loss')\n",
    "ax1.set_title('Training curve')\n",
    "ax1.set_ylabel('Loss')\n",
    "ax1.set_xlabel('Epochs')\n",
    "ax1.grid(linestyle='--')\n",
    "ax1.legend()\n",
    "ax2 = fig.add_subplot(1, 2, 2) \n",
    "ax2.plot(history.history['accuracy'], label='Train Accuracy')\n",
    "ax2.plot(history.history['val_accuracy'], label='Validation Accuracy')\n",
    "ax2.set_title('Training curve')\n",
    "ax2.set_ylabel('Accuracy')\n",
    "ax2.set_xlabel('Epochs')\n",
    "ax2.grid(linestyle='--')\n",
    "ax2.legend()\n",
    "plt.show()"
   ]
  },
  {
   "cell_type": "markdown",
   "metadata": {
    "Collapsed": "false"
   },
   "source": [
    "## Neural Network on Protein Data\n",
    "Now, we go back again to the secretory dataset. First, we load it as before:"
   ]
  },
  {
   "cell_type": "code",
   "execution_count": 24,
   "metadata": {},
   "outputs": [
    {
     "name": "stdout",
     "output_type": "stream",
     "text": [
      "/home/jupyter-freddie2\n",
      "/home/jupyter-freddie2/ml_data\n",
      "ln: failed to create symbolic link './freq_train.txt': File exists\n",
      "ln: failed to create symbolic link './freq_val.txt': File exists\n",
      "ln: failed to create symbolic link './label_train.txt': File exists\n",
      "ln: failed to create symbolic link './label_val.txt': File exists\n",
      "/home/jupyter-freddie2/ml_data\n",
      "freq_train.txt\tfreq_val.txt  label_train.txt  label_val.txt\n"
     ]
    }
   ],
   "source": [
    "%cd\n",
    "%cd ml_data\n",
    "!ln -s /exercises/ml_intro/ml_data/freq_train.txt ./freq_train.txt\n",
    "!ln -s /exercises/ml_intro/ml_data/freq_val.txt ./freq_val.txt \n",
    "!ln -s /exercises/ml_intro/ml_data/label_train.txt ./label_train.txt\n",
    "!ln -s /exercises/ml_intro/ml_data/label_val.txt ./label_val.txt \n",
    "!pwd\n",
    "!ls"
   ]
  },
  {
   "cell_type": "markdown",
   "metadata": {},
   "source": [
    "##### Below are the names of the files use these strings to load the data (you have loaded such files before with numpy)\n",
    "\n",
    "`'freq_train.txt'`\n",
    "\n",
    "`'freq_val.txt'`\n",
    "\n",
    "`'label_train.txt'`\n",
    "\n",
    "`'label_val.txt'`"
   ]
  },
  {
   "cell_type": "code",
   "execution_count": 27,
   "metadata": {
    "Collapsed": "false"
   },
   "outputs": [],
   "source": [
    "X_train = ?\n",
    "y_train =?\n",
    "X_test = ?\n",
    "y_test = ?"
   ]
  },
  {
   "cell_type": "markdown",
   "metadata": {
    "Collapsed": "false"
   },
   "source": [
    "## Build your own model\n",
    "### Q3 (20 points): Create a Feed-forward neural network as you have done before (do not scale the data here). \n",
    "\n",
    "The architecture should be:\n",
    "1. Hidden layer with 64 units. Activation function ReLU.\n",
    "2. Output layer with 1 unit. Activation function Sigmoid.\n",
    "\n",
    "Leave the rest of the hyperparameters the same as with the previous dataset.\n",
    "**Hint:** Think about the number of features in you dataset "
   ]
  },
  {
   "cell_type": "code",
   "execution_count": null,
   "metadata": {
    "Collapsed": "false"
   },
   "outputs": [],
   "source": []
  },
  {
   "cell_type": "markdown",
   "metadata": {
    "Collapsed": "false"
   },
   "source": [
    "### Q4 (4 points): How many parameters does this network have?"
   ]
  },
  {
   "cell_type": "code",
   "execution_count": null,
   "metadata": {
    "Collapsed": "false"
   },
   "outputs": [],
   "source": []
  },
  {
   "cell_type": "markdown",
   "metadata": {
    "Collapsed": "false"
   },
   "source": [
    "#### Q5 (5 points): Which dimensions (shape) does the weights (or kernel) and bias of the hidden (dense) layer have?"
   ]
  },
  {
   "cell_type": "code",
   "execution_count": null,
   "metadata": {
    "Collapsed": "false"
   },
   "outputs": [],
   "source": []
  },
  {
   "cell_type": "markdown",
   "metadata": {
    "Collapsed": "false"
   },
   "source": [
    "### Q6 (5 points): Answer the following questions:\n",
    "- what is the difference between a parameter and a hyperparameter?\n",
    "- Are the weigths a parameter or a hyperparameter?\n",
    "- Is the weigths a parameter or a hyperparameter?"
   ]
  },
  {
   "cell_type": "markdown",
   "metadata": {
    "Collapsed": "false"
   },
   "source": [
    "### Q7 (10 points): Train, then plot the training curve and report the best validation accuracy."
   ]
  },
  {
   "cell_type": "code",
   "execution_count": null,
   "metadata": {
    "Collapsed": "false"
   },
   "outputs": [],
   "source": []
  },
  {
   "cell_type": "markdown",
   "metadata": {
    "Collapsed": "false"
   },
   "source": [
    "### Q8 (10 points): Define the following terms and answer the questions:\n",
    "- Epoch:\n",
    "- Batch:\n",
    "- Learning rate:\n",
    "- Activation function:\n",
    "- Is the number of nodes a hyperparameter?:\n",
    "- Is the bias a hyperparameter?: "
   ]
  },
  {
   "cell_type": "code",
   "execution_count": null,
   "metadata": {
    "Collapsed": "false"
   },
   "outputs": [],
   "source": []
  },
  {
   "cell_type": "markdown",
   "metadata": {
    "Collapsed": "false"
   },
   "source": [
    "## Trying different models\n",
    "### Q9 (15 points):Try the following models and report for each of them the:\n",
    "- **Number of parameters**\n",
    "- **Training curves**\n",
    "- **Best validation accuracy**"
   ]
  },
  {
   "cell_type": "markdown",
   "metadata": {
    "Collapsed": "false"
   },
   "source": [
    "#### **Model 1**. Two hidden layers. \n",
    "\n",
    "**Architecture**:\n",
    "1. Hidden layer with 128 units. Activation function ReLU.\n",
    "2. Hidden layer with 64 units. Activation function ReLU. (Remove the input_shape argument in this layer)\n",
    "3. Output layer with 1 unit. Activation function Sigmoid."
   ]
  },
  {
   "cell_type": "code",
   "execution_count": null,
   "metadata": {
    "Collapsed": "false",
    "scrolled": true
   },
   "outputs": [],
   "source": []
  },
  {
   "cell_type": "markdown",
   "metadata": {
    "Collapsed": "false",
    "jupyter": {
     "source_hidden": true
    }
   },
   "source": [
    "#### **Model 2**. Small network. \n",
    "\n",
    "**Architecture**:\n",
    "1. Hidden layer with 5 units. Activation function ReLU.\n",
    "2. Output layer with 1 unit. Activation function Sigmoid."
   ]
  },
  {
   "cell_type": "code",
   "execution_count": null,
   "metadata": {
    "Collapsed": "false"
   },
   "outputs": [],
   "source": []
  },
  {
   "cell_type": "markdown",
   "metadata": {
    "Collapsed": "false"
   },
   "source": [
    "**Model 3**: Large learning rate. \n",
    "\n",
    "**Architecture**:\n",
    "1. Hidden layer with 64 units. Activation function ReLU.\n",
    "2. Output layer with 1 unit. Activation function Sigmoid.\n",
    "\n",
    "**Learning rate**: 0.1"
   ]
  },
  {
   "cell_type": "code",
   "execution_count": null,
   "metadata": {
    "Collapsed": "false"
   },
   "outputs": [],
   "source": []
  },
  {
   "cell_type": "markdown",
   "metadata": {
    "Collapsed": "false"
   },
   "source": [
    "**Model 4**: Small learning rate. \n",
    "\n",
    "**Architecture**:\n",
    "1. Hidden layer with 64 units. Activation function ReLU.\n",
    "2. Output layer with 1 unit. Activation function Sigmoid.\n",
    "\n",
    "**Learning rate**: 0.00001"
   ]
  },
  {
   "cell_type": "code",
   "execution_count": null,
   "metadata": {
    "Collapsed": "false"
   },
   "outputs": [],
   "source": []
  },
  {
   "cell_type": "markdown",
   "metadata": {
    "Collapsed": "false"
   },
   "source": [
    "### Q10 (7 points): Which model is overfitting the most? What do you think might be the cause?"
   ]
  },
  {
   "cell_type": "markdown",
   "metadata": {
    "Collapsed": "false"
   },
   "source": [
    "### Q11 (7 points): What main differences can you observe between using a large and a small learning rate?"
   ]
  },
  {
   "cell_type": "markdown",
   "metadata": {
    "Collapsed": "false"
   },
   "source": [
    "### Q12 (7 points): Which model do you think is the best? Why?"
   ]
  },
  {
   "cell_type": "code",
   "execution_count": null,
   "metadata": {
    "Collapsed": "false"
   },
   "outputs": [],
   "source": []
  }
 ],
 "metadata": {
  "kernelspec": {
   "display_name": "Python 3",
   "language": "python",
   "name": "python3"
  },
  "language_info": {
   "codemirror_mode": {
    "name": "ipython",
    "version": 3
   },
   "file_extension": ".py",
   "mimetype": "text/x-python",
   "name": "python",
   "nbconvert_exporter": "python",
   "pygments_lexer": "ipython3",
   "version": "3.6.7"
  }
 },
 "nbformat": 4,
 "nbformat_minor": 4
}
