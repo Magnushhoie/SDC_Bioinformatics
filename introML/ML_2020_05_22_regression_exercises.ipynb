{
 "cells": [
  {
   "cell_type": "markdown",
   "metadata": {},
   "source": [
    "# Regression exercise\n",
    "In this exercise we are going to code from scratch linear and logistic regression."
   ]
  },
  {
   "cell_type": "code",
   "execution_count": 1,
   "metadata": {
    "tags": []
   },
   "outputs": [],
   "source": [
    "#Import all the packages\n",
    "import numpy as np\n",
    "import matplotlib.pyplot as plt"
   ]
  },
  {
   "cell_type": "markdown",
   "metadata": {},
   "source": [
    "These are the functions that you will need, load them first."
   ]
  },
  {
   "cell_type": "code",
   "execution_count": 2,
   "metadata": {},
   "outputs": [],
   "source": [
    "def mse(y,y_hat):\n",
    "    '''Calculates mean square error'''\n",
    "    return np.mean(np.square(np.subtract(y,y_hat)))"
   ]
  },
  {
   "cell_type": "code",
   "execution_count": 3,
   "metadata": {},
   "outputs": [],
   "source": [
    "def rmse(y, y_hat):\n",
    "    \"Calculates Root mean square error\"\n",
    "    return 1-np.sqrt(mse(y,y_hat))"
   ]
  },
  {
   "cell_type": "code",
   "execution_count": 4,
   "metadata": {
    "tags": []
   },
   "outputs": [],
   "source": [
    "def logistic_loss(y,y_hat):\n",
    "    '''Calculates logistic loss'''\n",
    "    return -np.mean(y * np.log(y_hat) + (1-y) * np.log(1 - y_hat))"
   ]
  },
  {
   "cell_type": "code",
   "execution_count": 5,
   "metadata": {
    "tags": []
   },
   "outputs": [],
   "source": [
    "def sigmoid(Z):\n",
    "    '''Calculates the sigmoid function'''\n",
    "    return 1 / (1+np.exp(-Z))"
   ]
  },
  {
   "cell_type": "code",
   "execution_count": 6,
   "metadata": {
    "tags": []
   },
   "outputs": [],
   "source": [
    "def accuracy(y,y_hat):\n",
    "    '''Calculates the accuracy of a prediction'''\n",
    "    pred_y = np.round(y_hat)\n",
    "    return np.sum(pred_y == y)/len(y)"
   ]
  },
  {
   "cell_type": "code",
   "execution_count": 9,
   "metadata": {},
   "outputs": [
    {
     "name": "stdout",
     "output_type": "stream",
     "text": [
      "/home/jupyter-admin\n",
      "/home/jupyter-admin/ml_data\n",
      "/home/jupyter-admin/ml_data\n",
      "freq_train.txt\tfreq_val.txt  label_train.txt  label_val.txt\n"
     ]
    }
   ],
   "source": [
    "## Symbolic link to the data: \n",
    "%cd\n",
    "%mkdir ml_data\n",
    "%cd ml_data\n",
    "!ln -s /exercises/ml_intro/ml_data/freq_train.txt ./freq_train.txt # command to make symbolic link\n",
    "!ln -s /exercises/ml_intro/ml_data/freq_val.txt ./freq_val.txt # command to make symbolic link\n",
    "!ln -s /exercises/ml_intro/ml_data/label_train.txt ./label_train.txt # command to make symbolic link\n",
    "!ln -s /exercises/ml_intro/ml_data/label_val.txt ./label_val.txt # command to make symbolic link\n",
    "!pwd\n",
    "!ls"
   ]
  },
  {
   "cell_type": "markdown",
   "metadata": {},
   "source": [
    "Load the datasets using the function `np.loadtxt`."
   ]
  },
  {
   "cell_type": "code",
   "execution_count": 10,
   "metadata": {
    "tags": []
   },
   "outputs": [],
   "source": [
    "X_train = np.loadtxt('freq_train.txt')\n",
    "X_valid = np.loadtxt('freq_val.txt')\n",
    "y_train = np.loadtxt('label_train.txt')\n",
    "y_train = y_train.reshape(-1,1)\n",
    "y_valid = np.loadtxt('label_val.txt')\n",
    "y_valid = y_valid.reshape(-1,1)"
   ]
  },
  {
   "cell_type": "markdown",
   "metadata": {},
   "source": [
    "### Exercise 1\n",
    "\n",
    "**Q1**: For the Linear regression we will be predicting the frequencies for amino acid A based on the fequencies of amino acids C, D and E.\n",
    "The frequencies for C, D and E will thus be used as input and the frequencies for A, will be your labels when you train your model **(5 points)**"
   ]
  },
  {
   "cell_type": "code",
   "execution_count": 11,
   "metadata": {},
   "outputs": [],
   "source": [
    "# The dataset for linear regression exercise 1\n",
    "X_train_lin = X_train[:,1:4]\n",
    "X_valid_lin = X_valid[:,1:4]\n",
    "y_train_lin =  X_train[:,0]\n",
    "y_train_lin = y_train_lin.reshape(-1,1)\n",
    "y_valid_lin =  X_valid[:,0]\n",
    "y_valid_lin = y_valid_lin.reshape(-1,1)"
   ]
  },
  {
   "cell_type": "markdown",
   "metadata": {},
   "source": [
    "**Step 1:** Initialize the weight $w_{1}$ and bias $w_{0}$ with zeros. Think carefully which shape should have $w_{1}$ and $w_{0}$."
   ]
  },
  {
   "cell_type": "code",
   "execution_count": null,
   "metadata": {
    "tags": []
   },
   "outputs": [],
   "source": [
    "w1 = \n",
    "w0 ="
   ]
  },
  {
   "cell_type": "markdown",
   "metadata": {},
   "source": [
    "**Step 2**: Based on the **slide 13** complete the training loop for logistic regression. Feel free to add additional lines if you feel like you need them."
   ]
  },
  {
   "cell_type": "code",
   "execution_count": null,
   "metadata": {},
   "outputs": [],
   "source": [
    "# n_epochs: number of times the weights are updated, try to increase or decrease them\n",
    "n_epochs = 10000\n",
    "# lr: learning rate, rate at which the weights are changed\n",
    "lr = 0.1\n",
    "# list to save loss for each epoch\n",
    "loss_epochs = []\n",
    "for epoch in range(n_epochs):\n",
    "    y_hat = \n",
    "    loss =  \n",
    "    D0 =\n",
    "    D1 = \n",
    "    w1 =\n",
    "    w0 = \n",
    "    loss_epochs.append(loss)"
   ]
  },
  {
   "cell_type": "markdown",
   "metadata": {},
   "source": [
    "**Step 3**: Plot the training curve using the following code:"
   ]
  },
  {
   "cell_type": "code",
   "execution_count": null,
   "metadata": {
    "collapsed": true,
    "jupyter": {
     "outputs_hidden": true
    }
   },
   "outputs": [],
   "source": [
    "plt.figure(figsize=(10,7))\n",
    "plt.plot(loss_epochs)\n",
    "plt.title('Training curve')\n",
    "plt.ylabel('Loss')\n",
    "plt.xlabel('Epochs')\n",
    "plt.grid(linestyle='--')\n",
    "plt.show()"
   ]
  },
  {
   "cell_type": "markdown",
   "metadata": {},
   "source": [
    "**Q2**: Looking at the training curve, has the model converged? Explain why or why not **(2 points)**"
   ]
  },
  {
   "cell_type": "raw",
   "metadata": {},
   "source": []
  },
  {
   "cell_type": "markdown",
   "metadata": {},
   "source": [
    "**Q3**: Calculate the accuracy on the training set and validation set and report both of them. Has the model overfitted? Explain why or why not **(2 points)**"
   ]
  },
  {
   "cell_type": "code",
   "execution_count": null,
   "metadata": {},
   "outputs": [],
   "source": [
    "y_hat_train = \n",
    "y_hat_valid = \n",
    "train_accuracy =\n",
    "valid_accuracy ="
   ]
  },
  {
   "cell_type": "markdown",
   "metadata": {},
   "source": [
    "### Exercise 2\n",
    "\n",
    "**Q4**: Now we will be predicting the frequencies for amino acid A based on the fequencies of the 19 amino acids, using amino acid A as lable to predict the frequencies for amino A **(3 points)**"
   ]
  },
  {
   "cell_type": "code",
   "execution_count": null,
   "metadata": {},
   "outputs": [],
   "source": [
    "# The dataset for linear regression exercise 2\n",
    "X_train_lin = X_train[????]  # <--- input the correct slice to get 19 amino acids out of the 20\n",
    "X_valid_lin = X_valid[????]  # <--- input the correct slice to get 19 amino acids out of the 20\n",
    "y_train_lin =  X_train[:,0]\n",
    "y_train_lin = y_train_lin.reshape(-1,1)\n",
    "y_valid_lin =  X_valid[:,0]\n",
    "y_valid_lin = y_valid_lin.reshape(-1,1)"
   ]
  },
  {
   "cell_type": "code",
   "execution_count": null,
   "metadata": {},
   "outputs": [],
   "source": [
    "w1 = \n",
    "w0 ="
   ]
  },
  {
   "cell_type": "code",
   "execution_count": null,
   "metadata": {},
   "outputs": [],
   "source": [
    "# n_epochs: number of times the weights are updated, try to increase or decrease them\n",
    "n_epochs = 10000\n",
    "# lr: learning rate, rate at which the weights are changed\n",
    "lr = 0.1\n",
    "# list to save loss for each epoch\n",
    "loss_epochs = []\n",
    "for epoch in range(n_epochs):\n",
    "    y_hat = \n",
    "    loss =  \n",
    "    D0 =\n",
    "    D1 = \n",
    "    w1 =\n",
    "    w0 = \n",
    "    loss_epochs.append(loss)"
   ]
  },
  {
   "cell_type": "markdown",
   "metadata": {},
   "source": [
    "Plot the training curve using the following code:"
   ]
  },
  {
   "cell_type": "code",
   "execution_count": null,
   "metadata": {},
   "outputs": [],
   "source": [
    "plt.figure(figsize=(10,7))\n",
    "plt.plot(loss_epochs)\n",
    "plt.title('Training curve')\n",
    "plt.ylabel('Loss')\n",
    "plt.xlabel('Epochs')\n",
    "plt.grid(linestyle='--')\n",
    "plt.show()"
   ]
  },
  {
   "cell_type": "markdown",
   "metadata": {},
   "source": [
    "**Q5**: Looking at the training curve, has the model converged? Explain why or why not **(2 points)**"
   ]
  },
  {
   "cell_type": "raw",
   "metadata": {},
   "source": []
  },
  {
   "cell_type": "markdown",
   "metadata": {},
   "source": [
    "**Q6**: Calculate the accuracy on the training set and validation set and report both of them. Has the model overfitted? Explain why or why not **(2 points)**"
   ]
  },
  {
   "cell_type": "code",
   "execution_count": null,
   "metadata": {},
   "outputs": [],
   "source": [
    "y_hat_train = \n",
    "y_hat_valid = \n",
    "train_accuracy =\n",
    "valid_accuracy ="
   ]
  },
  {
   "cell_type": "markdown",
   "metadata": {},
   "source": [
    "**Q7**: Which of the two datasets obtained the best results, the dataset from exercise 1 or exercise 2 and explain why? **(3 points)**"
   ]
  },
  {
   "cell_type": "raw",
   "metadata": {},
   "source": []
  },
  {
   "cell_type": "markdown",
   "metadata": {},
   "source": [
    "### Exercise 3\n",
    "\n",
    "Knowing how to code from scratch is always a good thing for your general understanding, but knowing the different libraries and how to use them, can make implemetation a bit quicker in real life. \n",
    "\n",
    "You will thus now implement `sklearn`"
   ]
  },
  {
   "cell_type": "code",
   "execution_count": null,
   "metadata": {},
   "outputs": [],
   "source": [
    "from sklearn import linear_model\n",
    "# set up the model:\n",
    "lm_model = linear_model.LinearRegression()\n",
    "\n",
    "# train the model:\n",
    "lm_model.fit(X_train_lin, y_train_lin.reshape(-1,))\n",
    "\n",
    "# use the model to make predictions:\n",
    "y_hat_train = lm_model.predict(X_train_lin)\n",
    "y_hat_valid = lm_model.predict(X_valid_lin)\n",
    "\n",
    "# calculate performance\n",
    "train_accuracy = rmse(y_train_lin.reshape((-1,)),y_hat_train)\n",
    "valid_accuracy = rmse(y_valid_lin.reshape((-1,)),y_hat_valid)"
   ]
  },
  {
   "cell_type": "markdown",
   "metadata": {},
   "source": [
    "**Q8**: Report the accuracy on the training and validation set. Report the difference in accuracy between your model and the `sklearn` model. **(1 point)**"
   ]
  },
  {
   "cell_type": "code",
   "execution_count": null,
   "metadata": {},
   "outputs": [],
   "source": []
  },
  {
   "cell_type": "markdown",
   "metadata": {},
   "source": [
    "### Exercise 4"
   ]
  },
  {
   "cell_type": "markdown",
   "metadata": {},
   "source": [
    "**Q9**: In this exercise you will use the data as it was loaded, so for example X_train as is, using all 20 frequencies. Furthermore, instead of using amino acid A as your lable like you did in the earlier exercises, you will be using for example y_train as lable for X_train.  **(5 points)**\n",
    "\n",
    "**Step 1:** Initialize the weight $w_{1}$ and bias $w_{0}$ with zeros. Think carefully which shape should have $w_{1}$ and $w_{0}$."
   ]
  },
  {
   "cell_type": "code",
   "execution_count": null,
   "metadata": {},
   "outputs": [],
   "source": [
    "w1 = \n",
    "w0 ="
   ]
  },
  {
   "cell_type": "markdown",
   "metadata": {},
   "source": [
    "**Step 2**: Based on the **slide 21** complete the training loop for logistic regression. Feel free to add additional lines if you feel like you need them."
   ]
  },
  {
   "cell_type": "code",
   "execution_count": null,
   "metadata": {},
   "outputs": [],
   "source": [
    "# n_epochs: number of times the weights are updated, try to increase or decrease them\n",
    "n_epochs = 10000\n",
    "# lr: learning rate, rate at which the weights are changed\n",
    "lr = 0.1\n",
    "# list to save loss for each epoch\n",
    "loss_epochs = []\n",
    "for epoch in range(n_epochs):\n",
    "    Z =\n",
    "    y_hat = \n",
    "    loss =  \n",
    "    D0 =\n",
    "    D1 = \n",
    "    w1 =\n",
    "    w0 = \n",
    "    loss_epochs.append(loss)"
   ]
  },
  {
   "cell_type": "markdown",
   "metadata": {},
   "source": [
    "**Step 3**: Plot the training curve using the following code:"
   ]
  },
  {
   "cell_type": "code",
   "execution_count": null,
   "metadata": {},
   "outputs": [],
   "source": [
    "plt.figure(figsize=(10,7))\n",
    "plt.plot(loss_epochs)\n",
    "plt.title('Training curve')\n",
    "plt.ylabel('Loss')\n",
    "plt.xlabel('Epochs')\n",
    "plt.grid(linestyle='--')\n",
    "plt.show()"
   ]
  },
  {
   "cell_type": "markdown",
   "metadata": {},
   "source": [
    "**Q10**: Looking at the training curve, has the model converged? Explain why or why not **(2 points)**"
   ]
  },
  {
   "cell_type": "raw",
   "metadata": {},
   "source": []
  },
  {
   "cell_type": "markdown",
   "metadata": {},
   "source": [
    "**Step 4**: Try to run the training again but using `n_epochs = 100000` and `lr=0.5`. Plot the training curve as well.\n",
    "\n",
    "**Q11**: Looking at the new training curve, has the model converged? Explain why or why not **(2 points)**"
   ]
  },
  {
   "cell_type": "code",
   "execution_count": null,
   "metadata": {},
   "outputs": [],
   "source": []
  },
  {
   "cell_type": "code",
   "execution_count": null,
   "metadata": {},
   "outputs": [],
   "source": []
  },
  {
   "cell_type": "markdown",
   "metadata": {},
   "source": [
    "**Q12**: Calculate the accuracy on the training set and validation set and report both of them. Has the model overfitted? Explain why or why not **(2 points)**\n",
    "\n"
   ]
  },
  {
   "cell_type": "code",
   "execution_count": null,
   "metadata": {
    "collapsed": true,
    "jupyter": {
     "outputs_hidden": true
    }
   },
   "outputs": [],
   "source": [
    "y_hat_train = \n",
    "y_hat_valid = \n",
    "train_accuracy =\n",
    "valid_accuracy = "
   ]
  },
  {
   "cell_type": "markdown",
   "metadata": {},
   "source": [
    "### Exercise 5\n",
    "\n",
    "**Q13**: Here it is an example on how to do logistic regression with `sklearn`. Report the accuracy on the training and validation set. Report the difference in accuracy between your model and the `sklearn` model **(1 point)**"
   ]
  },
  {
   "cell_type": "code",
   "execution_count": null,
   "metadata": {},
   "outputs": [],
   "source": [
    "from sklearn import linear_model\n",
    "# set up the model:\n",
    "lm_model = linear_model.LogisticRegression()\n",
    "\n",
    "# train the model:\n",
    "lm_model.fit(X_train, y_train.reshape(-1,))\n",
    "\n",
    "# use the model to make predictions:\n",
    "y_hat_train = lm_model.predict(X_train)\n",
    "y_hat_valid = lm_model.predict(X_valid)\n",
    "\n",
    "# calculate performance\n",
    "train_accuracy = accuracy(y_train.reshape((-1,)),y_hat_train)\n",
    "valid_accuracy = accuracy(y_valid.reshape((-1,)),y_hat_valid)"
   ]
  },
  {
   "cell_type": "markdown",
   "metadata": {},
   "source": [
    "**Q14**: When should we use linear regression and why? **(3 points)**"
   ]
  },
  {
   "cell_type": "raw",
   "metadata": {},
   "source": []
  },
  {
   "cell_type": "markdown",
   "metadata": {},
   "source": [
    "**Q15**: When should we use logistic regression and why? **(3 points)**"
   ]
  },
  {
   "cell_type": "raw",
   "metadata": {},
   "source": []
  }
 ],
 "metadata": {
  "kernelspec": {
   "display_name": "Python 3",
   "language": "python",
   "name": "python3"
  },
  "language_info": {
   "codemirror_mode": {
    "name": "ipython",
    "version": 3
   },
   "file_extension": ".py",
   "mimetype": "text/x-python",
   "name": "python",
   "nbconvert_exporter": "python",
   "pygments_lexer": "ipython3",
   "version": "3.6.7"
  }
 },
 "nbformat": 4,
 "nbformat_minor": 4
}
