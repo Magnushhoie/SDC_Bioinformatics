{
 "cells": [
  {
   "cell_type": "markdown",
   "metadata": {},
   "source": [
    "# Introduction to Numpy and Matplotlib"
   ]
  },
  {
   "cell_type": "markdown",
   "metadata": {},
   "source": [
    "First, lets check that everything is installed correctly. Try to import all these packages."
   ]
  },
  {
   "cell_type": "code",
   "execution_count": null,
   "metadata": {},
   "outputs": [],
   "source": [
    "import numpy as np\n",
    "import matplotlib.pyplot as plt\n",
    "import sklearn\n",
    "from Bio import SeqIO\n",
    "from Bio.SeqUtils.ProtParam import ProteinAnalysis"
   ]
  },
  {
   "cell_type": "markdown",
   "metadata": {},
   "source": [
    "## 1. Creating arrays with NumPy"
   ]
  },
  {
   "cell_type": "markdown",
   "metadata": {},
   "source": [
    "### Vectors"
   ]
  },
  {
   "cell_type": "code",
   "execution_count": null,
   "metadata": {},
   "outputs": [],
   "source": [
    "a = np.array([1,2,3,4])\n",
    "print(a)\n",
    "print(type(a))"
   ]
  },
  {
   "cell_type": "markdown",
   "metadata": {},
   "source": [
    "### Matrices"
   ]
  },
  {
   "cell_type": "code",
   "execution_count": null,
   "metadata": {},
   "outputs": [],
   "source": [
    "# Integers\n",
    "b = np.array([[1,2,3,4],[5,6,7,8]])\n",
    "print(b)"
   ]
  },
  {
   "cell_type": "code",
   "execution_count": null,
   "metadata": {},
   "outputs": [],
   "source": [
    "# Floats\n",
    "c = np.array([[1.2,2.1,3.7,4.1],[5.3,6.1,7.2,8.1]])\n",
    "print(c)"
   ]
  },
  {
   "cell_type": "markdown",
   "metadata": {},
   "source": [
    "We can check the dimensions of the array with `.shape`"
   ]
  },
  {
   "cell_type": "code",
   "execution_count": null,
   "metadata": {},
   "outputs": [],
   "source": [
    "print(b.shape)"
   ]
  },
  {
   "cell_type": "markdown",
   "metadata": {},
   "source": [
    "We can make operations like transposing or reshaping"
   ]
  },
  {
   "cell_type": "code",
   "execution_count": null,
   "metadata": {},
   "outputs": [],
   "source": [
    "print(b.T)"
   ]
  },
  {
   "cell_type": "code",
   "execution_count": null,
   "metadata": {},
   "outputs": [],
   "source": [
    "print(b.reshape((1,8)))"
   ]
  },
  {
   "cell_type": "markdown",
   "metadata": {},
   "source": [
    "We can initialize arrays in different ways with zeros, ones or a range."
   ]
  },
  {
   "cell_type": "code",
   "execution_count": null,
   "metadata": {},
   "outputs": [],
   "source": [
    "print(np.ones((3,3)))\n",
    "print(np.zeros((3,3)))\n",
    "print(np.arange(12))"
   ]
  },
  {
   "cell_type": "markdown",
   "metadata": {},
   "source": [
    "## 2. Matrices operations"
   ]
  },
  {
   "cell_type": "code",
   "execution_count": null,
   "metadata": {},
   "outputs": [],
   "source": [
    "# Vectors\n",
    "x = np.array([1,2,3,4])\n",
    "y = np.array([5,6,7,8])\n",
    "# Matrices\n",
    "X = np.array([[1,2,3,4],[5,6,7,8]])\n",
    "Y = np.array([[4,3,1,2],[8,6,5,7]])"
   ]
  },
  {
   "cell_type": "code",
   "execution_count": null,
   "metadata": {},
   "outputs": [],
   "source": [
    "print(x)\n",
    "print(y)\n",
    "print(X)\n",
    "print(Y)"
   ]
  },
  {
   "cell_type": "markdown",
   "metadata": {},
   "source": [
    "### Sum"
   ]
  },
  {
   "cell_type": "code",
   "execution_count": null,
   "metadata": {},
   "outputs": [],
   "source": [
    "print(x + y)"
   ]
  },
  {
   "cell_type": "code",
   "execution_count": null,
   "metadata": {},
   "outputs": [],
   "source": [
    "print(X+Y)"
   ]
  },
  {
   "cell_type": "markdown",
   "metadata": {},
   "source": [
    "### Scalar product"
   ]
  },
  {
   "cell_type": "code",
   "execution_count": null,
   "metadata": {},
   "outputs": [],
   "source": [
    "print(4*X)"
   ]
  },
  {
   "cell_type": "code",
   "execution_count": null,
   "metadata": {},
   "outputs": [],
   "source": [
    "print(X/3)"
   ]
  },
  {
   "cell_type": "markdown",
   "metadata": {},
   "source": [
    "### Element-wise multiplication"
   ]
  },
  {
   "cell_type": "code",
   "execution_count": null,
   "metadata": {},
   "outputs": [],
   "source": [
    "print(X*Y)"
   ]
  },
  {
   "cell_type": "markdown",
   "metadata": {},
   "source": [
    "### Matrix-matrix product\n",
    "We need to always check the dimensions of our matrices before multiplying"
   ]
  },
  {
   "cell_type": "code",
   "execution_count": null,
   "metadata": {},
   "outputs": [],
   "source": [
    "print(X.shape)\n",
    "print(Y.shape)"
   ]
  },
  {
   "cell_type": "markdown",
   "metadata": {},
   "source": [
    "We cannot multiply them because the dimension do not match. `(2,4) x (2,4)` this gives an error."
   ]
  },
  {
   "cell_type": "code",
   "execution_count": null,
   "metadata": {},
   "outputs": [],
   "source": [
    "print(np.dot(X,Y))"
   ]
  },
  {
   "cell_type": "markdown",
   "metadata": {},
   "source": [
    " Therefore, we need to transpose either X or Y. So if we transpose X, we will have `(4,2) x (2,4)`, and now the dimensiones match (the last dimension of the first matrix is equal to the first dimension of the last matrix). "
   ]
  },
  {
   "cell_type": "code",
   "execution_count": null,
   "metadata": {},
   "outputs": [],
   "source": [
    "t_X = X.T\n",
    "print(np.dot(t_X,Y))"
   ]
  },
  {
   "cell_type": "markdown",
   "metadata": {},
   "source": [
    "To multiply a vector by a matrix, you need reshape the vector."
   ]
  },
  {
   "cell_type": "code",
   "execution_count": null,
   "metadata": {},
   "outputs": [],
   "source": [
    "print(x.shape)\n",
    "print(X.shape)"
   ]
  },
  {
   "cell_type": "markdown",
   "metadata": {},
   "source": [
    "If we try to multiply them, the dimensions are `(4) x (2,4)`, which does not match. Then, we need to reshape `x` and transpose `X`."
   ]
  },
  {
   "cell_type": "code",
   "execution_count": null,
   "metadata": {},
   "outputs": [],
   "source": [
    "x_res = x.reshape((1,4))\n",
    "print(x_res.shape)"
   ]
  },
  {
   "cell_type": "code",
   "execution_count": null,
   "metadata": {},
   "outputs": [],
   "source": [
    "print(np.dot(x_res,t_X))"
   ]
  },
  {
   "cell_type": "markdown",
   "metadata": {},
   "source": [
    "## 3. Slicing matrices\n",
    "Slicing matrices is similar to slicing regular list in python."
   ]
  },
  {
   "cell_type": "markdown",
   "metadata": {},
   "source": [
    "We can access the first row of a matrix or the first column."
   ]
  },
  {
   "cell_type": "code",
   "execution_count": null,
   "metadata": {},
   "outputs": [],
   "source": [
    "# Everything\n",
    "print(X[:])\n",
    "# Row\n",
    "print(X[0])\n",
    "# Column\n",
    "print(X[:,0])"
   ]
  },
  {
   "cell_type": "markdown",
   "metadata": {},
   "source": [
    "We can access certain elements or a range of them."
   ]
  },
  {
   "cell_type": "code",
   "execution_count": null,
   "metadata": {},
   "outputs": [],
   "source": [
    "# 1 and 3 column\n",
    "print(X[:,(0,2)])\n",
    "# From 1 to 3\n",
    "print(X[:,:3])"
   ]
  },
  {
   "cell_type": "markdown",
   "metadata": {},
   "source": [
    "You can also slice based on a condition."
   ]
  },
  {
   "cell_type": "code",
   "execution_count": null,
   "metadata": {},
   "outputs": [],
   "source": [
    "print(X[X > 3])\n",
    "print(X[Y == 3])"
   ]
  },
  {
   "cell_type": "markdown",
   "metadata": {},
   "source": [
    "## 4. Plotting with matplotlib\n",
    "Lets get first some datasets that we can plot easily."
   ]
  },
  {
   "cell_type": "code",
   "execution_count": null,
   "metadata": {},
   "outputs": [],
   "source": [
    "import sklearn.datasets as datasets"
   ]
  },
  {
   "cell_type": "code",
   "execution_count": null,
   "metadata": {},
   "outputs": [],
   "source": [
    "data = datasets.load_iris()\n",
    "all_X = data.data\n",
    "X = all_X[:,0]\n",
    "Y = all_X[:,1]\n",
    "t = data.target\n",
    "t_n = data.target_names.tolist()\n",
    "print(X.shape)\n",
    "print(Y.shape)"
   ]
  },
  {
   "cell_type": "markdown",
   "metadata": {},
   "source": [
    "### Scatter plot"
   ]
  },
  {
   "cell_type": "code",
   "execution_count": null,
   "metadata": {},
   "outputs": [],
   "source": [
    "plt.scatter(X,Y)\n",
    "plt.show()"
   ]
  },
  {
   "cell_type": "code",
   "execution_count": null,
   "metadata": {},
   "outputs": [],
   "source": [
    "plt.figure(figsize=(10,7))\n",
    "plt.scatter(X,Y, c=t)\n",
    "plt.title('Sepal Length vs Length Width')\n",
    "plt.xlabel('Sepal Length')\n",
    "plt.ylabel('Sepal Width')\n",
    "plt.grid()\n",
    "plt.show()"
   ]
  },
  {
   "cell_type": "markdown",
   "metadata": {},
   "source": [
    "### Histogram"
   ]
  },
  {
   "cell_type": "code",
   "execution_count": null,
   "metadata": {},
   "outputs": [],
   "source": [
    "plt.hist(X)\n",
    "plt.show()"
   ]
  },
  {
   "cell_type": "code",
   "execution_count": null,
   "metadata": {},
   "outputs": [],
   "source": [
    "plt.figure(figsize=(10,7))\n",
    "plt.hist(x=X, color='blue', alpha=0.7, rwidth=0.85)\n",
    "plt.title('Sepal Length distribution')\n",
    "plt.xlabel('Sepal Length')\n",
    "plt.ylabel('Frequency')\n",
    "plt.grid(alpha=0.5, linestyle='--')\n",
    "plt.show()"
   ]
  },
  {
   "cell_type": "code",
   "execution_count": null,
   "metadata": {},
   "outputs": [],
   "source": [
    "plt.figure(figsize=(10,7))\n",
    "plt.hist(x=t, bins='auto', color='red', alpha=0.7, rwidth=0.85)\n",
    "plt.title('Classes distribution')\n",
    "plt.xlabel('Iris plant')\n",
    "plt.ylabel('Frequency')\n",
    "plt.xticks([0.1,1,1.9],t_n)\n",
    "plt.grid(alpha=0.5, linestyle='--')\n",
    "plt.show()"
   ]
  },
  {
   "cell_type": "markdown",
   "metadata": {},
   "source": [
    "### Boxplot"
   ]
  },
  {
   "cell_type": "code",
   "execution_count": null,
   "metadata": {},
   "outputs": [],
   "source": [
    "plt.boxplot(all_X)\n",
    "plt.show()"
   ]
  },
  {
   "cell_type": "code",
   "execution_count": null,
   "metadata": {},
   "outputs": [],
   "source": [
    "plt.figure(figsize=(10,7))\n",
    "plt.boxplot(all_X)\n",
    "plt.title('Features distribution')\n",
    "plt.ylabel('Centimeters')\n",
    "plt.xticks([1,2,3,4],data.feature_names)\n",
    "plt.grid(alpha=0.5, linestyle='--')\n",
    "plt.show()"
   ]
  },
  {
   "cell_type": "code",
   "execution_count": null,
   "metadata": {},
   "outputs": [],
   "source": [
    "plt.figure(figsize=(10,7))\n",
    "plt.boxplot([X[t==0],X[t==1],X[t==2]])\n",
    "plt.title('Sepal Length distribution in the different classes')\n",
    "plt.ylabel('Centimeters')\n",
    "plt.grid(alpha=0.5, linestyle='--')\n",
    "plt.xticks([1,2,3],data.target_names)\n",
    "plt.show()"
   ]
  },
  {
   "cell_type": "markdown",
   "metadata": {},
   "source": [
    "### Line plot"
   ]
  },
  {
   "cell_type": "code",
   "execution_count": null,
   "metadata": {},
   "outputs": [],
   "source": [
    "plt.plot(np.arange(150),all_X[:,0])\n",
    "plt.plot(np.arange(150),all_X[:,1])\n",
    "plt.plot(np.arange(150),all_X[:,2])\n",
    "plt.plot(np.arange(150),all_X[:,3])\n",
    "plt.show()"
   ]
  },
  {
   "cell_type": "code",
   "execution_count": null,
   "metadata": {},
   "outputs": [],
   "source": [
    "plt.figure(figsize=(10,7))\n",
    "plt.plot(np.arange(150),all_X[:,0], label=data.feature_names[0])\n",
    "plt.plot(np.arange(150),all_X[:,1], label=data.feature_names[1])\n",
    "plt.plot(np.arange(150),all_X[:,2], label=data.feature_names[2])\n",
    "plt.plot(np.arange(150),all_X[:,3], label=data.feature_names[3])\n",
    "plt.xlabel('Examples')\n",
    "plt.ylabel('Centimeters')\n",
    "plt.grid(alpha=0.5, linestyle='--')\n",
    "plt.legend()\n",
    "plt.show()"
   ]
  },
  {
   "cell_type": "markdown",
   "metadata": {},
   "source": [
    "# Exercises\n",
    "\n",
    "The aim of this exercise is for you to get familiar with how to work with vector and matrix operations and get you familiar with different python libraries commonly used\n",
    "\n",
    "In this exercise you will learn:\n",
    "\n",
    "- how to work with vector operations and matrix operations by hand\n",
    "\n",
    "- How to work with vector operations and matrix operations using the python library NumPy\n",
    "\n",
    "- How to plot using the comprehensive python library to do visualizations called Matplotlib \n",
    "\n",
    "- and be introduced to a widely used python machine learning library, namely Scikit-learn\n"
   ]
  },
  {
   "cell_type": "markdown",
   "metadata": {},
   "source": [
    "#### First let's start with with vector operations and matrix operations by hand"
   ]
  },
  {
   "cell_type": "markdown",
   "metadata": {},
   "source": [
    "**Q1**: Create a new vector using scalar-vector multiplication **(1 point)**\n",
    "\n",
    "! Remember to use different numbers from the slides else you won't get a point !"
   ]
  },
  {
   "cell_type": "raw",
   "metadata": {},
   "source": []
  },
  {
   "cell_type": "markdown",
   "metadata": {},
   "source": [
    "**Q2**: Create a new matrix using matrix-matrix product **(1 point)**\n",
    "\n",
    "! Remember to use different numbers from the slides and example else you won't get a point !"
   ]
  },
  {
   "cell_type": "raw",
   "metadata": {},
   "source": [
    "Example of how to show the numbers used and how it was calculated:\n",
    "        1 2\n",
    "2 3 4   2 0  \n",
    "3 4 2   2 1    = (2)(1)+(3)(2)......etc = final matrix\n",
    "                 (3)(1)............etc"
   ]
  },
  {
   "cell_type": "raw",
   "metadata": {},
   "source": []
  },
  {
   "cell_type": "markdown",
   "metadata": {},
   "source": [
    "#### Now let's work with vector and matrix operations using the NumPy library"
   ]
  },
  {
   "cell_type": "markdown",
   "metadata": {},
   "source": [
    "**Q3**: Create a matrix $X$ of shape `(4,2)` of integers (they should not be all zeros or ones). Do the transpose of $X$ and calculate the matrix-matrix product of $X^{T}X$ and $XX^{T}$ **(1 point)**"
   ]
  },
  {
   "cell_type": "code",
   "execution_count": null,
   "metadata": {},
   "outputs": [],
   "source": []
  },
  {
   "cell_type": "markdown",
   "metadata": {},
   "source": [
    "**Q4**: Create a vector $b$ of shape `(5,)` of integers (they should not be all zeros or ones). \n",
    "Try to do element-wise multiplication of $X^{T}*b$ and sum $X^{T} + b$.\n",
    "What happened and why? **(1 point)**\n",
    "\n"
   ]
  },
  {
   "cell_type": "code",
   "execution_count": null,
   "metadata": {},
   "outputs": [],
   "source": []
  },
  {
   "cell_type": "markdown",
   "metadata": {},
   "source": [
    "**Q5**: Do element-wise multiplication of $X^{T}*x$ and sum $X^{T} + x$.\n",
    "What happened and why? **(1 point)**"
   ]
  },
  {
   "cell_type": "code",
   "execution_count": null,
   "metadata": {},
   "outputs": [],
   "source": []
  },
  {
   "cell_type": "markdown",
   "metadata": {},
   "source": [
    "**Q6**. Calculate the mean of the vector $b$. Hint: `np.sum` **(1 point)**"
   ]
  },
  {
   "cell_type": "code",
   "execution_count": null,
   "metadata": {},
   "outputs": [],
   "source": []
  },
  {
   "cell_type": "markdown",
   "metadata": {},
   "source": [
    "**Q7**: Create a matrix `W` of shape `(2,5)` of floats (in between 0 and 1). Calcuate $y$; $y=XW +b$ **(1 point)**"
   ]
  },
  {
   "cell_type": "code",
   "execution_count": null,
   "metadata": {},
   "outputs": [],
   "source": []
  },
  {
   "cell_type": "markdown",
   "metadata": {},
   "source": [
    "**Q8**: Calculate the following function $Z = 1/(1 - e^{y})$. Hint: np.exp **(1 point)**"
   ]
  },
  {
   "cell_type": "code",
   "execution_count": null,
   "metadata": {},
   "outputs": [],
   "source": []
  },
  {
   "cell_type": "markdown",
   "metadata": {},
   "source": [
    "**Q9**: Extract the values of $Z$ that are positive. What do you see and why? **(1 point)**"
   ]
  },
  {
   "cell_type": "code",
   "execution_count": null,
   "metadata": {},
   "outputs": [],
   "source": []
  },
  {
   "cell_type": "markdown",
   "metadata": {},
   "source": [
    "#### Now we will work with the popular Scikit-learn and Matplotlib libraries"
   ]
  },
  {
   "cell_type": "markdown",
   "metadata": {},
   "source": [
    "**Q10**: Inspect the diabetes dataset from Scikit-learn (sklearn). **(1 point)**\n",
    " - How many samples does the dataset consist of?\n",
    " - what does the target data represent?\n"
   ]
  },
  {
   "cell_type": "raw",
   "metadata": {},
   "source": []
  },
  {
   "cell_type": "code",
   "execution_count": null,
   "metadata": {},
   "outputs": [],
   "source": [
    "data = datasets.load_diabetes()\n",
    "all_X = data.data\n",
    "target = data.target"
   ]
  },
  {
   "cell_type": "code",
   "execution_count": null,
   "metadata": {},
   "outputs": [],
   "source": [
    "data"
   ]
  },
  {
   "cell_type": "markdown",
   "metadata": {},
   "source": [
    "**Q11**: Produce 3 different plots based on the features and target of that dataset and describe what you observe in the plots **(2 points)**"
   ]
  },
  {
   "cell_type": "code",
   "execution_count": null,
   "metadata": {},
   "outputs": [],
   "source": []
  },
  {
   "cell_type": "code",
   "execution_count": null,
   "metadata": {},
   "outputs": [],
   "source": []
  },
  {
   "cell_type": "code",
   "execution_count": null,
   "metadata": {},
   "outputs": [],
   "source": []
  },
  {
   "cell_type": "markdown",
   "metadata": {},
   "source": [
    "# Dataset for machine learning\n",
    "The aim of this exercise is for you to learn how to cluster proteins by similarity, extract features from the protein sequences and perform homology partitioning. There is one package to install before you start the exercise. Do `pip install biopython`. For the exercise you need to show in this notebook the code for each exercise and the answer for each question."
   ]
  },
  {
   "cell_type": "markdown",
   "metadata": {},
   "source": [
    "### Exercise 1\n",
    "\n",
    "We will be usinf CD-HIT on the dataset `multiloc_secretory.fasta`. You can read more about CD-HIT and how it works [here](https://github.com/weizhongli/cdhit/wiki/3.-User%27s-Guide#CDHIT).\n",
    "\n",
    "\n",
    "Once that the job is finished, a `*.clstr` file and a file containg the fasta sequences will be generated. "
   ]
  },
  {
   "cell_type": "code",
   "execution_count": null,
   "metadata": {},
   "outputs": [],
   "source": [
    "%cd\n",
    "!rm -Rf ml_data\n",
    "!mkdir ml_data\n",
    "%cd ml_data\n",
    "!ln -s /exercises/ml_intro/ml_data/multiloc_secretory.fasta ./multiloc_secretory.fasta # command to make symbolic link\n",
    "!pwd\n",
    "!ls"
   ]
  },
  {
   "cell_type": "code",
   "execution_count": null,
   "metadata": {},
   "outputs": [],
   "source": [
    "# cd-hit command\n",
    "!cd-hit -i \"multiloc_secretory.fasta\" -o multiloc40 -c 0.40 -n 2 -G 0 -aS 0.80"
   ]
  },
  {
   "cell_type": "markdown",
   "metadata": {},
   "source": [
    "**Q1**: Describe briefly the CD-HIT algorithm and what the different parameters used in the command means **(1 point)**"
   ]
  },
  {
   "cell_type": "raw",
   "metadata": {},
   "source": []
  },
  {
   "cell_type": "markdown",
   "metadata": {},
   "source": [
    "**Q2**: Inspect the `*.clstr` file and describe briefly the format **(1 point)**"
   ]
  },
  {
   "cell_type": "raw",
   "metadata": {},
   "source": []
  },
  {
   "cell_type": "markdown",
   "metadata": {},
   "source": [
    "**Q3**: How many clusters has CD-HIT produced? **(1 point)**"
   ]
  },
  {
   "cell_type": "raw",
   "metadata": {},
   "source": []
  },
  {
   "cell_type": "markdown",
   "metadata": {},
   "source": [
    "### Exercise 2\n",
    "**Q4**: Read the `*.clstr` file and create a dictionary (`cluster_dict`) where the **key** is the **accession number** and the **value** is the **cluster number** **(2 points)**\n",
    "\n",
    "Hint: You will need to code this "
   ]
  },
  {
   "cell_type": "code",
   "execution_count": null,
   "metadata": {},
   "outputs": [],
   "source": []
  },
  {
   "cell_type": "markdown",
   "metadata": {},
   "source": [
    "### Exercise 3\n",
    "**Q5**: Inspect the `multiloc_secretory.fasta` file and get familiar with it. Read the `multiloc_secretory.fasta` file into python and create two dictionaries.\n",
    "- One dictionary (`frequencies_dict`) where the **key** is the **accession number** and the **value** is a **list of the amino acid frequencies of the N-terminal part of the protein**. We will define the N-terminal part as the **first 30** amino acids in the protein sequence.\n",
    "- One dictionary (`class_dict`) where the **key** is the **accession number** and the **value** is the **class** (Secretory or Non-Secretory). **(3 points)**\n",
    "\n",
    "To read the fasta file you can use Biopython or create your own function. Biopython example: https://biopython.org/wiki/SeqIO under `Sequence Input` section.\n",
    "\n",
    "To calculate the list of the amino acid frequencies use the following code: \n",
    "\n",
    "\n",
    "\n",
    "Hint: You will need to code this "
   ]
  },
  {
   "cell_type": "code",
   "execution_count": null,
   "metadata": {},
   "outputs": [],
   "source": [
    "# n_terminal_seq is a string with the protein sequence\n",
    "analysed_seq = ProteinAnalysis(n_terminal_seq)\n",
    "# aa_frquencies will be a list with 20 values, one for the frequency of each amino acid\n",
    "aa_frequencies = list(analysed_seq.get_amino_acids_percent().values())"
   ]
  },
  {
   "cell_type": "code",
   "execution_count": null,
   "metadata": {},
   "outputs": [],
   "source": []
  },
  {
   "cell_type": "markdown",
   "metadata": {},
   "source": [
    "### Exercise 4\n",
    "Run the `dataset_partition` function, which takes as input the dictionary with the **cluster number** (`cluster_dict`) as the first argument and the dictionary with the **class** (`class_dict`) as the second argument. This will create a new dictionary `partition_dict`, which assigns each protein to either **Train** or **Validation** set based on the cluster number."
   ]
  },
  {
   "cell_type": "code",
   "execution_count": null,
   "metadata": {},
   "outputs": [],
   "source": [
    "def dataset_partition(cluster_dict, class_dict):\n",
    "    ''' Function to separate proteins into N partitions with balanced classes'''\n",
    "    \n",
    "    \n",
    "    n_partitions = 5\n",
    "    n_class = 2\n",
    "    sec_dict = {'Non-secretory':0,'Secretory':1}\n",
    "    label_list = []\n",
    "    for prot_id in cluster_dict:\n",
    "        label_list.append(sec_dict[class_dict[prot_id]])\n",
    "        \n",
    "    cluster_vector = np.array(list(cluster_dict.values()))  \n",
    "    label_vector = np.array(label_list)            \n",
    "    \n",
    "    \n",
    "    # Unique cluster number                    \n",
    "    u_cluster = np.unique(cluster_vector)\n",
    "    \n",
    "    # Initialize matrices\n",
    "    loc_number = np.ones((n_partitions,n_class))\n",
    "    cl_number = np.zeros(cluster_vector.shape[0])\n",
    "    \n",
    "    for i in u_cluster:\n",
    "        # Extract the labels for the proteins in that cluster\n",
    "        positions = np.where(cluster_vector == i)\n",
    "        cl_labels = label_vector[positions]\n",
    "        \n",
    "        # Count number of each class\n",
    "        u, count = np.unique(cl_labels, return_counts=True)\n",
    "        \n",
    "        u = u.astype(np.int32)\n",
    "        temp_loc_number = np.copy(loc_number)\n",
    "        temp_loc_number[:,u] += count\n",
    "        loc_per = loc_number/temp_loc_number\n",
    "        best_group = np.argmin(np.sum(loc_per,axis=1))\n",
    "        loc_number[best_group,u] += count\n",
    "        \n",
    "        # Store the selected partition\n",
    "        cl_number[positions] = best_group\n",
    "    \n",
    "    part_numbers = loc_number.astype(np.int32)-np.ones(loc_number.shape)\n",
    "    \n",
    "    tr_numbers = part_numbers[:4]\n",
    "    val_numbers = part_numbers[4]\n",
    "    print('Training set. Secretory: %i; Non-secretory: %i\\n' % (np.sum(tr_numbers[:,1]),np.sum(tr_numbers[:,0])))\n",
    "    print('Validation set. Secretory: %i; Non-secretory: %i\\n' % (val_numbers[1],val_numbers[0]))\n",
    "    index = 0\n",
    "    output_dict = {}\n",
    "    for prot_id in cluster_dict:\n",
    "        if cl_number[index] == 4:\n",
    "            output_dict[prot_id] = 'Valid'\n",
    "        else:\n",
    "            output_dict[prot_id] = 'Train'\n",
    "        index += 1\n",
    "    \n",
    "    return output_dict"
   ]
  },
  {
   "cell_type": "markdown",
   "metadata": {},
   "source": [
    "**Q6**: Why do we need to take into consideration the cluster number when dividing the dataset into train and validation set? **(2 points)**"
   ]
  },
  {
   "cell_type": "raw",
   "metadata": {},
   "source": []
  },
  {
   "cell_type": "markdown",
   "metadata": {},
   "source": [
    "**Q7**: How many secretory and non-secretory samples do we see in the training and test set? What is the total sample size of the training set? What is the total sample size of the test set? **(1 point)**"
   ]
  },
  {
   "cell_type": "code",
   "execution_count": null,
   "metadata": {},
   "outputs": [],
   "source": []
  },
  {
   "cell_type": "markdown",
   "metadata": {},
   "source": [
    "### Exercise 5\n",
    "**Q8**: Create 4 output files based on the created dictionaries: \n",
    "- **freq_train.txt**. Amino acid frequencies for the proteins belonging to the train set (Tabular file with 20 columns).\n",
    "- **freq_valid.txt**. Amino acid frequencies for the proteins belonging to the validation set (Tabular file with 20 columns). \n",
    "- **class_train.txt**. Label for the proteins belonging to the train set. Write `0` for `Non-secretory` and `1` for `Secretory`. (Tabular file with 1 column).\n",
    "- **class_valid.txt**. Label for the proteins belonging to the validation set. Write `0` for `Non-secretory` and `1` for `Secretory`. (Tabular file with 1 column). **(2 points)**\n",
    "\n",
    "Note. You can create these 4 files using a single `for loop` through `partition_dict`, to make sure that order of `freq_*.txt` and `class_*.txt` is the same.\n",
    "\n",
    "Hint: To convert a list into text separated by tabs use: `'\\t'.join(map(str,your_list))`.\n",
    "\n",
    "\n",
    "Hint: You will need to code this "
   ]
  },
  {
   "cell_type": "code",
   "execution_count": null,
   "metadata": {},
   "outputs": [],
   "source": []
  }
 ],
 "metadata": {
  "kernelspec": {
   "display_name": "Python 3",
   "language": "python",
   "name": "python3"
  },
  "language_info": {
   "codemirror_mode": {
    "name": "ipython",
    "version": 3
   },
   "file_extension": ".py",
   "mimetype": "text/x-python",
   "name": "python",
   "nbconvert_exporter": "python",
   "pygments_lexer": "ipython3",
   "version": "3.6.7"
  }
 },
 "nbformat": 4,
 "nbformat_minor": 2
}
