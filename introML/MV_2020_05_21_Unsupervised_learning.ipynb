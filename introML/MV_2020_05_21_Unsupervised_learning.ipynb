{
 "cells": [
  {
   "cell_type": "markdown",
   "metadata": {},
   "source": [
    "# Part 1: Introduction and brief overview\n",
    "\n",
    "This workshop is conducted by ***Milena Vujović$^{1}$***,  ***Frederikke Isa Marin$^{1}$*** and ***Anna-lisa Schaap-Johansen$^{1}$***. \n",
    "\n",
    "You have already gone through some data wrangling and visualisation, as well as looking up documentation. Therefore, today's exercise will be more independent and you are expected to look at yesterdays notebook for reminding yourself how to do certain steps if you don't remember e.g. loading the data. \n",
    "\n",
    "\n",
    "Today we will go over unsupervised learning algortihms. Specifically, agglomerative hierarchical and k-means clustering.\n",
    "\n",
    "At the end of this day you should be able to:\n",
    "1. analyse your data with clustering techniques \n",
    "2. confidently plot the results of your analysis\n",
    "3. assess and compare different clustering methods.\n",
    "\n",
    "\n",
    "We will go over two datasets in order to fullfil our goals. \n",
    "\n",
    "The first dataset stored in \"aa_frequency_location.tsv\" has information on the N-terminus of proteins. The dataset cosists of two classes Secretory and Non-secretory proteins. The input consists of 20 features, which are the amino acid frequencies of the first 30 amino acids of a protein (N-terminal part). Our main question is whether or not we can see any differnces in amino acid usage between secretory and non secretory proteins and how can we use this to classify the proteins. \n",
    "\n",
    "The second dataset is stored in \"tissue_expression.tsv\". It contains gene expression levels for 189 samples and 7 tissues. \n",
    "\n",
    "(source: http://genomicsclass.github.io/book/pages/pca_svd.html)\n",
    "\n",
    "\n",
    "***\n",
    "You can contact us at<br>\n",
    "Milena Vujovic: milvu@dtu.dk (twitter: *@sciencisto* ) <br>\n",
    "Frederikke Isa Marin: frisa@dtu.dk (twitter: *@fimarin42) <br> \n",
    "Anna-Lisa Schaap-Johansen: alsj@dtu.dk (twitter: *@SchaapJohansen) <br>\n",
    "and also for the duration of this course on wechat :)\n",
    "\n",
    "$^{1}$ Bioinformatics section, DTU Health Technology, Technical University of Denmark, Greater Copenhagen area, Denmark<br>\n"
   ]
  },
  {
   "cell_type": "code",
   "execution_count": null,
   "metadata": {},
   "outputs": [],
   "source": [
    "# Load packages\n",
    "import numpy as np\n",
    "import pandas as pd\n",
    "import seaborn as sns\n",
    "\n",
    "import matplotlib.pyplot as plt\n",
    "import matplotlib.colors as colors\n",
    "import matplotlib.cm as cmx\n",
    "\n",
    "from sklearn import decomposition\n",
    "from sklearn import preprocessing\n",
    "from sklearn.preprocessing import StandardScaler\n",
    "from sklearn.cluster import KMeans\n",
    "from scipy.cluster.hierarchy import dendrogram, linkage \n"
   ]
  },
  {
   "cell_type": "code",
   "execution_count": null,
   "metadata": {},
   "outputs": [],
   "source": []
  },
  {
   "cell_type": "code",
   "execution_count": null,
   "metadata": {},
   "outputs": [],
   "source": [
    "plt.rcParams['figure.figsize'] = [10, 10]"
   ]
  },
  {
   "cell_type": "code",
   "execution_count": null,
   "metadata": {},
   "outputs": [],
   "source": [
    "## Symbolic link to the data: \n",
    "%cd\n",
    "%cd ml_data\n",
    "!ln -s /exercises/ml_intro/ml_data/aa_frequency_location.tsv ./aa_frequency_location.tsv # command to make symbolic link\n",
    "!ln -s /exercises/ml_intro/ml_data/aa_frequency_location_incomplete.tsv ./aa_frequency_location_incomplete.tsv # command to make symbolic link\n",
    "!ln -s /exercises/ml_intro/ml_data/tissue_expression.tsv ./tissue_expression.tsv # command to make symbolic link\n",
    "!pwd\n",
    "!ls"
   ]
  },
  {
   "cell_type": "markdown",
   "metadata": {},
   "source": [
    "# Load the data (1 point)\n",
    "\n",
    "Load the data into a pandas dataframe called aa_freq_loc_df"
   ]
  },
  {
   "cell_type": "code",
   "execution_count": null,
   "metadata": {
    "scrolled": true
   },
   "outputs": [],
   "source": []
  },
  {
   "cell_type": "markdown",
   "metadata": {},
   "source": [
    "# Hiearchical clustering \n",
    "\n",
    "Now we will perform agglomerative hierarchical clustering on the same data. \n",
    "\n",
    "## Q1 what are the two types of hiearchical clustering? (1 point)"
   ]
  },
  {
   "cell_type": "markdown",
   "metadata": {},
   "source": [
    "**Answer** "
   ]
  },
  {
   "cell_type": "markdown",
   "metadata": {},
   "source": [
    "Now lets try to perform hierarchical clustering on the same data. The first step is to calculate the linkage. Linkage is the measure of the dissimilarity between two sets that determines how two sets are merged. There are different ways of calcuting it. \n",
    "\n",
    "## Q2 What are the 4 most common ways of calculating linkage in agglomerative hierarchical clustering? (1 point)"
   ]
  },
  {
   "cell_type": "markdown",
   "metadata": {},
   "source": [
    "**Answer**: "
   ]
  },
  {
   "cell_type": "markdown",
   "metadata": {},
   "source": [
    "As you might remember from yesterday, our dataset has 3058 data points. This might be difficult to visualise at once with a dendogram. Therefore we will take a random sample of 50 proteins for the purposes of todays exercise. "
   ]
  },
  {
   "cell_type": "code",
   "execution_count": null,
   "metadata": {
    "scrolled": true
   },
   "outputs": [],
   "source": [
    "np.random.seed(42)\n",
    "aa_freq_loc_df_subsample = aa_freq_loc_df.loc[np.random.choice(aa_freq_loc_df.index, 50, replace=False)]\n",
    "aa_freq_loc_df_subsample"
   ]
  },
  {
   "cell_type": "markdown",
   "metadata": {},
   "source": [
    "## Q3 Reset the index of the dataframe. What is the shape of the dataframe? (1 point)"
   ]
  },
  {
   "cell_type": "code",
   "execution_count": null,
   "metadata": {},
   "outputs": [],
   "source": []
  },
  {
   "cell_type": "markdown",
   "metadata": {},
   "source": [
    "## Q4 Split the dataset into observables and categorical variables (3 point)\n",
    "\n",
    "After extracting the categorical variables as a single column from the aa_freq_loc_df_subsample, convert them to a list. \n",
    "\n",
    "Name the observables: frequencies\n",
    "\n",
    "Name the categorical variables: labels_list"
   ]
  },
  {
   "cell_type": "code",
   "execution_count": null,
   "metadata": {},
   "outputs": [],
   "source": []
  },
  {
   "cell_type": "markdown",
   "metadata": {},
   "source": [
    "## Q5 Calculate the average linkage of the dataset using the **linkage** function and store it in variable Z_AL (1 point)\n",
    "\n",
    "\n",
    "*Hint* The first argument of this function is the data, the second is the method. Use the linkage? in jupyter to see the documentation on the function\n",
    "\n",
    "\n"
   ]
  },
  {
   "cell_type": "code",
   "execution_count": null,
   "metadata": {
    "scrolled": true
   },
   "outputs": [],
   "source": []
  },
  {
   "cell_type": "markdown",
   "metadata": {},
   "source": [
    "## Q6 Plot the dendogram (2 point)\n",
    "\n",
    "Check which distance was used by default in the linkage (use the linkage?) and name the x axis accordingly. Change the title and axis of the plot. \n",
    "\n",
    "Using the code bellow as inspiration plot the dendogram of the clustering result(linkage) and add labels to the dendogram.\n",
    "\n",
    "`plt.figure()\n",
    "plt.title('Title') \n",
    "plt.xlabel('Distance')\n",
    "plt.ylabel('Categorical variable')\n",
    "dendrogram(linkage_result,labels=categorical_variable_list, color_threshold=50, orientation='right', leaf_font_size=8.)\n",
    "plt.show()`\n",
    "\n"
   ]
  },
  {
   "cell_type": "code",
   "execution_count": null,
   "metadata": {},
   "outputs": [],
   "source": []
  },
  {
   "cell_type": "markdown",
   "metadata": {},
   "source": [
    "## Q7 Create a complete linkage dendogram of the subset data (1 point)\n",
    "\n",
    "Name the linkage Z_CL "
   ]
  },
  {
   "cell_type": "code",
   "execution_count": null,
   "metadata": {},
   "outputs": [],
   "source": []
  },
  {
   "cell_type": "markdown",
   "metadata": {},
   "source": [
    "## Q8 Create a single linkage dendogram of the subset data (1 point)\n",
    "\n",
    "Name the linkage Z_SL "
   ]
  },
  {
   "cell_type": "code",
   "execution_count": null,
   "metadata": {},
   "outputs": [],
   "source": []
  },
  {
   "cell_type": "markdown",
   "metadata": {},
   "source": [
    "## Q9 Create a ward linkage dendogram of the subset data (1 point)\n",
    "\n",
    "Name the linkage Z_WL "
   ]
  },
  {
   "cell_type": "code",
   "execution_count": null,
   "metadata": {},
   "outputs": [],
   "source": []
  },
  {
   "cell_type": "markdown",
   "metadata": {},
   "source": [
    "Each linakge method has pros and cons: \n",
    "\n",
    "**Complete linkage**\n",
    "- Maximum dissimilarity between points in two sets used to determine which two sets should be merged.\n",
    "- Often gives comparable cluster sizes.\n",
    "- Less sensitive to outliers.\n",
    "- Works better with spherical distributions.\n",
    "\n",
    "**Single linkage**\n",
    "- Maximum dissimilarity between points in two sets used to determine which two sets should be merged.\n",
    "- Often gives comparable cluster sizes.\n",
    "- Less sensitive to outliers.\n",
    "- Works better with spherical distributions.\n",
    "\n",
    "**Average and Ward linkage**\n",
    "\n",
    "- Average dissimilarity between points in two sets used to determine which two sets should be merged. \n",
    "- A compromise between single and complete linkage.\n",
    "- Less sensitive to outliers.\n",
    "- Works better with spherical distributions.\n",
    "\n",
    "It might be difficult to visualise and understand why the different linkage clusteing behave the way they do without seeing individual values of amino acid frequency. We will us a heatmap to show frequency values along with the dendogram. \n",
    "\n",
    "## Q10 Create a dendogram with heatmap using the code bellow as inspiration. (3 points)\n",
    "\n",
    "`#add coloured labels to the dendogram in the correct order!\n",
    "colour_map = dict(zip(categorical_variable.unique(), \"rbg\"))\n",
    "row_colours = categorical_variable.map(colour_map)\n",
    "\n",
    "#create heatmap\n",
    "g = sns.clustermap(df_subsample, row_colors = row_colours, z_score = 1, , col_cluster=False )\n",
    "#colour labels \n",
    "for tick_label in g.ax_heatmap.axes.get_yticklabels():\n",
    "    tick_text = tick_label.get_text()\n",
    "    category_name = categorical_variable.loc[int(tick_text)]\n",
    "    tick_label.set_color(colour_map[category_name])\n",
    "    \n",
    "for label in categorical_variable.unique():\n",
    "    g.ax_col_dendrogram.bar(0, 0, color=colour_map[label],\n",
    "                            label=label, linewidth=0)\n",
    "    \n",
    "g.ax_col_dendrogram.legend(loc=\"center\", ncol=5)`"
   ]
  },
  {
   "cell_type": "code",
   "execution_count": null,
   "metadata": {},
   "outputs": [],
   "source": [
    "# we need to split the data into observbles and categorical data and save in a pandas dataframe\n",
    "location = aa_freq_loc_df_subsample[\"location\"] # categorical_variable \n",
    "aa_freq_loc_df_subsample = aa_freq_loc_df_subsample.drop(\"location\", axis = 1) # df_subsample"
   ]
  },
  {
   "cell_type": "code",
   "execution_count": null,
   "metadata": {},
   "outputs": [],
   "source": []
  },
  {
   "cell_type": "markdown",
   "metadata": {},
   "source": [
    "## Q11 Look at the documentation and find which linkage was used by default in creating the dendogram (1 point)"
   ]
  },
  {
   "cell_type": "markdown",
   "metadata": {},
   "source": [
    "**Answer** "
   ]
  },
  {
   "cell_type": "markdown",
   "metadata": {},
   "source": [
    "## Q12 We use the argument argument z_score = 1 in the sns.clustermap function. Look at the documentation and explain what this argument does (do not copy from documentation - use your own words) (2 points)\n"
   ]
  },
  {
   "cell_type": "markdown",
   "metadata": {},
   "source": [
    "**Answer**  "
   ]
  },
  {
   "cell_type": "markdown",
   "metadata": {},
   "source": [
    "## Q 13 Which linkage method do you think performed worst? Can you try to explain why that might be? (2 points )"
   ]
  },
  {
   "cell_type": "markdown",
   "metadata": {},
   "source": [
    "**Answer** "
   ]
  },
  {
   "cell_type": "markdown",
   "metadata": {},
   "source": [
    "# K-means clustering\n",
    "\n",
    "The last type of clustering that we are going to try is K-means. This time we will use the whole dataset again. \n",
    "\n",
    "## Q 14 split the dataset into observables and variables like in Q4, only this time using the whole dataset - aa_freq_loc_df (1 point) "
   ]
  },
  {
   "cell_type": "code",
   "execution_count": null,
   "metadata": {},
   "outputs": [],
   "source": []
  },
  {
   "cell_type": "markdown",
   "metadata": {},
   "source": [
    "Run it with the following function, where n is the number of clusters that we decide beforehand. In this case lets start with 2, because we know that there are 2 different classes."
   ]
  },
  {
   "cell_type": "code",
   "execution_count": null,
   "metadata": {},
   "outputs": [],
   "source": [
    "n=2\n",
    "kmeans = KMeans(n_clusters=n) \n",
    "kmeans.fit(frequencies) \n",
    "kmeans_labels = kmeans.labels_"
   ]
  },
  {
   "cell_type": "markdown",
   "metadata": {},
   "source": [
    "## Q15 Perform PCA on the frequency data as we did before (1 point)\n",
    "\n",
    "Steps: \n",
    "\n",
    "1. Scale the data \n",
    "2. Perform PCA on scaled data, set number of components 12. Save output in finalDF \n"
   ]
  },
  {
   "cell_type": "code",
   "execution_count": null,
   "metadata": {},
   "outputs": [],
   "source": [
    "# Scale the data \n"
   ]
  },
  {
   "cell_type": "code",
   "execution_count": null,
   "metadata": {},
   "outputs": [],
   "source": [
    "# perform PCA\n"
   ]
  },
  {
   "cell_type": "markdown",
   "metadata": {},
   "source": [
    "## Q 16 Plot the PCA, but using the labels produced with K-means (kmeans_labels) (3 points)\n",
    "\n",
    "Use the custom made function from bellow: "
   ]
  },
  {
   "cell_type": "code",
   "execution_count": null,
   "metadata": {},
   "outputs": [],
   "source": [
    "def plot_kmeans_on_pca(x,y,labels,xlabel,ylabel):\n",
    "# Code to color each sample based on the frequency\n",
    "    unique_labels = np.unique(labels)\n",
    "    hot = plt.get_cmap('Set2')\n",
    "    cNorm  = colors.Normalize(vmin=0, vmax=len(unique_labels))\n",
    "    scalarMap = cmx.ScalarMappable(norm=cNorm, cmap=hot)\n",
    "# Set figure size\n",
    "    plt.figure(figsize=(10,10))\n",
    "# Plot samples for each different label\n",
    "    for i in range(len(unique_labels)):\n",
    "        indx = labels == unique_labels[i]\n",
    "        plt.scatter(x[indx], y[indx], s=30, color=scalarMap.to_rgba(i), label=unique_labels[i], alpha = 0.5)\n",
    "    plt.xlabel(xlabel)\n",
    "    plt.ylabel(ylabel)\n",
    "    plt.title('K-means on PCA layout')\n",
    "    plt.legend()\n",
    "    plt.show()"
   ]
  },
  {
   "cell_type": "code",
   "execution_count": null,
   "metadata": {},
   "outputs": [],
   "source": []
  },
  {
   "cell_type": "markdown",
   "metadata": {},
   "source": [
    "### Q17 Compare the labels with the K-means predicted labels. Are they similar? (2 points)\n",
    "*Hint* compare to PCA plot on data from visualisation exercise"
   ]
  },
  {
   "cell_type": "code",
   "execution_count": null,
   "metadata": {},
   "outputs": [],
   "source": []
  },
  {
   "cell_type": "markdown",
   "metadata": {},
   "source": [
    "### Q18 Re-run K-means using a small cluster number n and a large cluster number n. What happens in each case? (4 points )"
   ]
  },
  {
   "cell_type": "code",
   "execution_count": null,
   "metadata": {},
   "outputs": [],
   "source": []
  },
  {
   "cell_type": "markdown",
   "metadata": {},
   "source": [
    "### Run K means clustering on the tissue expression data set and plot the result on the PCA. Compare the labels. Are they similar? (7 points)\n",
    "\n",
    "Steps: \n",
    "\n",
    "1. load dataset\n",
    "2. split into observables and categorical variables. \n",
    "3. run k means clustering (think what should the number of clusters be now)\n",
    "4. Scale data \n",
    "5. Run PCA on scaled data \n",
    "6. Plot clustering result on top of PCA "
   ]
  },
  {
   "cell_type": "code",
   "execution_count": null,
   "metadata": {},
   "outputs": [],
   "source": []
  },
  {
   "cell_type": "code",
   "execution_count": null,
   "metadata": {},
   "outputs": [],
   "source": []
  },
  {
   "cell_type": "code",
   "execution_count": null,
   "metadata": {},
   "outputs": [],
   "source": []
  },
  {
   "cell_type": "code",
   "execution_count": null,
   "metadata": {},
   "outputs": [],
   "source": []
  },
  {
   "cell_type": "code",
   "execution_count": null,
   "metadata": {},
   "outputs": [],
   "source": []
  }
 ],
 "metadata": {
  "kernelspec": {
   "display_name": "Python 3",
   "language": "python",
   "name": "python3"
  },
  "language_info": {
   "codemirror_mode": {
    "name": "ipython",
    "version": 3
   },
   "file_extension": ".py",
   "mimetype": "text/x-python",
   "name": "python",
   "nbconvert_exporter": "python",
   "pygments_lexer": "ipython3",
   "version": "3.6.7"
  },
  "toc": {
   "base_numbering": 1,
   "nav_menu": {},
   "number_sections": true,
   "sideBar": true,
   "skip_h1_title": false,
   "title_cell": "Table of Contents",
   "title_sidebar": "Contents",
   "toc_cell": false,
   "toc_position": {},
   "toc_section_display": true,
   "toc_window_display": false
  }
 },
 "nbformat": 4,
 "nbformat_minor": 2
}
